{
 "cells": [
  {
   "cell_type": "markdown",
   "metadata": {},
   "source": [
    "# Convolutional neural networks"
   ]
  },
  {
   "cell_type": "markdown",
   "metadata": {},
   "source": [
    "In class, we have briefly reviewed the idea of learning good features directly from data and went through the concept of convolutional neural networks along with few architectures.\n",
    "\n",
    "Until recently, building convolutional neural networks was tough. There was no high-level tools for that, you would be required to understand all the internal mechanics of the model and its operations.\n",
    "\n",
    "Today, due to the high-level tools such as Keras and TensorFlow, everybody can build a convolutional neural network and put it to work without diving deep into them. What used to be a one-month project became a few hours exercise.\n"
   ]
  },
  {
   "cell_type": "code",
   "execution_count": 227,
   "metadata": {
    "ExecuteTime": {
     "end_time": "2019-03-06T16:53:21.353576Z",
     "start_time": "2019-03-06T16:53:21.349395Z"
    }
   },
   "outputs": [],
   "source": [
    "import pickle\n",
    "import numpy as np\n",
    "import keras\n",
    "from keras.preprocessing.image import ImageDataGenerator\n",
    "from keras.models import Sequential\n",
    "from keras.layers import Dense, Dropout, Activation, Flatten\n",
    "from keras.layers import Conv2D, MaxPooling2D\n",
    "import matplotlib.pyplot as plt\n",
    "import os"
   ]
  },
  {
   "cell_type": "markdown",
   "metadata": {},
   "source": [
    "## Loading the images"
   ]
  },
  {
   "cell_type": "code",
   "execution_count": 228,
   "metadata": {
    "ExecuteTime": {
     "end_time": "2019-03-06T16:53:21.760452Z",
     "start_time": "2019-03-06T16:53:21.356396Z"
    }
   },
   "outputs": [],
   "source": [
    "train_images, train_labels = pickle.load(open('data/train_set_all.pkl', 'rb'))\n",
    "cv_images, cv_labels = pickle.load(open('data/test_set_all.pkl', 'rb'))"
   ]
  },
  {
   "cell_type": "code",
   "execution_count": 229,
   "metadata": {
    "ExecuteTime": {
     "end_time": "2019-03-06T16:53:21.766228Z",
     "start_time": "2019-03-06T16:53:21.762448Z"
    }
   },
   "outputs": [
    {
     "name": "stdout",
     "output_type": "stream",
     "text": [
      "(50000, 32, 32, 3)\n",
      "50000\n"
     ]
    }
   ],
   "source": [
    "print(train_images.shape)\n",
    "print(len(train_labels))"
   ]
  },
  {
   "cell_type": "code",
   "execution_count": 230,
   "metadata": {
    "ExecuteTime": {
     "end_time": "2019-03-06T16:53:21.772667Z",
     "start_time": "2019-03-06T16:53:21.769159Z"
    }
   },
   "outputs": [
    {
     "name": "stdout",
     "output_type": "stream",
     "text": [
      "(10000, 32, 32, 3)\n",
      "10000\n"
     ]
    }
   ],
   "source": [
    "print(cv_images.shape)\n",
    "print(len(cv_labels))"
   ]
  },
  {
   "cell_type": "code",
   "execution_count": 231,
   "metadata": {
    "ExecuteTime": {
     "end_time": "2019-03-06T16:53:21.780026Z",
     "start_time": "2019-03-06T16:53:21.776724Z"
    }
   },
   "outputs": [
    {
     "name": "stdout",
     "output_type": "stream",
     "text": [
      "[6, 9, 9, 4, 1, 1, 2, 7, 8, 3]\n"
     ]
    }
   ],
   "source": [
    "print(train_labels[0:10])"
   ]
  },
  {
   "cell_type": "code",
   "execution_count": 232,
   "metadata": {
    "ExecuteTime": {
     "end_time": "2019-03-06T16:53:21.801456Z",
     "start_time": "2019-03-06T16:53:21.791613Z"
    }
   },
   "outputs": [],
   "source": [
    "# functions to save and load model weights\n",
    "def load_model(model_name, model):\n",
    "    dir = os.path.join(os.getcwd(), 'saved_models')\n",
    "    if not os.path.isdir(save_dir):\n",
    "        return None\n",
    "    model_path = os.path.join(save_dir, model_name)\n",
    "    model.load_weights(model_path)\n",
    "    return model\n",
    "    \n",
    "def save_model(model_name, model):\n",
    "    save_dir = os.path.join(os.getcwd(), 'saved_models')\n",
    "    # Save model and weights\n",
    "    if not os.path.isdir(save_dir):\n",
    "        os.makedirs(save_dir)\n",
    "    model_path = os.path.join(save_dir, model_name)\n",
    "    model.save(model_path)\n",
    "    print('Saved trained model at %s ' % model_path)\n",
    "    \n",
    "# def get_model_with_weights(model_func, need_to_train = False):\n",
    "#     model = model_func()\n",
    "#     if need_to_train == True:\n",
    "#         model.fit(train_images, Y_train, \n",
    "#               batch_size=32, nb_epoch=10, verbose=1)\n",
    "#         save_model(model_name = 'model_for_mnist')\n",
    "#     else:\n",
    "#         model = load_model('model_for_mnist', model)\n",
    "#     return model\n",
    "\n",
    "def print_model_results(model):\n",
    "    score = model.evaluate(cv_images, Y_cv, batch_size=32, verbose=1)\n",
    "    print('Test loss:', score[0])\n",
    "    print('Test accuracy:', score[1])\n",
    "    print(model.metrics_names)\n",
    "    print(score)"
   ]
  },
  {
   "cell_type": "code",
   "execution_count": 233,
   "metadata": {
    "ExecuteTime": {
     "end_time": "2019-03-06T16:53:21.812981Z",
     "start_time": "2019-03-06T16:53:21.808133Z"
    }
   },
   "outputs": [],
   "source": [
    "def show_image(np_array):\n",
    "    %matplotlib inline\n",
    "    plt.figure()\n",
    "    plt.imshow(np_array)"
   ]
  },
  {
   "cell_type": "code",
   "execution_count": 234,
   "metadata": {
    "ExecuteTime": {
     "end_time": "2019-03-06T16:53:21.817655Z",
     "start_time": "2019-03-06T16:53:21.814781Z"
    }
   },
   "outputs": [],
   "source": [
    "def show_example(data_set, labels, example_index):\n",
    "    show_image(data_set[example_index])\n",
    "    print('Label: ', labels[example_index])"
   ]
  },
  {
   "cell_type": "code",
   "execution_count": 235,
   "metadata": {
    "ExecuteTime": {
     "end_time": "2019-03-06T16:53:21.995910Z",
     "start_time": "2019-03-06T16:53:21.820841Z"
    }
   },
   "outputs": [
    {
     "name": "stdout",
     "output_type": "stream",
     "text": [
      "Label:  6\n"
     ]
    },
    {
     "data": {
      "image/png": "[encoded data removed]",
      "text/plain": [
       "<Figure size 432x288 with 1 Axes>"
      ]
     },
     "metadata": {
      "needs_background": "light"
     },
     "output_type": "display_data"
    }
   ],
   "source": [
    "show_example(train_images, train_labels, example_index = 0)"
   ]
  },
  {
   "cell_type": "code",
   "execution_count": 236,
   "metadata": {
    "ExecuteTime": {
     "end_time": "2019-03-06T16:53:22.161598Z",
     "start_time": "2019-03-06T16:53:21.998077Z"
    }
   },
   "outputs": [
    {
     "name": "stdout",
     "output_type": "stream",
     "text": [
      "Label:  3\n"
     ]
    },
    {
     "data": {
      "image/png": "[encoded data removed]",
      "text/plain": [
       "<Figure size 432x288 with 1 Axes>"
      ]
     },
     "metadata": {
      "needs_background": "light"
     },
     "output_type": "display_data"
    }
   ],
   "source": [
    "show_example(cv_images, cv_labels, example_index = 0)"
   ]
  },
  {
   "cell_type": "markdown",
   "metadata": {},
   "source": [
    "## Building AlexNet"
   ]
  },
  {
   "cell_type": "markdown",
   "metadata": {},
   "source": [
    "In 2012 a convolutional neural network called AlexNet won ImageNet competition. \n",
    "\n",
    "Go through an [original AlexNet paper](https://papers.nips.cc/paper/4824-imagenet-classification-with-deep-convolutional-neural-networks.pdf) to investigate the architecture. Next, investigate the [basics of Keras](https://keras.io/#keras-the-python-deep-learning-library). We will use it with TensorFlow backend.\n",
    "\n",
    "You are also encouraged to go through some CNN tutorial for Keras. There is a number of them online (for example, [this](https://elitedatascience.com/keras-tutorial-deep-learning-in-python) or [this](https://machinelearningmastery.com/handwritten-digit-recognition-using-convolutional-neural-networks-python-keras/)).\n",
    "Now, build AlexNex network with Keras for object recognition. Note that standard AlexNet works with 224x224 input images. The dataset you are going to use for this problem is 32x32."
   ]
  },
  {
   "cell_type": "markdown",
   "metadata": {},
   "source": [
    "## Training AlexNet"
   ]
  },
  {
   "cell_type": "markdown",
   "metadata": {},
   "source": [
    "Use training set for training the network to recognize objects. You might want to use RMSProp optimizer to speed up the training.\n",
    "\n",
    "Convolutional networks require a lot of computing power for training. Typical setup for training CNN is to use GPU, however, in this problem you are not required to do so. CPU will be fine as well.\n",
    "\n",
    "If you are using CPU for this subproblem, training process might be slow. You can stop it manually as soon as you get meaningful results.\n",
    "\n",
    "Report the results on the training and cross-validation sets. The report should contain the training logs."
   ]
  },
  {
   "cell_type": "code",
   "execution_count": 237,
   "metadata": {
    "ExecuteTime": {
     "end_time": "2019-03-06T16:53:22.720090Z",
     "start_time": "2019-03-06T16:53:22.163673Z"
    }
   },
   "outputs": [
    {
     "name": "stdout",
     "output_type": "stream",
     "text": [
      "(50000, 3, 32, 32)\n",
      "(50000, 10)\n"
     ]
    }
   ],
   "source": [
    "# preprocessing input data\n",
    "\n",
    "train_images = train_images.reshape(train_images.shape[0], 3, 32, 32)\n",
    "cv_images = cv_images.reshape(cv_images.shape[0], 3, 32, 32)\n",
    "print(train_images.shape)\n",
    "\n",
    "train_images = train_images.astype('float32')\n",
    "cv_images = cv_images.astype('float32')\n",
    "train_images /= 255\n",
    "cv_images /= 255\n",
    "\n",
    "# print(len(train_labels))\n",
    "# print (train_labels[:10])\n",
    "# Convert 1-dimensional class arrays to 10-dimensional class matrices\n",
    "Y_train = np_utils.to_categorical(train_labels, 10)\n",
    "Y_cv = np_utils.to_categorical(cv_labels, 10)\n",
    "print (Y_train.shape)"
   ]
  },
  {
   "cell_type": "code",
   "execution_count": 238,
   "metadata": {
    "ExecuteTime": {
     "end_time": "2019-03-06T16:53:22.731815Z",
     "start_time": "2019-03-06T16:53:22.722143Z"
    }
   },
   "outputs": [],
   "source": [
    "# try model from https://elitedatascience.com/keras-tutorial-deep-learning-in-python\n",
    "# this model is suggested for MNIST dataset actually\n",
    "def create_mnist_model(need_to_train = False):\n",
    "    model = Sequential()\n",
    "\n",
    "    model.add(Convolution2D(32, 3, 3, dim_ordering=\"th\", activation='relu', input_shape=(3,32,32)))\n",
    "    model.add(Convolution2D(32, 3, 3, activation='relu'))\n",
    "    model.add(MaxPooling2D(pool_size=(2,2)))\n",
    "    model.add(Dropout(0.25))\n",
    "\n",
    "    model.add(Flatten())\n",
    "    model.add(Dense(128, activation='relu'))\n",
    "    model.add(Dropout(0.5))\n",
    "    model.add(Dense(10, activation='softmax'))\n",
    "    print (model.output_shape)\n",
    "\n",
    "    model.compile(loss='categorical_crossentropy',\n",
    "                  optimizer='adam',\n",
    "                  metrics=['accuracy'])\n",
    "    \n",
    "    if need_to_train == True:\n",
    "        model.fit(train_images, Y_train, \n",
    "              batch_size=32, nb_epoch=10, verbose=1)\n",
    "        save_model(model_name = 'model_for_mnist')\n",
    "    else:\n",
    "        model = load_model('model_for_mnist', model)\n",
    "        \n",
    "    return model"
   ]
  },
  {
   "cell_type": "code",
   "execution_count": 239,
   "metadata": {
    "ExecuteTime": {
     "end_time": "2019-03-06T16:53:24.408102Z",
     "start_time": "2019-03-06T16:53:22.734955Z"
    }
   },
   "outputs": [
    {
     "name": "stderr",
     "output_type": "stream",
     "text": [
      "/Applications/anaconda3/lib/python3.6/site-packages/ipykernel_launcher.py:6: UserWarning: Update your `Conv2D` call to the Keras 2 API: `Conv2D(32, (3, 3), activation=\"relu\", input_shape=(3, 32, 32..., data_format=\"channels_first\")`\n",
      "  \n",
      "/Applications/anaconda3/lib/python3.6/site-packages/ipykernel_launcher.py:7: UserWarning: Update your `Conv2D` call to the Keras 2 API: `Conv2D(32, (3, 3), activation=\"relu\")`\n",
      "  import sys\n"
     ]
    },
    {
     "name": "stdout",
     "output_type": "stream",
     "text": [
      "(None, 10)\n"
     ]
    }
   ],
   "source": [
    "# mnist_model = create_mnist_model()"
   ]
  },
  {
   "cell_type": "code",
   "execution_count": 240,
   "metadata": {
    "ExecuteTime": {
     "end_time": "2019-03-06T16:53:44.216132Z",
     "start_time": "2019-03-06T16:53:24.412768Z"
    }
   },
   "outputs": [
    {
     "name": "stdout",
     "output_type": "stream",
     "text": [
      "10000/10000 [==============================] - 20s 2ms/step\n",
      "Test loss: 2.3164710067749024\n",
      "Test accuracy: 0.1\n",
      "['loss', 'acc']\n",
      "[2.3164710067749024, 0.1]\n"
     ]
    }
   ],
   "source": [
    "# print_model_results(mnist_model)"
   ]
  },
  {
   "cell_type": "code",
   "execution_count": 241,
   "metadata": {
    "ExecuteTime": {
     "end_time": "2019-03-06T16:53:44.228715Z",
     "start_time": "2019-03-06T16:53:44.221650Z"
    }
   },
   "outputs": [],
   "source": [
    "# score = model.evaluate(cv_images, Y_cv, batch_size=32, verbose=1)\n",
    "# print('Test loss:', score[0])\n",
    "# print('Test accuracy:', score[1])\n",
    "# print(model.metrics_names)\n",
    "# print(score)"
   ]
  },
  {
   "cell_type": "code",
   "execution_count": 246,
   "metadata": {
    "ExecuteTime": {
     "end_time": "2019-03-06T16:55:29.820844Z",
     "start_time": "2019-03-06T16:55:29.817716Z"
    }
   },
   "outputs": [],
   "source": [
    "epochs = 50"
   ]
  },
  {
   "cell_type": "code",
   "execution_count": null,
   "metadata": {
    "ExecuteTime": {
     "start_time": "2019-03-06T18:10:50.843Z"
    },
    "hide_input": false
   },
   "outputs": [],
   "source": [
    "# https://engmrk.com/alexnet-implementation-using-keras/\n",
    "\n",
    "# Instantiate an empty model\n",
    "# def create_alexnet_model(need_to_train = False):\n",
    "#     model = Sequential()\n",
    "\n",
    "#     # 1st Convolutional Layer\n",
    "#     model.add(Conv2D(filters=96, \n",
    "#                      input_shape=train_images.shape[1:], \n",
    "#                      data_format = 'channels_first', \n",
    "#                      kernel_size=(5,5), \n",
    "#                      strides=(4,4), \n",
    "#                      padding='valid'))\n",
    "#     model.add(Activation('relu'))\n",
    "#     # Max Pooling\n",
    "#     model.add(MaxPooling2D(pool_size=(2,2), strides=(2,2), padding='valid'))\n",
    "\n",
    "#     # 2nd Convolutional Layer\n",
    "#     model.add(Conv2D(filters=256, kernel_size=(3,3), strides=(1,1), padding='valid'))\n",
    "#     model.add(Activation('relu'))\n",
    "#     # Max Pooling\n",
    "#     model.add(MaxPooling2D(pool_size=(2,2), strides=(2,2), padding='valid'))\n",
    "\n",
    "#     # 3rd Convolutional Layer\n",
    "#     model.add(Conv2D(filters=384, kernel_size=(3,3), strides=(1,1), padding='valid'))\n",
    "#     model.add(Activation('relu'))\n",
    "\n",
    "#     # 4th Convolutional Layer\n",
    "#     model.add(Conv2D(filters=384, kernel_size=(3,3), strides=(1,1), padding='valid'))\n",
    "#     model.add(Activation('relu'))\n",
    "\n",
    "#     # 5th Convolutional Layer\n",
    "#     model.add(Conv2D(filters=256, kernel_size=(3,3), strides=(1,1), padding='valid'))\n",
    "#     model.add(Activation('relu'))\n",
    "#     # Max Pooling\n",
    "#     model.add(MaxPooling2D(pool_size=(2,2), strides=(2,2), padding='valid'))\n",
    "\n",
    "#     # Passing it to a Fully Connected layer\n",
    "#     model.add(Flatten())\n",
    "#     # 1st Fully Connected Layer\n",
    "#     model.add(Dense(4096, input_shape=(32*32*3,)))\n",
    "#     model.add(Activation('relu'))\n",
    "#     # Add Dropout to prevent overfitting\n",
    "#     model.add(Dropout(0.4))\n",
    "\n",
    "#     # 2nd Fully Connected Layer\n",
    "#     model.add(Dense(4096))\n",
    "#     model.add(Activation('relu'))\n",
    "#     # Add Dropout\n",
    "#     model.add(Dropout(0.4))\n",
    "\n",
    "#     # 3rd Fully Connected Layer\n",
    "#     model.add(Dense(1000))\n",
    "#     model.add(Activation('relu'))\n",
    "#     # Add Dropout\n",
    "#     model.add(Dropout(0.4))\n",
    "\n",
    "#     # Output Layer\n",
    "#     model.add(Dense(17))\n",
    "#     model.add(Activation('softmax'))\n",
    "\n",
    "#     model.summary()\n",
    "\n",
    "#     # Compile the model\n",
    "#     model.compile(loss=keras.losses.categorical_crossentropy, optimizer='adam', metrics=[\"accuracy\"])\n",
    "    \n",
    "#     if need_to_train == True:\n",
    "#         model.fit(train_images, Y_train, \n",
    "#               batch_size=32, nb_epoch=10, verbose=1)\n",
    "#         save_model(model_name = 'alexnet_model')\n",
    "#     else:\n",
    "#         model = load_model('alexnet_model', model)\n",
    "\n",
    "#     return model\n",
    "\n",
    "\n",
    "# https://github.com/jkh911208/cswithjames/blob/master/8_CIFAR10_alexnet.py\n",
    "def create_alexnet_model(need_to_train = False):\n",
    "    # AlexNet Define the Model\n",
    "    model = Sequential()\n",
    "    # model.add(Conv2D(96, (11,11), strides=(4,4), activation='relu', padding='same', input_shape=(img_height, img_width, channel,)))\n",
    "    # for original Alexnet\n",
    "    model.add(Conv2D(96, (3,3), strides=(2,2), activation='relu', \n",
    "                     padding='same', \n",
    "                     input_shape=train_images.shape[1:], \n",
    "                     data_format = 'channels_first'))\n",
    "    model.add(MaxPooling2D(pool_size=(2, 2), strides=(2,2)))\n",
    "    # Local Response normalization for Original Alexnet\n",
    "    model.add(BatchNormalization())\n",
    "\n",
    "    model.add(Conv2D(256, (5,5), activation='relu', padding='same'))\n",
    "    model.add(MaxPooling2D(pool_size=(3, 3), strides=(2,2)))\n",
    "    # Local Response normalization for Original Alexnet\n",
    "    model.add(BatchNormalization())\n",
    "\n",
    "    model.add(Conv2D(384, (3,3), activation='relu', padding='same'))\n",
    "    model.add(Conv2D(384, (3,3), activation='relu', padding='same'))\n",
    "    model.add(Conv2D(256, (3,3), activation='relu', padding='same'))\n",
    "    model.add(MaxPooling2D(pool_size=(3, 3), strides=(2,2)))\n",
    "    # Local Response normalization for Original Alexnet\n",
    "    model.add(BatchNormalization())\n",
    "\n",
    "    model.add(Flatten())\n",
    "    model.add(Dense(4096, activation='tanh'))\n",
    "    model.add(Dropout(0.5))\n",
    "    model.add(Dense(4096, activation='tanh'))\n",
    "    model.add(Dropout(0.5))\n",
    "    model.add(Dense(num_classes, activation='softmax'))\n",
    "\n",
    "\n",
    "    # print the model summary\n",
    "    model.summary()\n",
    "\n",
    "    # determine Loss function and Optimizer\n",
    "    model.compile(loss='categorical_crossentropy',\n",
    "                  optimizer='adam',\n",
    "                  metrics=['accuracy'])\n",
    "    \n",
    "    if need_to_train == True:\n",
    "        model.fit(train_images, Y_train,\n",
    "                    batch_size=batch_size,\n",
    "                    epochs=epochs,\n",
    "                    verbose=1,\n",
    "                    validation_data=(cv_images, Y_cv),\n",
    "                    shuffle=True)\n",
    "        save_model(model_name = 'alexnet_model')\n",
    "    else:\n",
    "        model = load_model('alexnet_model', model)\n",
    "\n",
    "    return model_name\n",
    "\n",
    "    # Train the Model\n",
    "\n",
    "   "
   ]
  },
  {
   "cell_type": "code",
   "execution_count": 248,
   "metadata": {
    "ExecuteTime": {
     "end_time": "2019-03-06T17:50:50.353108Z",
     "start_time": "2019-03-06T16:55:34.330029Z"
    }
   },
   "outputs": [
    {
     "name": "stdout",
     "output_type": "stream",
     "text": [
      "_________________________________________________________________\n",
      "Layer (type)                 Output Shape              Param #   \n",
      "=================================================================\n",
      "conv2d_133 (Conv2D)          (None, 96, 16, 16)        2688      \n",
      "_________________________________________________________________\n",
      "max_pooling2d_65 (MaxPooling (None, 48, 8, 16)         0         \n",
      "_________________________________________________________________\n",
      "batch_normalization_7 (Batch (None, 48, 8, 16)         64        \n",
      "_________________________________________________________________\n",
      "conv2d_134 (Conv2D)          (None, 48, 8, 256)        102656    \n",
      "_________________________________________________________________\n",
      "max_pooling2d_66 (MaxPooling (None, 23, 3, 256)        0         \n",
      "_________________________________________________________________\n",
      "batch_normalization_8 (Batch (None, 23, 3, 256)        1024      \n",
      "_________________________________________________________________\n",
      "conv2d_135 (Conv2D)          (None, 23, 3, 384)        885120    \n",
      "_________________________________________________________________\n",
      "conv2d_136 (Conv2D)          (None, 23, 3, 384)        1327488   \n",
      "_________________________________________________________________\n",
      "conv2d_137 (Conv2D)          (None, 23, 3, 256)        884992    \n",
      "_________________________________________________________________\n",
      "max_pooling2d_67 (MaxPooling (None, 11, 1, 256)        0         \n",
      "_________________________________________________________________\n",
      "batch_normalization_9 (Batch (None, 11, 1, 256)        1024      \n",
      "_________________________________________________________________\n",
      "flatten_31 (Flatten)         (None, 2816)              0         \n",
      "_________________________________________________________________\n",
      "dense_65 (Dense)             (None, 4096)              11538432  \n",
      "_________________________________________________________________\n",
      "dropout_76 (Dropout)         (None, 4096)              0         \n",
      "_________________________________________________________________\n",
      "dense_66 (Dense)             (None, 4096)              16781312  \n",
      "_________________________________________________________________\n",
      "dropout_77 (Dropout)         (None, 4096)              0         \n",
      "_________________________________________________________________\n",
      "dense_67 (Dense)             (None, 10)                40970     \n",
      "=================================================================\n",
      "Total params: 31,565,770\n",
      "Trainable params: 31,564,714\n",
      "Non-trainable params: 1,056\n",
      "_________________________________________________________________\n",
      "Train on 50000 samples, validate on 10000 samples\n",
      "Epoch 1/50\n",
      "50000/50000 [==============================] - 1823s 36ms/step - loss: 5.8419 - acc: 0.1444 - val_loss: 2.3613 - val_acc: 0.1494\n",
      "Epoch 2/50\n",
      "44576/50000 [=========================>....] - ETA: 3:01 - loss: 2.8236 - acc: 0.1753"
     ]
    },
    {
     "ename": "KeyboardInterrupt",
     "evalue": "",
     "output_type": "error",
     "traceback": [
      "\u001b[0;31m---------------------------------------------------------------------------\u001b[0m",
      "\u001b[0;31mKeyboardInterrupt\u001b[0m                         Traceback (most recent call last)",
      "\u001b[0;32m<ipython-input-248-0f5c23c987d2>\u001b[0m in \u001b[0;36m<module>\u001b[0;34m\u001b[0m\n\u001b[0;32m----> 1\u001b[0;31m \u001b[0malexnet_model\u001b[0m \u001b[0;34m=\u001b[0m \u001b[0mcreate_alexnet_model\u001b[0m\u001b[0;34m(\u001b[0m\u001b[0;32mTrue\u001b[0m\u001b[0;34m)\u001b[0m\u001b[0;34m\u001b[0m\u001b[0;34m\u001b[0m\u001b[0m\n\u001b[0m",
      "\u001b[0;32m<ipython-input-247-353636185082>\u001b[0m in \u001b[0;36mcreate_alexnet_model\u001b[0;34m(need_to_train)\u001b[0m\n\u001b[1;32m    122\u001b[0m                     \u001b[0mepochs\u001b[0m\u001b[0;34m=\u001b[0m\u001b[0mepochs\u001b[0m\u001b[0;34m,\u001b[0m\u001b[0;34m\u001b[0m\u001b[0;34m\u001b[0m\u001b[0m\n\u001b[1;32m    123\u001b[0m                     \u001b[0mverbose\u001b[0m\u001b[0;34m=\u001b[0m\u001b[0;36m1\u001b[0m\u001b[0;34m,\u001b[0m\u001b[0;34m\u001b[0m\u001b[0;34m\u001b[0m\u001b[0m\n\u001b[0;32m--> 124\u001b[0;31m                     validation_data=(cv_images, Y_cv))\n\u001b[0m\u001b[1;32m    125\u001b[0m         \u001b[0msave_model\u001b[0m\u001b[0;34m(\u001b[0m\u001b[0mmodel_name\u001b[0m \u001b[0;34m=\u001b[0m \u001b[0;34m'alexnet_model'\u001b[0m\u001b[0;34m)\u001b[0m\u001b[0;34m\u001b[0m\u001b[0;34m\u001b[0m\u001b[0m\n\u001b[1;32m    126\u001b[0m     \u001b[0;32melse\u001b[0m\u001b[0;34m:\u001b[0m\u001b[0;34m\u001b[0m\u001b[0;34m\u001b[0m\u001b[0m\n",
      "\u001b[0;32m/Applications/anaconda3/lib/python3.6/site-packages/keras/engine/training.py\u001b[0m in \u001b[0;36mfit\u001b[0;34m(self, x, y, batch_size, epochs, verbose, callbacks, validation_split, validation_data, shuffle, class_weight, sample_weight, initial_epoch, steps_per_epoch, validation_steps, **kwargs)\u001b[0m\n\u001b[1;32m   1037\u001b[0m                                         \u001b[0minitial_epoch\u001b[0m\u001b[0;34m=\u001b[0m\u001b[0minitial_epoch\u001b[0m\u001b[0;34m,\u001b[0m\u001b[0;34m\u001b[0m\u001b[0;34m\u001b[0m\u001b[0m\n\u001b[1;32m   1038\u001b[0m                                         \u001b[0msteps_per_epoch\u001b[0m\u001b[0;34m=\u001b[0m\u001b[0msteps_per_epoch\u001b[0m\u001b[0;34m,\u001b[0m\u001b[0;34m\u001b[0m\u001b[0;34m\u001b[0m\u001b[0m\n\u001b[0;32m-> 1039\u001b[0;31m                                         validation_steps=validation_steps)\n\u001b[0m\u001b[1;32m   1040\u001b[0m \u001b[0;34m\u001b[0m\u001b[0m\n\u001b[1;32m   1041\u001b[0m     def evaluate(self, x=None, y=None,\n",
      "\u001b[0;32m/Applications/anaconda3/lib/python3.6/site-packages/keras/engine/training_arrays.py\u001b[0m in \u001b[0;36mfit_loop\u001b[0;34m(model, f, ins, out_labels, batch_size, epochs, verbose, callbacks, val_f, val_ins, shuffle, callback_metrics, initial_epoch, steps_per_epoch, validation_steps)\u001b[0m\n\u001b[1;32m    197\u001b[0m                     \u001b[0mins_batch\u001b[0m\u001b[0;34m[\u001b[0m\u001b[0mi\u001b[0m\u001b[0;34m]\u001b[0m \u001b[0;34m=\u001b[0m \u001b[0mins_batch\u001b[0m\u001b[0;34m[\u001b[0m\u001b[0mi\u001b[0m\u001b[0;34m]\u001b[0m\u001b[0;34m.\u001b[0m\u001b[0mtoarray\u001b[0m\u001b[0;34m(\u001b[0m\u001b[0;34m)\u001b[0m\u001b[0;34m\u001b[0m\u001b[0;34m\u001b[0m\u001b[0m\n\u001b[1;32m    198\u001b[0m \u001b[0;34m\u001b[0m\u001b[0m\n\u001b[0;32m--> 199\u001b[0;31m                 \u001b[0mouts\u001b[0m \u001b[0;34m=\u001b[0m \u001b[0mf\u001b[0m\u001b[0;34m(\u001b[0m\u001b[0mins_batch\u001b[0m\u001b[0;34m)\u001b[0m\u001b[0;34m\u001b[0m\u001b[0;34m\u001b[0m\u001b[0m\n\u001b[0m\u001b[1;32m    200\u001b[0m                 \u001b[0mouts\u001b[0m \u001b[0;34m=\u001b[0m \u001b[0mto_list\u001b[0m\u001b[0;34m(\u001b[0m\u001b[0mouts\u001b[0m\u001b[0;34m)\u001b[0m\u001b[0;34m\u001b[0m\u001b[0;34m\u001b[0m\u001b[0m\n\u001b[1;32m    201\u001b[0m                 \u001b[0;32mfor\u001b[0m \u001b[0ml\u001b[0m\u001b[0;34m,\u001b[0m \u001b[0mo\u001b[0m \u001b[0;32min\u001b[0m \u001b[0mzip\u001b[0m\u001b[0;34m(\u001b[0m\u001b[0mout_labels\u001b[0m\u001b[0;34m,\u001b[0m \u001b[0mouts\u001b[0m\u001b[0;34m)\u001b[0m\u001b[0;34m:\u001b[0m\u001b[0;34m\u001b[0m\u001b[0;34m\u001b[0m\u001b[0m\n",
      "\u001b[0;32m/Applications/anaconda3/lib/python3.6/site-packages/keras/backend/tensorflow_backend.py\u001b[0m in \u001b[0;36m__call__\u001b[0;34m(self, inputs)\u001b[0m\n\u001b[1;32m   2713\u001b[0m                 \u001b[0;32mreturn\u001b[0m \u001b[0mself\u001b[0m\u001b[0;34m.\u001b[0m\u001b[0m_legacy_call\u001b[0m\u001b[0;34m(\u001b[0m\u001b[0minputs\u001b[0m\u001b[0;34m)\u001b[0m\u001b[0;34m\u001b[0m\u001b[0;34m\u001b[0m\u001b[0m\n\u001b[1;32m   2714\u001b[0m \u001b[0;34m\u001b[0m\u001b[0m\n\u001b[0;32m-> 2715\u001b[0;31m             \u001b[0;32mreturn\u001b[0m \u001b[0mself\u001b[0m\u001b[0;34m.\u001b[0m\u001b[0m_call\u001b[0m\u001b[0;34m(\u001b[0m\u001b[0minputs\u001b[0m\u001b[0;34m)\u001b[0m\u001b[0;34m\u001b[0m\u001b[0;34m\u001b[0m\u001b[0m\n\u001b[0m\u001b[1;32m   2716\u001b[0m         \u001b[0;32melse\u001b[0m\u001b[0;34m:\u001b[0m\u001b[0;34m\u001b[0m\u001b[0;34m\u001b[0m\u001b[0m\n\u001b[1;32m   2717\u001b[0m             \u001b[0;32mif\u001b[0m \u001b[0mpy_any\u001b[0m\u001b[0;34m(\u001b[0m\u001b[0mis_tensor\u001b[0m\u001b[0;34m(\u001b[0m\u001b[0mx\u001b[0m\u001b[0;34m)\u001b[0m \u001b[0;32mfor\u001b[0m \u001b[0mx\u001b[0m \u001b[0;32min\u001b[0m \u001b[0minputs\u001b[0m\u001b[0;34m)\u001b[0m\u001b[0;34m:\u001b[0m\u001b[0;34m\u001b[0m\u001b[0;34m\u001b[0m\u001b[0m\n",
      "\u001b[0;32m/Applications/anaconda3/lib/python3.6/site-packages/keras/backend/tensorflow_backend.py\u001b[0m in \u001b[0;36m_call\u001b[0;34m(self, inputs)\u001b[0m\n\u001b[1;32m   2673\u001b[0m             \u001b[0mfetched\u001b[0m \u001b[0;34m=\u001b[0m \u001b[0mself\u001b[0m\u001b[0;34m.\u001b[0m\u001b[0m_callable_fn\u001b[0m\u001b[0;34m(\u001b[0m\u001b[0;34m*\u001b[0m\u001b[0marray_vals\u001b[0m\u001b[0;34m,\u001b[0m \u001b[0mrun_metadata\u001b[0m\u001b[0;34m=\u001b[0m\u001b[0mself\u001b[0m\u001b[0;34m.\u001b[0m\u001b[0mrun_metadata\u001b[0m\u001b[0;34m)\u001b[0m\u001b[0;34m\u001b[0m\u001b[0;34m\u001b[0m\u001b[0m\n\u001b[1;32m   2674\u001b[0m         \u001b[0;32melse\u001b[0m\u001b[0;34m:\u001b[0m\u001b[0;34m\u001b[0m\u001b[0;34m\u001b[0m\u001b[0m\n\u001b[0;32m-> 2675\u001b[0;31m             \u001b[0mfetched\u001b[0m \u001b[0;34m=\u001b[0m \u001b[0mself\u001b[0m\u001b[0;34m.\u001b[0m\u001b[0m_callable_fn\u001b[0m\u001b[0;34m(\u001b[0m\u001b[0;34m*\u001b[0m\u001b[0marray_vals\u001b[0m\u001b[0;34m)\u001b[0m\u001b[0;34m\u001b[0m\u001b[0;34m\u001b[0m\u001b[0m\n\u001b[0m\u001b[1;32m   2676\u001b[0m         \u001b[0;32mreturn\u001b[0m \u001b[0mfetched\u001b[0m\u001b[0;34m[\u001b[0m\u001b[0;34m:\u001b[0m\u001b[0mlen\u001b[0m\u001b[0;34m(\u001b[0m\u001b[0mself\u001b[0m\u001b[0;34m.\u001b[0m\u001b[0moutputs\u001b[0m\u001b[0;34m)\u001b[0m\u001b[0;34m]\u001b[0m\u001b[0;34m\u001b[0m\u001b[0;34m\u001b[0m\u001b[0m\n\u001b[1;32m   2677\u001b[0m \u001b[0;34m\u001b[0m\u001b[0m\n",
      "\u001b[0;32m/Applications/anaconda3/lib/python3.6/site-packages/tensorflow/python/client/session.py\u001b[0m in \u001b[0;36m__call__\u001b[0;34m(self, *args, **kwargs)\u001b[0m\n\u001b[1;32m   1437\u001b[0m           ret = tf_session.TF_SessionRunCallable(\n\u001b[1;32m   1438\u001b[0m               \u001b[0mself\u001b[0m\u001b[0;34m.\u001b[0m\u001b[0m_session\u001b[0m\u001b[0;34m.\u001b[0m\u001b[0m_session\u001b[0m\u001b[0;34m,\u001b[0m \u001b[0mself\u001b[0m\u001b[0;34m.\u001b[0m\u001b[0m_handle\u001b[0m\u001b[0;34m,\u001b[0m \u001b[0margs\u001b[0m\u001b[0;34m,\u001b[0m \u001b[0mstatus\u001b[0m\u001b[0;34m,\u001b[0m\u001b[0;34m\u001b[0m\u001b[0;34m\u001b[0m\u001b[0m\n\u001b[0;32m-> 1439\u001b[0;31m               run_metadata_ptr)\n\u001b[0m\u001b[1;32m   1440\u001b[0m         \u001b[0;32mif\u001b[0m \u001b[0mrun_metadata\u001b[0m\u001b[0;34m:\u001b[0m\u001b[0;34m\u001b[0m\u001b[0;34m\u001b[0m\u001b[0m\n\u001b[1;32m   1441\u001b[0m           \u001b[0mproto_data\u001b[0m \u001b[0;34m=\u001b[0m \u001b[0mtf_session\u001b[0m\u001b[0;34m.\u001b[0m\u001b[0mTF_GetBuffer\u001b[0m\u001b[0;34m(\u001b[0m\u001b[0mrun_metadata_ptr\u001b[0m\u001b[0;34m)\u001b[0m\u001b[0;34m\u001b[0m\u001b[0;34m\u001b[0m\u001b[0m\n",
      "\u001b[0;31mKeyboardInterrupt\u001b[0m: "
     ]
    }
   ],
   "source": [
    "alexnet_model = create_alexnet_model(True)"
   ]
  },
  {
   "cell_type": "code",
   "execution_count": null,
   "metadata": {
    "ExecuteTime": {
     "end_time": "2019-03-06T17:50:50.361574Z",
     "start_time": "2019-03-06T16:55:44.111Z"
    }
   },
   "outputs": [],
   "source": [
    "print_model_results(alexnet_model)"
   ]
  },
  {
   "cell_type": "markdown",
   "metadata": {},
   "source": [
    "## Improving AlexNet"
   ]
  },
  {
   "cell_type": "markdown",
   "metadata": {},
   "source": [
    "As you can see, AlexNet does not work very well on such a small dataset. Recall what you have learned from this class to improve its performance. You can also take a look at the [Dropout technique](https://www.cs.toronto.edu/~hinton/absps/JMLRdropout.pdf) and its [implementation in Keras](https://keras.io/layers/core/#dropout). "
   ]
  },
  {
   "cell_type": "code",
   "execution_count": 249,
   "metadata": {
    "ExecuteTime": {
     "end_time": "2019-03-06T17:51:04.410312Z",
     "start_time": "2019-03-06T17:51:04.389113Z"
    }
   },
   "outputs": [],
   "source": [
    "def create_model_for_cifar(need_to_train = False):\n",
    "    batch_size = 32\n",
    "    num_classes = 10\n",
    "    epochs = 50\n",
    "    \n",
    "    model = Sequential()\n",
    "    model.add(Conv2D(32, (3, 3), \n",
    "                     padding='same', \n",
    "                     data_format = 'channels_first', \n",
    "                     input_shape=train_images.shape[1:]))\n",
    "    model.add(Activation('relu'))\n",
    "    model.add(Conv2D(32, (3, 3)))\n",
    "    model.add(Activation('relu'))\n",
    "    model.add(MaxPooling2D(pool_size=(2, 2)))\n",
    "    model.add(Dropout(0.25))\n",
    "\n",
    "    model.add(Conv2D(64, (3, 3), padding='same'))\n",
    "    model.add(Activation('relu'))\n",
    "    model.add(Conv2D(64, (3, 3)))\n",
    "    model.add(Activation('relu'))\n",
    "    model.add(MaxPooling2D(pool_size=(2, 2)))\n",
    "    model.add(Dropout(0.25))\n",
    "\n",
    "    model.add(Flatten())\n",
    "    model.add(Dense(512))\n",
    "    model.add(Activation('relu'))\n",
    "    model.add(Dropout(0.5))\n",
    "    model.add(Dense(num_classes))\n",
    "    model.add(Activation('softmax'))\n",
    "\n",
    "    # initiate RMSprop optimizer\n",
    "    opt = keras.optimizers.rmsprop(lr=0.0001, decay=1e-6)\n",
    "\n",
    "    # Let's train the model using RMSprop\n",
    "    model.compile(loss='categorical_crossentropy',\n",
    "                  optimizer=opt,\n",
    "                  metrics=['accuracy'])\n",
    "    \n",
    "    if need_to_train == True:\n",
    "        model.fit(train_images, Y_train, \n",
    "              batch_size=batch_size,\n",
    "              epochs=epochs,\n",
    "              validation_data=(cv_images, Y_cv),\n",
    "              shuffle=True)\n",
    "        save_model(model_name = 'model_for_cifar')\n",
    "    else:\n",
    "        model = load_model('model_for_cifar', model)\n",
    "    \n",
    "    return model\n",
    "    \n",
    "    "
   ]
  },
  {
   "cell_type": "code",
   "execution_count": null,
   "metadata": {
    "ExecuteTime": {
     "start_time": "2019-03-06T17:51:05.428Z"
    }
   },
   "outputs": [
    {
     "name": "stdout",
     "output_type": "stream",
     "text": [
      "Train on 50000 samples, validate on 10000 samples\n",
      "Epoch 1/50\n",
      "50000/50000 [==============================] - 186s 4ms/step - loss: 2.1000 - acc: 0.2266 - val_loss: 1.9415 - val_acc: 0.3046\n",
      "Epoch 2/50\n",
      "50000/50000 [==============================] - 177s 4ms/step - loss: 1.8915 - acc: 0.3196 - val_loss: 1.7655 - val_acc: 0.3684\n",
      "Epoch 3/50\n",
      "50000/50000 [==============================] - 176s 4ms/step - loss: 1.7520 - acc: 0.3682 - val_loss: 1.6453 - val_acc: 0.3996\n",
      "Epoch 4/50\n",
      "50000/50000 [==============================] - 176s 4ms/step - loss: 1.6443 - acc: 0.4086 - val_loss: 1.5697 - val_acc: 0.4316\n",
      "Epoch 5/50\n",
      "50000/50000 [==============================] - 176s 4ms/step - loss: 1.5791 - acc: 0.4313 - val_loss: 1.4963 - val_acc: 0.4641\n",
      "Epoch 6/50\n",
      "50000/50000 [==============================] - 176s 4ms/step - loss: 1.5277 - acc: 0.4529 - val_loss: 1.4633 - val_acc: 0.4682\n",
      "Epoch 7/50\n",
      "50000/50000 [==============================] - 182s 4ms/step - loss: 1.4889 - acc: 0.4670 - val_loss: 1.4534 - val_acc: 0.4810\n",
      "Epoch 8/50\n",
      "50000/50000 [==============================] - 178s 4ms/step - loss: 1.4569 - acc: 0.4803 - val_loss: 1.4151 - val_acc: 0.4938\n",
      "Epoch 9/50\n",
      "50000/50000 [==============================] - 174s 3ms/step - loss: 1.4310 - acc: 0.4894 - val_loss: 1.4136 - val_acc: 0.4913\n",
      "Epoch 10/50\n",
      "50000/50000 [==============================] - 176s 4ms/step - loss: 1.4081 - acc: 0.4973 - val_loss: 1.3738 - val_acc: 0.5047\n",
      "Epoch 11/50\n",
      "50000/50000 [==============================] - 177s 4ms/step - loss: 1.3887 - acc: 0.5058 - val_loss: 1.3612 - val_acc: 0.5213\n",
      "Epoch 12/50\n",
      "50000/50000 [==============================] - 178s 4ms/step - loss: 1.3646 - acc: 0.5136 - val_loss: 1.3293 - val_acc: 0.5259\n",
      "Epoch 13/50\n",
      "50000/50000 [==============================] - 182s 4ms/step - loss: 1.3507 - acc: 0.5207 - val_loss: 1.3269 - val_acc: 0.5246\n",
      "Epoch 14/50\n",
      "50000/50000 [==============================] - 189s 4ms/step - loss: 1.3341 - acc: 0.5285 - val_loss: 1.3151 - val_acc: 0.5342\n",
      "Epoch 15/50\n",
      "50000/50000 [==============================] - 188s 4ms/step - loss: 1.3223 - acc: 0.5298 - val_loss: 1.3231 - val_acc: 0.5201\n",
      "Epoch 16/50\n",
      "17216/50000 [=========>....................] - ETA: 1:54 - loss: 1.3055 - acc: 0.5402"
     ]
    }
   ],
   "source": [
    "cifar_model = create_model_for_cifar(need_to_train = True)"
   ]
  },
  {
   "cell_type": "code",
   "execution_count": null,
   "metadata": {
    "ExecuteTime": {
     "end_time": "2019-03-06T17:50:50.381657Z",
     "start_time": "2019-03-06T16:55:59.453Z"
    }
   },
   "outputs": [],
   "source": [
    "print_model_results(cifar_model)"
   ]
  },
  {
   "cell_type": "code",
   "execution_count": null,
   "metadata": {},
   "outputs": [],
   "source": []
  }
 ],
 "metadata": {
  "kernelspec": {
   "display_name": "Python 3",
   "language": "python",
   "name": "python3"
  },
  "language_info": {
   "codemirror_mode": {
    "name": "ipython",
    "version": 3
   },
   "file_extension": ".py",
   "mimetype": "text/x-python",
   "name": "python",
   "nbconvert_exporter": "python",
   "pygments_lexer": "ipython3",
   "version": "3.6.8"
  },
  "toc": {
   "base_numbering": 1,
   "nav_menu": {},
   "number_sections": true,
   "sideBar": true,
   "skip_h1_title": false,
   "title_cell": "Table of Contents",
   "title_sidebar": "Contents",
   "toc_cell": false,
   "toc_position": {},
   "toc_section_display": true,
   "toc_window_display": false
  },
  "varInspector": {
   "cols": {
    "lenName": 16,
    "lenType": 16,
    "lenVar": 40
   },
   "kernels_config": {
    "python": {
     "delete_cmd_postfix": "",
     "delete_cmd_prefix": "del ",
     "library": "var_list.py",
     "varRefreshCmd": "print(var_dic_list())"
    },
    "r": {
     "delete_cmd_postfix": ") ",
     "delete_cmd_prefix": "rm(",
     "library": "var_list.r",
     "varRefreshCmd": "cat(var_dic_list()) "
    }
   },
   "types_to_exclude": [
    "module",
    "function",
    "builtin_function_or_method",
    "instance",
    "_Feature"
   ],
   "window_display": false
  }
 },
 "nbformat": 4,
 "nbformat_minor": 2
}
