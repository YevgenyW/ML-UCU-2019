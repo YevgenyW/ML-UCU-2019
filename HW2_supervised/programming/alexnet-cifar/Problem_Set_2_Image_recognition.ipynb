{
 "cells": [
  {
   "cell_type": "markdown",
   "metadata": {
    "colab_type": "text",
    "id": "wO_b28mMG6u6"
   },
   "source": [
    "# Convolutional neural networks"
   ]
  },
  {
   "cell_type": "markdown",
   "metadata": {
    "colab_type": "text",
    "id": "MLMWHsiJG6u8"
   },
   "source": [
    "In class, we have briefly reviewed the idea of learning good features directly from data and went through the concept of convolutional neural networks along with few architectures.\n",
    "\n",
    "Until recently, building convolutional neural networks was tough. There was no high-level tools for that, you would be required to understand all the internal mechanics of the model and its operations.\n",
    "\n",
    "Today, due to the high-level tools such as Keras and TensorFlow, everybody can build a convolutional neural network and put it to work without diving deep into them. What used to be a one-month project became a few hours exercise.\n"
   ]
  },
  {
   "cell_type": "code",
   "execution_count": 0,
   "metadata": {
    "ExecuteTime": {
     "end_time": "2019-03-07T06:52:06.909011Z",
     "start_time": "2019-03-07T06:52:06.904061Z"
    },
    "colab": {},
    "colab_type": "code",
    "id": "luMFM5vbG6u-"
   },
   "outputs": [],
   "source": [
    "import pickle\n",
    "import numpy as np\n",
    "import keras\n",
    "from keras.preprocessing.image import ImageDataGenerator\n",
    "from keras.models import Sequential\n",
    "from keras.layers import Dense, Dropout, Activation, Flatten\n",
    "from keras.layers import Conv2D, MaxPooling2D\n",
    "import keras.utils\n",
    "from keras import utils as np_utils\n",
    "from keras.layers.normalization import BatchNormalization\n",
    "from keras.datasets import cifar10\n",
    "from keras import regularizers\n",
    "from keras.callbacks import LearningRateScheduler\n",
    "import matplotlib.pyplot as plt\n",
    "import os\n",
    "import tensorflow as tf"
   ]
  },
  {
   "cell_type": "code",
   "execution_count": 2,
   "metadata": {
    "colab": {
     "base_uri": "https://localhost:8080/",
     "height": 56
    },
    "colab_type": "code",
    "id": "r7tizbEiYYXL",
    "outputId": "83f6029c-9376-4826-bf9d-a09f7111c57b"
   },
   "outputs": [
    {
     "data": {
      "text/plain": [
       "'/device:GPU:0'"
      ]
     },
     "execution_count": 2,
     "metadata": {
      "tags": []
     },
     "output_type": "execute_result"
    }
   ],
   "source": [
    "# !pip install fastai\n",
    "tf.test.gpu_device_name()"
   ]
  },
  {
   "cell_type": "code",
   "execution_count": 0,
   "metadata": {
    "colab": {},
    "colab_type": "code",
    "id": "-C_2bxDNH3Dr"
   },
   "outputs": [],
   "source": [
    "# !pip install -U -q PyDrive\n",
    "# from pydrive.auth import GoogleAuth\n",
    "# from pydrive.drive import GoogleDrive\n",
    "# from google.colab import auth\n",
    "# from oauth2client.client import GoogleCredentials\n",
    "# # Authenticate and create the PyDrive client.\n",
    "# auth.authenticate_user()\n",
    "# gauth = GoogleAuth()\n",
    "# gauth.credentials = GoogleCredentials.get_application_default()\n",
    "# drive = GoogleDrive(gauth)\n",
    "\n",
    "# from google.colab import drive\n",
    "# drive.mount('/content/gdrive', force_remount=True)"
   ]
  },
  {
   "cell_type": "markdown",
   "metadata": {
    "colab_type": "text",
    "id": "qZ38OA6WG6vE"
   },
   "source": [
    "## Loading the images"
   ]
  },
  {
   "cell_type": "code",
   "execution_count": 4,
   "metadata": {
    "ExecuteTime": {
     "end_time": "2019-03-07T06:52:08.224401Z",
     "start_time": "2019-03-07T06:52:07.895734Z"
    },
    "colab": {
     "base_uri": "https://localhost:8080/",
     "height": 1020
    },
    "colab_type": "code",
    "id": "ao5YC5toG6vG",
    "outputId": "ce278fc9-62fe-40a4-c1a7-eb8be891a394"
   },
   "outputs": [
    {
     "name": "stdout",
     "output_type": "stream",
     "text": [
      "Downloading data from https://www.cs.toronto.edu/~kriz/cifar-10-python.tar.gz\n",
      "170500096/170498071 [==============================] - 495s 3us/step\n"
     ]
    }
   ],
   "source": [
    "(train_images, train_labels), (cv_images, cv_labels) = cifar10.load_data()"
   ]
  },
  {
   "cell_type": "code",
   "execution_count": 5,
   "metadata": {
    "ExecuteTime": {
     "end_time": "2019-03-07T06:52:08.346901Z",
     "start_time": "2019-03-07T06:52:08.343638Z"
    },
    "colab": {
     "base_uri": "https://localhost:8080/",
     "height": 72
    },
    "colab_type": "code",
    "id": "s19rswZfG6vX",
    "outputId": "e16ab50c-fe87-4c53-9289-6155a05ab9b5"
   },
   "outputs": [
    {
     "name": "stdout",
     "output_type": "stream",
     "text": [
      "(50000, 32, 32, 3)\n",
      "50000\n"
     ]
    }
   ],
   "source": [
    "print(train_images.shape)\n",
    "print(len(train_labels))"
   ]
  },
  {
   "cell_type": "code",
   "execution_count": 6,
   "metadata": {
    "ExecuteTime": {
     "end_time": "2019-03-07T06:52:09.058269Z",
     "start_time": "2019-03-07T06:52:09.054837Z"
    },
    "colab": {
     "base_uri": "https://localhost:8080/",
     "height": 72
    },
    "colab_type": "code",
    "id": "2DWLHibvG6vd",
    "outputId": "0a27badb-157b-449f-f9fc-c800e1b18dc1"
   },
   "outputs": [
    {
     "name": "stdout",
     "output_type": "stream",
     "text": [
      "(10000, 32, 32, 3)\n",
      "10000\n"
     ]
    }
   ],
   "source": [
    "print(cv_images.shape)\n",
    "print(len(cv_labels))"
   ]
  },
  {
   "cell_type": "code",
   "execution_count": 7,
   "metadata": {
    "ExecuteTime": {
     "end_time": "2019-03-07T06:52:09.676138Z",
     "start_time": "2019-03-07T06:52:09.671572Z"
    },
    "colab": {
     "base_uri": "https://localhost:8080/",
     "height": 213
    },
    "colab_type": "code",
    "id": "Kgjm3RZTG6vj",
    "outputId": "f9eac9a4-7e07-48e4-fc71-046a570963a0"
   },
   "outputs": [
    {
     "name": "stdout",
     "output_type": "stream",
     "text": [
      "[[6]\n",
      " [9]\n",
      " [9]\n",
      " [4]\n",
      " [1]\n",
      " [1]\n",
      " [2]\n",
      " [7]\n",
      " [8]\n",
      " [3]]\n"
     ]
    }
   ],
   "source": [
    "print(train_labels[0:10])"
   ]
  },
  {
   "cell_type": "code",
   "execution_count": 0,
   "metadata": {
    "ExecuteTime": {
     "end_time": "2019-03-07T06:52:10.541959Z",
     "start_time": "2019-03-07T06:52:10.534920Z"
    },
    "colab": {},
    "colab_type": "code",
    "id": "SyJesOBXG6vo"
   },
   "outputs": [],
   "source": [
    "def print_model_results(model):\n",
    "    score = model.evaluate(cv_images, Y_cv, batch_size=32, verbose=1)\n",
    "    print('Test loss:', score[0])\n",
    "    print('Test accuracy:', score[1])\n",
    "    print(model.metrics_names)\n",
    "    print(score)"
   ]
  },
  {
   "cell_type": "code",
   "execution_count": 0,
   "metadata": {
    "ExecuteTime": {
     "end_time": "2019-03-07T06:52:11.349502Z",
     "start_time": "2019-03-07T06:52:11.346229Z"
    },
    "colab": {},
    "colab_type": "code",
    "id": "Znq9ePTwG6vq"
   },
   "outputs": [],
   "source": [
    "def show_image(np_array):\n",
    "    %matplotlib inline\n",
    "    plt.figure()\n",
    "    plt.imshow(np_array)"
   ]
  },
  {
   "cell_type": "code",
   "execution_count": 0,
   "metadata": {
    "ExecuteTime": {
     "end_time": "2019-03-07T06:52:11.939606Z",
     "start_time": "2019-03-07T06:52:11.936249Z"
    },
    "colab": {},
    "colab_type": "code",
    "id": "1JziPCwkG6vv"
   },
   "outputs": [],
   "source": [
    "def show_example(data_set, labels, example_index):\n",
    "    show_image(data_set[example_index])\n",
    "    print('Label: ', labels[example_index])"
   ]
  },
  {
   "cell_type": "code",
   "execution_count": 11,
   "metadata": {
    "ExecuteTime": {
     "end_time": "2019-03-07T06:52:16.458608Z",
     "start_time": "2019-03-07T06:52:16.304225Z"
    },
    "colab": {
     "base_uri": "https://localhost:8080/",
     "height": 284
    },
    "colab_type": "code",
    "id": "cUUwRsO8G6vz",
    "outputId": "93da30f5-49a2-459b-df28-eb4984d84308"
   },
   "outputs": [
    {
     "name": "stdout",
     "output_type": "stream",
     "text": [
      "Label:  [6]\n"
     ]
    },
    {
     "data": {
      "image/png": "[encoded data removed]",
      "text/plain": [
       "<Figure size 432x288 with 1 Axes>"
      ]
     },
     "metadata": {
      "tags": []
     },
     "output_type": "display_data"
    }
   ],
   "source": [
    "show_example(train_images, train_labels, example_index = 0)"
   ]
  },
  {
   "cell_type": "code",
   "execution_count": 12,
   "metadata": {
    "ExecuteTime": {
     "end_time": "2019-03-07T06:52:19.119822Z",
     "start_time": "2019-03-07T06:52:18.969167Z"
    },
    "colab": {
     "base_uri": "https://localhost:8080/",
     "height": 284
    },
    "colab_type": "code",
    "id": "KlP4Ip0KG6wD",
    "outputId": "b399e777-7319-4f38-8b6c-ede06229c0dc"
   },
   "outputs": [
    {
     "name": "stdout",
     "output_type": "stream",
     "text": [
      "Label:  [3]\n"
     ]
    },
    {
     "data": {
      "image/png": "[encoded data removed]",
      "text/plain": [
       "<Figure size 432x288 with 1 Axes>"
      ]
     },
     "metadata": {
      "tags": []
     },
     "output_type": "display_data"
    }
   ],
   "source": [
    "show_example(cv_images, cv_labels, example_index = 0)"
   ]
  },
  {
   "cell_type": "markdown",
   "metadata": {
    "colab_type": "text",
    "id": "gtnczGOfG6wH"
   },
   "source": [
    "## Building AlexNet"
   ]
  },
  {
   "cell_type": "markdown",
   "metadata": {
    "colab_type": "text",
    "id": "KifH7OdOG6wI"
   },
   "source": [
    "In 2012 a convolutional neural network called AlexNet won ImageNet competition. \n",
    "\n",
    "Go through an [original AlexNet paper](https://papers.nips.cc/paper/4824-imagenet-classification-with-deep-convolutional-neural-networks.pdf) to investigate the architecture. Next, investigate the [basics of Keras](https://keras.io/#keras-the-python-deep-learning-library). We will use it with TensorFlow backend.\n",
    "\n",
    "You are also encouraged to go through some CNN tutorial for Keras. There is a number of them online (for example, [this](https://elitedatascience.com/keras-tutorial-deep-learning-in-python) or [this](https://machinelearningmastery.com/handwritten-digit-recognition-using-convolutional-neural-networks-python-keras/)).\n",
    "Now, build AlexNex network with Keras for object recognition. Note that standard AlexNet works with 224x224 input images. The dataset you are going to use for this problem is 32x32."
   ]
  },
  {
   "cell_type": "markdown",
   "metadata": {
    "colab_type": "text",
    "id": "itL5AS61G6wJ"
   },
   "source": [
    "## Training AlexNet"
   ]
  },
  {
   "cell_type": "markdown",
   "metadata": {
    "colab_type": "text",
    "id": "F3zC4l0NG6wK"
   },
   "source": [
    "Use training set for training the network to recognize objects. You might want to use RMSProp optimizer to speed up the training.\n",
    "\n",
    "Convolutional networks require a lot of computing power for training. Typical setup for training CNN is to use GPU, however, in this problem you are not required to do so. CPU will be fine as well.\n",
    "\n",
    "If you are using CPU for this subproblem, training process might be slow. You can stop it manually as soon as you get meaningful results.\n",
    "\n",
    "Report the results on the training and cross-validation sets. The report should contain the training logs."
   ]
  },
  {
   "cell_type": "code",
   "execution_count": 13,
   "metadata": {
    "ExecuteTime": {
     "end_time": "2019-03-07T06:53:24.234434Z",
     "start_time": "2019-03-07T06:53:23.653801Z"
    },
    "colab": {
     "base_uri": "https://localhost:8080/",
     "height": 72
    },
    "colab_type": "code",
    "id": "uphPv82VG6wL",
    "outputId": "9115b074-96b0-4b78-cf21-74b5ce7e3ed8"
   },
   "outputs": [
    {
     "name": "stdout",
     "output_type": "stream",
     "text": [
      "(50000, 3, 32, 32)\n",
      "(50000, 10)\n"
     ]
    }
   ],
   "source": [
    "# preprocessing input data\n",
    "\n",
    "train_images = train_images.reshape(train_images.shape[0], 3, 32, 32)\n",
    "cv_images = cv_images.reshape(cv_images.shape[0], 3, 32, 32)\n",
    "print(train_images.shape)\n",
    "\n",
    "train_images = train_images.astype('float32')\n",
    "cv_images = cv_images.astype('float32')\n",
    "train_images /= 255\n",
    "cv_images /= 255\n",
    "\n",
    "# Convert 1-dimensional class arrays to 10-dimensional class matrices\n",
    "Y_train = np_utils.to_categorical(train_labels, 10)\n",
    "Y_cv = np_utils.to_categorical(cv_labels, 10)\n",
    "print (Y_train.shape)"
   ]
  },
  {
   "cell_type": "code",
   "execution_count": 0,
   "metadata": {
    "ExecuteTime": {
     "end_time": "2019-03-07T06:54:02.900192Z",
     "start_time": "2019-03-07T06:54:02.896691Z"
    },
    "colab": {},
    "colab_type": "code",
    "id": "pDCgEGPtG6wX"
   },
   "outputs": [],
   "source": [
    "epochs = 50\n",
    "num_classes = 10\n",
    "batch_size = 128"
   ]
  },
  {
   "cell_type": "code",
   "execution_count": 0,
   "metadata": {
    "ExecuteTime": {
     "end_time": "2019-03-07T07:05:19.749897Z",
     "start_time": "2019-03-07T07:05:19.735777Z"
    },
    "colab": {},
    "colab_type": "code",
    "hide_input": false,
    "id": "WQw5IpDFG6wa"
   },
   "outputs": [],
   "source": [
    "# https://github.com/jkh911208/cswithjames/blob/master/8_CIFAR10_alexnet.py\n",
    "def create_alexnet_model(need_to_train = False):\n",
    "    # AlexNet Define the Model\n",
    "    model = Sequential()\n",
    "    # model.add(Conv2D(96, (11,11), strides=(4,4), activation='relu', padding='same', input_shape=(img_height, img_width, channel,)))\n",
    "    # for original Alexnet\n",
    "    model.add(Conv2D(96, (3,3), strides=(2,2), activation='relu', \n",
    "                     padding='same', \n",
    "                     input_shape=train_images.shape[1:], \n",
    "                     data_format = 'channels_first'))\n",
    "    model.add(Activation('relu'))\n",
    "    model.add(MaxPooling2D(pool_size=(2, 2), strides=(2,2)))\n",
    "    # Local Response normalization for Original Alexnet\n",
    "    model.add(BatchNormalization())\n",
    "\n",
    "    model.add(Conv2D(256, (5,5), activation='relu', padding='same'))\n",
    "    model.add(Activation('relu'))\n",
    "    model.add(MaxPooling2D(pool_size=(3, 3), strides=(2,2)))\n",
    "    # Local Response normalization for Original Alexnet\n",
    "    model.add(BatchNormalization())\n",
    "\n",
    "    model.add(Conv2D(384, (3,3), activation='relu', padding='same'))\n",
    "    model.add(Activation('relu'))\n",
    "    model.add(Conv2D(384, (3,3), activation='relu', padding='same'))\n",
    "    model.add(Activation('relu'))\n",
    "    model.add(Conv2D(256, (3,3), activation='relu', padding='same'))\n",
    "    model.add(Activation('relu'))\n",
    "    model.add(MaxPooling2D(pool_size=(3, 3), strides=(2,2)))\n",
    "    # Local Response normalization for Original Alexnet\n",
    "    model.add(BatchNormalization())\n",
    "\n",
    "    model.add(Flatten())\n",
    "    model.add(Dense(4096, activation='tanh'))\n",
    "    model.add(Activation('relu'))\n",
    "    model.add(Dropout(0.5))\n",
    "    model.add(Dense(4096, activation='tanh'))\n",
    "    model.add(Activation('relu'))\n",
    "    model.add(Dropout(0.5))\n",
    "    model.add(Dense(num_classes, activation='softmax'))\n",
    "\n",
    "    # print the model summary\n",
    "    model.summary()\n",
    "\n",
    "    # determine Loss function and Optimizer\n",
    "    model.compile(loss='categorical_crossentropy',\n",
    "                  optimizer='adam',\n",
    "                  metrics=['accuracy'])\n",
    "    \n",
    "    if need_to_train == True:\n",
    "        model.fit(train_images, Y_train,\n",
    "                    batch_size=batch_size,\n",
    "                    epochs=epochs,\n",
    "                    verbose=1,\n",
    "                    validation_data=(cv_images, Y_cv),\n",
    "                    shuffle=True)\n",
    "#         save_model(model_name = 'alexnet_model', model = model)\n",
    "    else:\n",
    "        model = load_model('alexnet_model_not working', model)\n",
    "    \n",
    "    return model\n",
    "\n",
    "   "
   ]
  },
  {
   "cell_type": "code",
   "execution_count": 16,
   "metadata": {
    "ExecuteTime": {
     "end_time": "2019-03-07T07:06:35.637705Z",
     "start_time": "2019-03-07T07:05:23.994007Z"
    },
    "colab": {
     "base_uri": "https://localhost:8080/",
     "height": 2941
    },
    "colab_type": "code",
    "id": "qXTzOQmJG6wb",
    "outputId": "29c89589-abe1-4460-d727-e8a015e7176c"
   },
   "outputs": [
    {
     "name": "stdout",
     "output_type": "stream",
     "text": [
      "WARNING:tensorflow:From /usr/local/lib/python3.6/dist-packages/tensorflow/python/framework/op_def_library.py:263: colocate_with (from tensorflow.python.framework.ops) is deprecated and will be removed in a future version.\n",
      "Instructions for updating:\n",
      "Colocations handled automatically by placer.\n",
      "WARNING:tensorflow:From /usr/local/lib/python3.6/dist-packages/keras/backend/tensorflow_backend.py:3445: calling dropout (from tensorflow.python.ops.nn_ops) with keep_prob is deprecated and will be removed in a future version.\n",
      "Instructions for updating:\n",
      "Please use `rate` instead of `keep_prob`. Rate should be set to `rate = 1 - keep_prob`.\n",
      "_________________________________________________________________\n",
      "Layer (type)                 Output Shape              Param #   \n",
      "=================================================================\n",
      "conv2d_1 (Conv2D)            (None, 96, 16, 16)        2688      \n",
      "_________________________________________________________________\n",
      "activation_1 (Activation)    (None, 96, 16, 16)        0         \n",
      "_________________________________________________________________\n",
      "max_pooling2d_1 (MaxPooling2 (None, 48, 8, 16)         0         \n",
      "_________________________________________________________________\n",
      "batch_normalization_1 (Batch (None, 48, 8, 16)         64        \n",
      "_________________________________________________________________\n",
      "conv2d_2 (Conv2D)            (None, 48, 8, 256)        102656    \n",
      "_________________________________________________________________\n",
      "activation_2 (Activation)    (None, 48, 8, 256)        0         \n",
      "_________________________________________________________________\n",
      "max_pooling2d_2 (MaxPooling2 (None, 23, 3, 256)        0         \n",
      "_________________________________________________________________\n",
      "batch_normalization_2 (Batch (None, 23, 3, 256)        1024      \n",
      "_________________________________________________________________\n",
      "conv2d_3 (Conv2D)            (None, 23, 3, 384)        885120    \n",
      "_________________________________________________________________\n",
      "activation_3 (Activation)    (None, 23, 3, 384)        0         \n",
      "_________________________________________________________________\n",
      "conv2d_4 (Conv2D)            (None, 23, 3, 384)        1327488   \n",
      "_________________________________________________________________\n",
      "activation_4 (Activation)    (None, 23, 3, 384)        0         \n",
      "_________________________________________________________________\n",
      "conv2d_5 (Conv2D)            (None, 23, 3, 256)        884992    \n",
      "_________________________________________________________________\n",
      "activation_5 (Activation)    (None, 23, 3, 256)        0         \n",
      "_________________________________________________________________\n",
      "max_pooling2d_3 (MaxPooling2 (None, 11, 1, 256)        0         \n",
      "_________________________________________________________________\n",
      "batch_normalization_3 (Batch (None, 11, 1, 256)        1024      \n",
      "_________________________________________________________________\n",
      "flatten_1 (Flatten)          (None, 2816)              0         \n",
      "_________________________________________________________________\n",
      "dense_1 (Dense)              (None, 4096)              11538432  \n",
      "_________________________________________________________________\n",
      "activation_6 (Activation)    (None, 4096)              0         \n",
      "_________________________________________________________________\n",
      "dropout_1 (Dropout)          (None, 4096)              0         \n",
      "_________________________________________________________________\n",
      "dense_2 (Dense)              (None, 4096)              16781312  \n",
      "_________________________________________________________________\n",
      "activation_7 (Activation)    (None, 4096)              0         \n",
      "_________________________________________________________________\n",
      "dropout_2 (Dropout)          (None, 4096)              0         \n",
      "_________________________________________________________________\n",
      "dense_3 (Dense)              (None, 10)                40970     \n",
      "=================================================================\n",
      "Total params: 31,565,770\n",
      "Trainable params: 31,564,714\n",
      "Non-trainable params: 1,056\n",
      "_________________________________________________________________\n",
      "WARNING:tensorflow:From /usr/local/lib/python3.6/dist-packages/tensorflow/python/ops/math_ops.py:3066: to_int32 (from tensorflow.python.ops.math_ops) is deprecated and will be removed in a future version.\n",
      "Instructions for updating:\n",
      "Use tf.cast instead.\n",
      "Train on 50000 samples, validate on 10000 samples\n",
      "Epoch 1/50\n",
      "50000/50000 [==============================] - 62s 1ms/step - loss: 2.1978 - acc: 0.2073 - val_loss: 1.8565 - val_acc: 0.2943\n",
      "Epoch 2/50\n",
      "50000/50000 [==============================] - 55s 1ms/step - loss: 1.8765 - acc: 0.2882 - val_loss: 1.8111 - val_acc: 0.3095\n",
      "Epoch 3/50\n",
      "50000/50000 [==============================] - 55s 1ms/step - loss: 1.7817 - acc: 0.3274 - val_loss: 1.7071 - val_acc: 0.3738\n",
      "Epoch 4/50\n",
      "50000/50000 [==============================] - 55s 1ms/step - loss: 1.7386 - acc: 0.3456 - val_loss: 1.6316 - val_acc: 0.3829\n",
      "Epoch 5/50\n",
      "50000/50000 [==============================] - 55s 1ms/step - loss: 1.6999 - acc: 0.3627 - val_loss: 1.7239 - val_acc: 0.3617\n",
      "Epoch 6/50\n",
      "50000/50000 [==============================] - 55s 1ms/step - loss: 1.6783 - acc: 0.3752 - val_loss: 1.6623 - val_acc: 0.3941\n",
      "Epoch 7/50\n",
      "50000/50000 [==============================] - 55s 1ms/step - loss: 1.6577 - acc: 0.3822 - val_loss: 1.6611 - val_acc: 0.3927\n",
      "Epoch 8/50\n",
      "50000/50000 [==============================] - 55s 1ms/step - loss: 1.6416 - acc: 0.3912 - val_loss: 1.6469 - val_acc: 0.4143\n",
      "Epoch 9/50\n",
      "50000/50000 [==============================] - 55s 1ms/step - loss: 1.6243 - acc: 0.4036 - val_loss: 1.6708 - val_acc: 0.3930\n",
      "Epoch 10/50\n",
      "50000/50000 [==============================] - 55s 1ms/step - loss: 1.6034 - acc: 0.4071 - val_loss: 1.6584 - val_acc: 0.4057\n",
      "Epoch 11/50\n",
      "50000/50000 [==============================] - 55s 1ms/step - loss: 1.6058 - acc: 0.4087 - val_loss: 1.5490 - val_acc: 0.4281\n",
      "Epoch 12/50\n",
      "50000/50000 [==============================] - 55s 1ms/step - loss: 1.5924 - acc: 0.4150 - val_loss: 1.6437 - val_acc: 0.3928\n",
      "Epoch 13/50\n",
      "50000/50000 [==============================] - 56s 1ms/step - loss: 1.5818 - acc: 0.4154 - val_loss: 1.5347 - val_acc: 0.4332\n",
      "Epoch 14/50\n",
      "50000/50000 [==============================] - 55s 1ms/step - loss: 1.5603 - acc: 0.4240 - val_loss: 1.5010 - val_acc: 0.4499\n",
      "Epoch 15/50\n",
      "50000/50000 [==============================] - 55s 1ms/step - loss: 1.5637 - acc: 0.4264 - val_loss: 1.5770 - val_acc: 0.4186\n",
      "Epoch 16/50\n",
      "50000/50000 [==============================] - 55s 1ms/step - loss: 1.5530 - acc: 0.4282 - val_loss: 1.4964 - val_acc: 0.4424\n",
      "Epoch 17/50\n",
      "50000/50000 [==============================] - 55s 1ms/step - loss: 1.5483 - acc: 0.4313 - val_loss: 1.6128 - val_acc: 0.4071\n",
      "Epoch 18/50\n",
      "50000/50000 [==============================] - 55s 1ms/step - loss: 1.5393 - acc: 0.4368 - val_loss: 1.5327 - val_acc: 0.4458\n",
      "Epoch 19/50\n",
      "50000/50000 [==============================] - 55s 1ms/step - loss: 1.5254 - acc: 0.4393 - val_loss: 1.5551 - val_acc: 0.4261\n",
      "Epoch 20/50\n",
      "50000/50000 [==============================] - 55s 1ms/step - loss: 1.5222 - acc: 0.4410 - val_loss: 1.5674 - val_acc: 0.4298\n",
      "Epoch 21/50\n",
      "50000/50000 [==============================] - 55s 1ms/step - loss: 1.5261 - acc: 0.4430 - val_loss: 1.5243 - val_acc: 0.4448\n",
      "Epoch 22/50\n",
      "50000/50000 [==============================] - 55s 1ms/step - loss: 1.5053 - acc: 0.4495 - val_loss: 1.5253 - val_acc: 0.4515\n",
      "Epoch 23/50\n",
      "50000/50000 [==============================] - 55s 1ms/step - loss: 1.4958 - acc: 0.4520 - val_loss: 1.5279 - val_acc: 0.4429\n",
      "Epoch 24/50\n",
      "50000/50000 [==============================] - 55s 1ms/step - loss: 1.5049 - acc: 0.4490 - val_loss: 1.4951 - val_acc: 0.4603\n",
      "Epoch 25/50\n",
      "50000/50000 [==============================] - 55s 1ms/step - loss: 1.4902 - acc: 0.4570 - val_loss: 1.6023 - val_acc: 0.4249\n",
      "Epoch 26/50\n",
      "50000/50000 [==============================] - 55s 1ms/step - loss: 1.4819 - acc: 0.4584 - val_loss: 1.5349 - val_acc: 0.4405\n",
      "Epoch 27/50\n",
      "50000/50000 [==============================] - 55s 1ms/step - loss: 1.4743 - acc: 0.4624 - val_loss: 1.4454 - val_acc: 0.4692\n",
      "Epoch 28/50\n",
      "50000/50000 [==============================] - 55s 1ms/step - loss: 1.4646 - acc: 0.4653 - val_loss: 1.5317 - val_acc: 0.4564\n",
      "Epoch 29/50\n",
      "50000/50000 [==============================] - 55s 1ms/step - loss: 1.4588 - acc: 0.4664 - val_loss: 1.5345 - val_acc: 0.4349\n",
      "Epoch 30/50\n",
      "50000/50000 [==============================] - 55s 1ms/step - loss: 1.4553 - acc: 0.4693 - val_loss: 1.5013 - val_acc: 0.4608\n",
      "Epoch 31/50\n",
      "50000/50000 [==============================] - 55s 1ms/step - loss: 1.4765 - acc: 0.4588 - val_loss: 1.5006 - val_acc: 0.4510\n",
      "Epoch 32/50\n",
      "50000/50000 [==============================] - 55s 1ms/step - loss: 1.4661 - acc: 0.4640 - val_loss: 1.4748 - val_acc: 0.4610\n",
      "Epoch 33/50\n",
      "50000/50000 [==============================] - 55s 1ms/step - loss: 1.4549 - acc: 0.4686 - val_loss: 1.4724 - val_acc: 0.4779\n",
      "Epoch 34/50\n",
      "50000/50000 [==============================] - 55s 1ms/step - loss: 1.4308 - acc: 0.4728 - val_loss: 1.4569 - val_acc: 0.4551\n",
      "Epoch 35/50\n",
      "50000/50000 [==============================] - 55s 1ms/step - loss: 1.4241 - acc: 0.4796 - val_loss: 1.4794 - val_acc: 0.4553\n",
      "Epoch 36/50\n",
      "50000/50000 [==============================] - 55s 1ms/step - loss: 1.4176 - acc: 0.4804 - val_loss: 1.5032 - val_acc: 0.4521\n",
      "Epoch 37/50\n",
      "50000/50000 [==============================] - 55s 1ms/step - loss: 1.4299 - acc: 0.4786 - val_loss: 1.5006 - val_acc: 0.4512\n",
      "Epoch 38/50\n",
      "50000/50000 [==============================] - 55s 1ms/step - loss: 1.4199 - acc: 0.4823 - val_loss: 1.4700 - val_acc: 0.4690\n",
      "Epoch 39/50\n",
      "50000/50000 [==============================] - 55s 1ms/step - loss: 1.4155 - acc: 0.4846 - val_loss: 1.5519 - val_acc: 0.4311\n",
      "Epoch 40/50\n",
      "50000/50000 [==============================] - 55s 1ms/step - loss: 1.4128 - acc: 0.4851 - val_loss: 1.5056 - val_acc: 0.4682\n",
      "Epoch 41/50\n",
      "50000/50000 [==============================] - 55s 1ms/step - loss: 1.4164 - acc: 0.4829 - val_loss: 1.4964 - val_acc: 0.4528\n",
      "Epoch 42/50\n",
      "50000/50000 [==============================] - 55s 1ms/step - loss: 1.3972 - acc: 0.4905 - val_loss: 1.4822 - val_acc: 0.4635\n",
      "Epoch 43/50\n",
      "50000/50000 [==============================] - 55s 1ms/step - loss: 1.4001 - acc: 0.4878 - val_loss: 2.2569 - val_acc: 0.2903\n",
      "Epoch 44/50\n",
      "50000/50000 [==============================] - 55s 1ms/step - loss: 1.4382 - acc: 0.4738 - val_loss: 1.4613 - val_acc: 0.4618\n",
      "Epoch 45/50\n",
      "50000/50000 [==============================] - 55s 1ms/step - loss: 1.4286 - acc: 0.4799 - val_loss: 1.4458 - val_acc: 0.4729\n",
      "Epoch 46/50\n",
      "50000/50000 [==============================] - 55s 1ms/step - loss: 1.3872 - acc: 0.4936 - val_loss: 1.4937 - val_acc: 0.4541\n",
      "Epoch 47/50\n",
      "50000/50000 [==============================] - 55s 1ms/step - loss: 1.3775 - acc: 0.4983 - val_loss: 1.4508 - val_acc: 0.4795\n",
      "Epoch 48/50\n",
      "50000/50000 [==============================] - 55s 1ms/step - loss: 1.3722 - acc: 0.4991 - val_loss: 1.4908 - val_acc: 0.4764\n",
      "Epoch 49/50\n",
      "50000/50000 [==============================] - 55s 1ms/step - loss: 1.3767 - acc: 0.4980 - val_loss: 1.4579 - val_acc: 0.4798\n",
      "Epoch 50/50\n",
      "50000/50000 [==============================] - 55s 1ms/step - loss: 1.3648 - acc: 0.5012 - val_loss: 1.5073 - val_acc: 0.4520\n"
     ]
    }
   ],
   "source": [
    "alexnet_model = create_alexnet_model(need_to_train = True)"
   ]
  },
  {
   "cell_type": "code",
   "execution_count": 17,
   "metadata": {
    "ExecuteTime": {
     "end_time": "2019-03-07T05:51:39.546394Z",
     "start_time": "2019-03-07T05:51:38.191Z"
    },
    "colab": {
     "base_uri": "https://localhost:8080/",
     "height": 356
    },
    "colab_type": "code",
    "id": "i7nV1CVxG6wo",
    "outputId": "8a5ee238-6ac0-42f6-8ea9-58bc69f81865"
   },
   "outputs": [
    {
     "name": "stdout",
     "output_type": "stream",
     "text": [
      "10000/10000 [==============================] - 5s 470us/step\n",
      "Test loss: 1.5073077793121339\n",
      "Test accuracy: 0.452\n",
      "['loss', 'acc']\n",
      "[1.5073077793121339, 0.452]\n"
     ]
    }
   ],
   "source": [
    "print_model_results(alexnet_model)"
   ]
  },
  {
   "cell_type": "code",
   "execution_count": 18,
   "metadata": {
    "colab": {
     "base_uri": "https://localhost:8080/",
     "height": 56
    },
    "colab_type": "code",
    "id": "zTwYRNO4aWOF",
    "outputId": "6563161a-d220-4aae-bebe-d17497b9c8ff"
   },
   "outputs": [
    {
     "name": "stdout",
     "output_type": "stream",
     "text": [
      "Saved trained model at /content/gdrive/My Drive/Colab Notebooks/saved_models/alexnet_model \n"
     ]
    }
   ],
   "source": [
    "save_model('alexnet_model', model = alexnet_model)"
   ]
  },
  {
   "cell_type": "markdown",
   "metadata": {
    "colab_type": "text",
    "id": "KrVB0TchG6xI"
   },
   "source": [
    "## Improving AlexNet"
   ]
  },
  {
   "cell_type": "markdown",
   "metadata": {
    "colab_type": "text",
    "id": "Pv9JDbYHG6xJ"
   },
   "source": [
    "As you can see, AlexNet does not work very well on such a small dataset. Recall what you have learned from this class to improve its performance. You can also take a look at the [Dropout technique](https://www.cs.toronto.edu/~hinton/absps/JMLRdropout.pdf) and its [implementation in Keras](https://keras.io/layers/core/#dropout). "
   ]
  },
  {
   "cell_type": "code",
   "execution_count": 0,
   "metadata": {
    "colab": {},
    "colab_type": "code",
    "id": "u4D2L7FbG6xO"
   },
   "outputs": [],
   "source": [
    " def lr_schedule(epoch):\n",
    "    lrate = 0.001\n",
    "    if epoch > 75:\n",
    "        lrate = 0.0005\n",
    "    if epoch > 100:\n",
    "        lrate = 0.0003\n",
    "    return lrate\n",
    " \n",
    "(x_train, y_train), (x_test, y_test) = cifar10.load_data()\n",
    "\n",
    "# preprocessing for new configuration\n",
    "x_train = x_train.astype('float32')\n",
    "x_test = x_test.astype('float32')\n",
    " \n",
    "#z-score\n",
    "mean = np.mean(x_train,axis=(0,1,2,3))\n",
    "std = np.std(x_train,axis=(0,1,2,3))\n",
    "x_train = (x_train-mean)/(std+1e-7)\n",
    "x_test = (x_test-mean)/(std+1e-7)\n",
    " \n",
    "num_classes = 10\n",
    "y_train = np_utils.to_categorical(y_train,num_classes)\n",
    "y_test = np_utils.to_categorical(y_test,num_classes)\n",
    " \n",
    "weight_decay = 1e-4"
   ]
  },
  {
   "cell_type": "code",
   "execution_count": 0,
   "metadata": {
    "colab": {},
    "colab_type": "code",
    "id": "XtENb_65wAJN"
   },
   "outputs": [],
   "source": [
    "# https://appliedmachinelearning.blog/2018/03/24/achieving-90-accuracy-in-object-recognition-task-on-cifar-10-dataset-with-keras-convolutional-neural-networks/\n",
    "def create_advanced_model():\n",
    "    model = Sequential()\n",
    "    model.add(Conv2D(32, (3,3), padding='same', kernel_regularizer=regularizers.l2(weight_decay), input_shape=x_train.shape[1:]))\n",
    "    model.add(Activation('elu'))\n",
    "    model.add(BatchNormalization())\n",
    "    model.add(Conv2D(32, (3,3), padding='same', kernel_regularizer=regularizers.l2(weight_decay)))\n",
    "    model.add(Activation('elu'))\n",
    "    model.add(BatchNormalization())\n",
    "    model.add(MaxPooling2D(pool_size=(2,2)))\n",
    "    model.add(Dropout(0.2))\n",
    "\n",
    "    model.add(Conv2D(64, (3,3), padding='same', kernel_regularizer=regularizers.l2(weight_decay)))\n",
    "    model.add(Activation('elu'))\n",
    "    model.add(BatchNormalization())\n",
    "    model.add(Conv2D(64, (3,3), padding='same', kernel_regularizer=regularizers.l2(weight_decay)))\n",
    "    model.add(Activation('elu'))\n",
    "    model.add(BatchNormalization())\n",
    "    model.add(MaxPooling2D(pool_size=(2,2)))\n",
    "    model.add(Dropout(0.3))\n",
    "\n",
    "    model.add(Conv2D(128, (3,3), padding='same', kernel_regularizer=regularizers.l2(weight_decay)))\n",
    "    model.add(Activation('elu'))\n",
    "    model.add(BatchNormalization())\n",
    "    model.add(Conv2D(128, (3,3), padding='same', kernel_regularizer=regularizers.l2(weight_decay)))\n",
    "    model.add(Activation('elu'))\n",
    "    model.add(BatchNormalization())\n",
    "    model.add(MaxPooling2D(pool_size=(2,2)))\n",
    "    model.add(Dropout(0.4))\n",
    "\n",
    "    model.add(Flatten())\n",
    "    model.add(Dense(num_classes, activation='softmax'))\n",
    "\n",
    "    model.summary()\n",
    "\n",
    "    #data augmentation\n",
    "    datagen = ImageDataGenerator(\n",
    "        rotation_range=15,\n",
    "        width_shift_range=0.1,\n",
    "        height_shift_range=0.1,\n",
    "        horizontal_flip=True,\n",
    "        )\n",
    "    datagen.fit(x_train)\n",
    "\n",
    "    #training\n",
    "    batch_size = 64\n",
    "\n",
    "    opt_rms = keras.optimizers.rmsprop(lr=0.001,decay=1e-6)\n",
    "    model.compile(loss='categorical_crossentropy', optimizer=opt_rms, metrics=['accuracy'])\n",
    "    model.fit_generator(datagen.flow(x_train, y_train, batch_size=batch_size),\\\n",
    "                        steps_per_epoch=x_train.shape[0] // batch_size,epochs=125,\\\n",
    "                        verbose=1,validation_data=(x_test,y_test),callbacks=[LearningRateScheduler(lr_schedule)])\n",
    "    return model"
   ]
  },
  {
   "cell_type": "code",
   "execution_count": 38,
   "metadata": {
    "colab": {
     "base_uri": "https://localhost:8080/",
     "height": 5476
    },
    "colab_type": "code",
    "id": "B5bYgmygjPlj",
    "outputId": "d5f544fc-dfaa-4b65-fc23-3ec88b82be79"
   },
   "outputs": [
    {
     "name": "stdout",
     "output_type": "stream",
     "text": [
      "_________________________________________________________________\n",
      "Layer (type)                 Output Shape              Param #   \n",
      "=================================================================\n",
      "conv2d_34 (Conv2D)           (None, 32, 32, 32)        896       \n",
      "_________________________________________________________________\n",
      "activation_38 (Activation)   (None, 32, 32, 32)        0         \n",
      "_________________________________________________________________\n",
      "batch_normalization_28 (Batc (None, 32, 32, 32)        128       \n",
      "_________________________________________________________________\n",
      "conv2d_35 (Conv2D)           (None, 32, 32, 32)        9248      \n",
      "_________________________________________________________________\n",
      "activation_39 (Activation)   (None, 32, 32, 32)        0         \n",
      "_________________________________________________________________\n",
      "batch_normalization_29 (Batc (None, 32, 32, 32)        128       \n",
      "_________________________________________________________________\n",
      "max_pooling2d_18 (MaxPooling (None, 16, 16, 32)        0         \n",
      "_________________________________________________________________\n",
      "dropout_15 (Dropout)         (None, 16, 16, 32)        0         \n",
      "_________________________________________________________________\n",
      "conv2d_36 (Conv2D)           (None, 16, 16, 64)        18496     \n",
      "_________________________________________________________________\n",
      "activation_40 (Activation)   (None, 16, 16, 64)        0         \n",
      "_________________________________________________________________\n",
      "batch_normalization_30 (Batc (None, 16, 16, 64)        256       \n",
      "_________________________________________________________________\n",
      "conv2d_37 (Conv2D)           (None, 16, 16, 64)        36928     \n",
      "_________________________________________________________________\n",
      "activation_41 (Activation)   (None, 16, 16, 64)        0         \n",
      "_________________________________________________________________\n",
      "batch_normalization_31 (Batc (None, 16, 16, 64)        256       \n",
      "_________________________________________________________________\n",
      "max_pooling2d_19 (MaxPooling (None, 8, 8, 64)          0         \n",
      "_________________________________________________________________\n",
      "dropout_16 (Dropout)         (None, 8, 8, 64)          0         \n",
      "_________________________________________________________________\n",
      "conv2d_38 (Conv2D)           (None, 8, 8, 128)         73856     \n",
      "_________________________________________________________________\n",
      "activation_42 (Activation)   (None, 8, 8, 128)         0         \n",
      "_________________________________________________________________\n",
      "batch_normalization_32 (Batc (None, 8, 8, 128)         512       \n",
      "_________________________________________________________________\n",
      "conv2d_39 (Conv2D)           (None, 8, 8, 128)         147584    \n",
      "_________________________________________________________________\n",
      "activation_43 (Activation)   (None, 8, 8, 128)         0         \n",
      "_________________________________________________________________\n",
      "batch_normalization_33 (Batc (None, 8, 8, 128)         512       \n",
      "_________________________________________________________________\n",
      "max_pooling2d_20 (MaxPooling (None, 4, 4, 128)         0         \n",
      "_________________________________________________________________\n",
      "dropout_17 (Dropout)         (None, 4, 4, 128)         0         \n",
      "_________________________________________________________________\n",
      "flatten_5 (Flatten)          (None, 2048)              0         \n",
      "_________________________________________________________________\n",
      "dense_8 (Dense)              (None, 10)                20490     \n",
      "=================================================================\n",
      "Total params: 309,290\n",
      "Trainable params: 308,394\n",
      "Non-trainable params: 896\n",
      "_________________________________________________________________\n",
      "Epoch 1/125\n",
      "781/781 [==============================] - 51s 65ms/step - loss: 1.8901 - acc: 0.4267 - val_loss: 1.2803 - val_acc: 0.5846\n",
      "Epoch 2/125\n",
      "781/781 [==============================] - 46s 59ms/step - loss: 1.2581 - acc: 0.5953 - val_loss: 0.9548 - val_acc: 0.6970\n",
      "Epoch 3/125\n",
      "781/781 [==============================] - 45s 58ms/step - loss: 1.0738 - acc: 0.6566 - val_loss: 1.2223 - val_acc: 0.6448\n",
      "Epoch 4/125\n",
      "781/781 [==============================] - 44s 56ms/step - loss: 0.9721 - acc: 0.6936 - val_loss: 0.8353 - val_acc: 0.7448\n",
      "Epoch 5/125\n",
      "781/781 [==============================] - 45s 58ms/step - loss: 0.9122 - acc: 0.7166 - val_loss: 0.8307 - val_acc: 0.7483\n",
      "Epoch 6/125\n",
      "781/781 [==============================] - 45s 58ms/step - loss: 0.8630 - acc: 0.7359 - val_loss: 0.7955 - val_acc: 0.7657\n",
      "Epoch 7/125\n",
      "781/781 [==============================] - 45s 58ms/step - loss: 0.8293 - acc: 0.7499 - val_loss: 0.7339 - val_acc: 0.7902\n",
      "Epoch 8/125\n",
      "781/781 [==============================] - 45s 58ms/step - loss: 0.7960 - acc: 0.7629 - val_loss: 0.7600 - val_acc: 0.7825\n",
      "Epoch 9/125\n",
      "781/781 [==============================] - 46s 59ms/step - loss: 0.7810 - acc: 0.7691 - val_loss: 0.7162 - val_acc: 0.7988\n",
      "Epoch 10/125\n",
      "781/781 [==============================] - 46s 59ms/step - loss: 0.7550 - acc: 0.7803 - val_loss: 0.9161 - val_acc: 0.7512\n",
      "Epoch 11/125\n",
      "781/781 [==============================] - 46s 59ms/step - loss: 0.7433 - acc: 0.7843 - val_loss: 0.6639 - val_acc: 0.8180\n",
      "Epoch 12/125\n",
      "781/781 [==============================] - 46s 59ms/step - loss: 0.7304 - acc: 0.7908 - val_loss: 0.7128 - val_acc: 0.8026\n",
      "Epoch 13/125\n",
      "781/781 [==============================] - 45s 57ms/step - loss: 0.7191 - acc: 0.7949 - val_loss: 0.6786 - val_acc: 0.8096\n",
      "Epoch 14/125\n",
      "781/781 [==============================] - 45s 57ms/step - loss: 0.7077 - acc: 0.7994 - val_loss: 0.6747 - val_acc: 0.8177\n",
      "Epoch 15/125\n",
      "781/781 [==============================] - 41s 53ms/step - loss: 0.7003 - acc: 0.8043 - val_loss: 0.7681 - val_acc: 0.7954\n",
      "Epoch 16/125\n",
      "781/781 [==============================] - 42s 53ms/step - loss: 0.6896 - acc: 0.8077 - val_loss: 0.6894 - val_acc: 0.8184\n",
      "Epoch 17/125\n",
      "781/781 [==============================] - 42s 54ms/step - loss: 0.6845 - acc: 0.8096 - val_loss: 0.6170 - val_acc: 0.8406\n",
      "Epoch 18/125\n",
      "781/781 [==============================] - 43s 54ms/step - loss: 0.6767 - acc: 0.8129 - val_loss: 0.6976 - val_acc: 0.8165\n",
      "Epoch 19/125\n",
      "781/781 [==============================] - 42s 54ms/step - loss: 0.6703 - acc: 0.8161 - val_loss: 0.7132 - val_acc: 0.8160\n",
      "Epoch 20/125\n",
      "781/781 [==============================] - 43s 55ms/step - loss: 0.6618 - acc: 0.8181 - val_loss: 0.6901 - val_acc: 0.8183\n",
      "Epoch 21/125\n",
      "781/781 [==============================] - 42s 54ms/step - loss: 0.6564 - acc: 0.8223 - val_loss: 0.6469 - val_acc: 0.8365\n",
      "Epoch 22/125\n",
      "781/781 [==============================] - 45s 58ms/step - loss: 0.6521 - acc: 0.8218 - val_loss: 0.6412 - val_acc: 0.8356\n",
      "Epoch 23/125\n",
      "781/781 [==============================] - 45s 58ms/step - loss: 0.6503 - acc: 0.8236 - val_loss: 0.6663 - val_acc: 0.8296\n",
      "Epoch 24/125\n",
      "781/781 [==============================] - 45s 57ms/step - loss: 0.6457 - acc: 0.8256 - val_loss: 0.7534 - val_acc: 0.8067\n",
      "Epoch 25/125\n",
      "781/781 [==============================] - 45s 58ms/step - loss: 0.6440 - acc: 0.8302 - val_loss: 0.6521 - val_acc: 0.8341\n",
      "Epoch 26/125\n",
      "781/781 [==============================] - 46s 59ms/step - loss: 0.6408 - acc: 0.8282 - val_loss: 0.5746 - val_acc: 0.8555\n",
      "Epoch 27/125\n",
      "781/781 [==============================] - 47s 60ms/step - loss: 0.6350 - acc: 0.8303 - val_loss: 0.6355 - val_acc: 0.8406\n",
      "Epoch 28/125\n",
      "781/781 [==============================] - 46s 59ms/step - loss: 0.6315 - acc: 0.8318 - val_loss: 0.5793 - val_acc: 0.8559\n",
      "Epoch 29/125\n",
      "781/781 [==============================] - 46s 59ms/step - loss: 0.6281 - acc: 0.8333 - val_loss: 0.6586 - val_acc: 0.8325\n",
      "Epoch 30/125\n",
      "781/781 [==============================] - 46s 59ms/step - loss: 0.6272 - acc: 0.8323 - val_loss: 0.5959 - val_acc: 0.8532\n",
      "Epoch 31/125\n",
      "781/781 [==============================] - 46s 59ms/step - loss: 0.6248 - acc: 0.8363 - val_loss: 0.6128 - val_acc: 0.8480\n",
      "Epoch 32/125\n",
      "781/781 [==============================] - 46s 59ms/step - loss: 0.6208 - acc: 0.8359 - val_loss: 0.6159 - val_acc: 0.8432\n",
      "Epoch 33/125\n",
      "781/781 [==============================] - 46s 59ms/step - loss: 0.6212 - acc: 0.8353 - val_loss: 0.6178 - val_acc: 0.8480\n",
      "Epoch 34/125\n",
      "781/781 [==============================] - 46s 58ms/step - loss: 0.6140 - acc: 0.8377 - val_loss: 0.6528 - val_acc: 0.8339\n",
      "Epoch 35/125\n",
      "781/781 [==============================] - 45s 58ms/step - loss: 0.6162 - acc: 0.8395 - val_loss: 0.5662 - val_acc: 0.8633\n",
      "Epoch 36/125\n",
      "781/781 [==============================] - 45s 58ms/step - loss: 0.6148 - acc: 0.8374 - val_loss: 0.6198 - val_acc: 0.8462\n",
      "Epoch 37/125\n",
      "781/781 [==============================] - 46s 59ms/step - loss: 0.6202 - acc: 0.8380 - val_loss: 0.5930 - val_acc: 0.8534\n",
      "Epoch 38/125\n",
      "781/781 [==============================] - 45s 58ms/step - loss: 0.6040 - acc: 0.8421 - val_loss: 0.5840 - val_acc: 0.8568\n",
      "Epoch 39/125\n",
      "781/781 [==============================] - 45s 58ms/step - loss: 0.6094 - acc: 0.8417 - val_loss: 0.6894 - val_acc: 0.8245\n",
      "Epoch 40/125\n",
      "781/781 [==============================] - 43s 56ms/step - loss: 0.6088 - acc: 0.8417 - val_loss: 0.6491 - val_acc: 0.8347\n",
      "Epoch 41/125\n",
      "781/781 [==============================] - 44s 56ms/step - loss: 0.6097 - acc: 0.8417 - val_loss: 0.6117 - val_acc: 0.8519\n",
      "Epoch 42/125\n",
      "781/781 [==============================] - 44s 56ms/step - loss: 0.6016 - acc: 0.8426 - val_loss: 0.6472 - val_acc: 0.8382\n",
      "Epoch 43/125\n",
      "781/781 [==============================] - 44s 56ms/step - loss: 0.6055 - acc: 0.8417 - val_loss: 0.6145 - val_acc: 0.8536\n",
      "Epoch 44/125\n",
      "781/781 [==============================] - 41s 52ms/step - loss: 0.5979 - acc: 0.8449 - val_loss: 0.7287 - val_acc: 0.8166\n",
      "Epoch 45/125\n",
      "781/781 [==============================] - 41s 53ms/step - loss: 0.5989 - acc: 0.8466 - val_loss: 0.5706 - val_acc: 0.8616\n",
      "Epoch 46/125\n",
      "781/781 [==============================] - 42s 54ms/step - loss: 0.5963 - acc: 0.8470 - val_loss: 0.5948 - val_acc: 0.8522\n",
      "Epoch 47/125\n",
      "781/781 [==============================] - 46s 59ms/step - loss: 0.5981 - acc: 0.8455 - val_loss: 0.6005 - val_acc: 0.8504\n",
      "Epoch 48/125\n",
      "781/781 [==============================] - 46s 59ms/step - loss: 0.5942 - acc: 0.8479 - val_loss: 0.6619 - val_acc: 0.8347\n",
      "Epoch 49/125\n",
      "781/781 [==============================] - 46s 59ms/step - loss: 0.5936 - acc: 0.8490 - val_loss: 0.5962 - val_acc: 0.8551\n",
      "Epoch 50/125\n",
      "781/781 [==============================] - 46s 59ms/step - loss: 0.5926 - acc: 0.8493 - val_loss: 0.6062 - val_acc: 0.8574\n",
      "Epoch 51/125\n",
      "781/781 [==============================] - 46s 59ms/step - loss: 0.5940 - acc: 0.8474 - val_loss: 0.5477 - val_acc: 0.8675\n",
      "Epoch 52/125\n",
      "781/781 [==============================] - 46s 59ms/step - loss: 0.5911 - acc: 0.8481 - val_loss: 0.5823 - val_acc: 0.8586\n",
      "Epoch 53/125\n",
      "781/781 [==============================] - 46s 58ms/step - loss: 0.5866 - acc: 0.8491 - val_loss: 0.6929 - val_acc: 0.8327\n",
      "Epoch 54/125\n",
      "781/781 [==============================] - 45s 58ms/step - loss: 0.5964 - acc: 0.8475 - val_loss: 0.6243 - val_acc: 0.8447\n",
      "Epoch 55/125\n",
      "781/781 [==============================] - 45s 58ms/step - loss: 0.5855 - acc: 0.8519 - val_loss: 0.6318 - val_acc: 0.8437\n",
      "Epoch 56/125\n",
      "781/781 [==============================] - 45s 58ms/step - loss: 0.5877 - acc: 0.8483 - val_loss: 0.6830 - val_acc: 0.8337\n",
      "Epoch 57/125\n",
      "781/781 [==============================] - 45s 57ms/step - loss: 0.5886 - acc: 0.8480 - val_loss: 0.6623 - val_acc: 0.8363\n",
      "Epoch 58/125\n",
      "781/781 [==============================] - 45s 57ms/step - loss: 0.5849 - acc: 0.8510 - val_loss: 0.5587 - val_acc: 0.8627\n",
      "Epoch 59/125\n",
      "781/781 [==============================] - 45s 58ms/step - loss: 0.5848 - acc: 0.8515 - val_loss: 0.5556 - val_acc: 0.8659\n",
      "Epoch 60/125\n",
      "781/781 [==============================] - 46s 59ms/step - loss: 0.5856 - acc: 0.8503 - val_loss: 0.5955 - val_acc: 0.8570\n",
      "Epoch 61/125\n",
      "781/781 [==============================] - 46s 59ms/step - loss: 0.5814 - acc: 0.8514 - val_loss: 0.5832 - val_acc: 0.8590\n",
      "Epoch 62/125\n",
      "781/781 [==============================] - 46s 59ms/step - loss: 0.5841 - acc: 0.8518 - val_loss: 0.6062 - val_acc: 0.8507\n",
      "Epoch 63/125\n",
      "781/781 [==============================] - 46s 59ms/step - loss: 0.5768 - acc: 0.8535 - val_loss: 0.5891 - val_acc: 0.8569\n",
      "Epoch 64/125\n",
      "781/781 [==============================] - 46s 59ms/step - loss: 0.5808 - acc: 0.8528 - val_loss: 0.5578 - val_acc: 0.8687\n",
      "Epoch 65/125\n",
      "781/781 [==============================] - 46s 58ms/step - loss: 0.5815 - acc: 0.8528 - val_loss: 0.6389 - val_acc: 0.8458\n",
      "Epoch 66/125\n",
      "781/781 [==============================] - 46s 59ms/step - loss: 0.5751 - acc: 0.8547 - val_loss: 0.6679 - val_acc: 0.8408\n",
      "Epoch 67/125\n",
      "781/781 [==============================] - 46s 58ms/step - loss: 0.5796 - acc: 0.8527 - val_loss: 0.6078 - val_acc: 0.8524\n",
      "Epoch 68/125\n",
      "781/781 [==============================] - 46s 59ms/step - loss: 0.5800 - acc: 0.8544 - val_loss: 0.6283 - val_acc: 0.8452\n",
      "Epoch 69/125\n",
      "781/781 [==============================] - 46s 59ms/step - loss: 0.5790 - acc: 0.8532 - val_loss: 0.5298 - val_acc: 0.8774\n",
      "Epoch 70/125\n",
      "781/781 [==============================] - 46s 59ms/step - loss: 0.5808 - acc: 0.8531 - val_loss: 0.6271 - val_acc: 0.8422\n",
      "Epoch 71/125\n",
      "781/781 [==============================] - 46s 59ms/step - loss: 0.5715 - acc: 0.8572 - val_loss: 0.5412 - val_acc: 0.8741\n",
      "Epoch 72/125\n",
      "781/781 [==============================] - 46s 59ms/step - loss: 0.5766 - acc: 0.8543 - val_loss: 0.5867 - val_acc: 0.8645\n",
      "Epoch 73/125\n",
      "781/781 [==============================] - 46s 59ms/step - loss: 0.5751 - acc: 0.8528 - val_loss: 0.5482 - val_acc: 0.8697\n",
      "Epoch 74/125\n",
      "781/781 [==============================] - 45s 58ms/step - loss: 0.5716 - acc: 0.8568 - val_loss: 0.5894 - val_acc: 0.8597\n",
      "Epoch 75/125\n",
      "781/781 [==============================] - 45s 57ms/step - loss: 0.5712 - acc: 0.8561 - val_loss: 0.6132 - val_acc: 0.8508\n",
      "Epoch 76/125\n",
      "781/781 [==============================] - 45s 57ms/step - loss: 0.5722 - acc: 0.8546 - val_loss: 0.5801 - val_acc: 0.8623\n",
      "Epoch 77/125\n",
      "781/781 [==============================] - 45s 57ms/step - loss: 0.5260 - acc: 0.8711 - val_loss: 0.5445 - val_acc: 0.8710\n",
      "Epoch 78/125\n",
      "781/781 [==============================] - 43s 56ms/step - loss: 0.5102 - acc: 0.8752 - val_loss: 0.5457 - val_acc: 0.8681\n",
      "Epoch 79/125\n",
      "781/781 [==============================] - 41s 53ms/step - loss: 0.5026 - acc: 0.8767 - val_loss: 0.5150 - val_acc: 0.8770\n",
      "Epoch 80/125\n",
      "781/781 [==============================] - 39s 50ms/step - loss: 0.4976 - acc: 0.8770 - val_loss: 0.5078 - val_acc: 0.8797\n",
      "Epoch 81/125\n",
      "781/781 [==============================] - 37s 47ms/step - loss: 0.4939 - acc: 0.8769 - val_loss: 0.5330 - val_acc: 0.8736\n",
      "Epoch 82/125\n",
      "781/781 [==============================] - 37s 48ms/step - loss: 0.4921 - acc: 0.8770 - val_loss: 0.5559 - val_acc: 0.8668\n",
      "Epoch 83/125\n",
      "781/781 [==============================] - 40s 51ms/step - loss: 0.4835 - acc: 0.8797 - val_loss: 0.5080 - val_acc: 0.8796\n",
      "Epoch 84/125\n",
      "781/781 [==============================] - 44s 56ms/step - loss: 0.4832 - acc: 0.8793 - val_loss: 0.4869 - val_acc: 0.8829\n",
      "Epoch 85/125\n",
      "781/781 [==============================] - 44s 56ms/step - loss: 0.4791 - acc: 0.8789 - val_loss: 0.5169 - val_acc: 0.8760\n",
      "Epoch 86/125\n",
      "781/781 [==============================] - 43s 55ms/step - loss: 0.4781 - acc: 0.8795 - val_loss: 0.5263 - val_acc: 0.8763\n",
      "Epoch 87/125\n",
      "781/781 [==============================] - 40s 51ms/step - loss: 0.4712 - acc: 0.8804 - val_loss: 0.5343 - val_acc: 0.8645\n",
      "Epoch 88/125\n",
      "781/781 [==============================] - 40s 52ms/step - loss: 0.4721 - acc: 0.8793 - val_loss: 0.5203 - val_acc: 0.8727\n",
      "Epoch 89/125\n",
      "781/781 [==============================] - 45s 57ms/step - loss: 0.4678 - acc: 0.8820 - val_loss: 0.4982 - val_acc: 0.8764\n",
      "Epoch 90/125\n",
      "781/781 [==============================] - 45s 57ms/step - loss: 0.4618 - acc: 0.8820 - val_loss: 0.5659 - val_acc: 0.8636\n",
      "Epoch 91/125\n",
      "781/781 [==============================] - 44s 56ms/step - loss: 0.4643 - acc: 0.8822 - val_loss: 0.4846 - val_acc: 0.8862\n",
      "Epoch 92/125\n",
      "781/781 [==============================] - 43s 56ms/step - loss: 0.4621 - acc: 0.8814 - val_loss: 0.4688 - val_acc: 0.8896\n",
      "Epoch 93/125\n",
      "781/781 [==============================] - 43s 55ms/step - loss: 0.4688 - acc: 0.8795 - val_loss: 0.5712 - val_acc: 0.8592\n",
      "Epoch 94/125\n",
      "781/781 [==============================] - 43s 56ms/step - loss: 0.4602 - acc: 0.8827 - val_loss: 0.5031 - val_acc: 0.8781\n",
      "Epoch 95/125\n",
      "781/781 [==============================] - 42s 54ms/step - loss: 0.4660 - acc: 0.8802 - val_loss: 0.5480 - val_acc: 0.8621\n",
      "Epoch 96/125\n",
      "781/781 [==============================] - 43s 55ms/step - loss: 0.4552 - acc: 0.8838 - val_loss: 0.4992 - val_acc: 0.8764\n",
      "Epoch 97/125\n",
      "781/781 [==============================] - 42s 53ms/step - loss: 0.4553 - acc: 0.8836 - val_loss: 0.4737 - val_acc: 0.8848\n",
      "Epoch 98/125\n",
      "781/781 [==============================] - 38s 49ms/step - loss: 0.4583 - acc: 0.8819 - val_loss: 0.5194 - val_acc: 0.8737\n",
      "Epoch 99/125\n",
      "781/781 [==============================] - 40s 52ms/step - loss: 0.4547 - acc: 0.8827 - val_loss: 0.4877 - val_acc: 0.8813\n",
      "Epoch 100/125\n",
      "781/781 [==============================] - 39s 50ms/step - loss: 0.4507 - acc: 0.8833 - val_loss: 0.5018 - val_acc: 0.8783\n",
      "Epoch 101/125\n",
      "781/781 [==============================] - 39s 50ms/step - loss: 0.4512 - acc: 0.8845 - val_loss: 0.4879 - val_acc: 0.8814\n",
      "Epoch 102/125\n",
      "781/781 [==============================] - 38s 48ms/step - loss: 0.4298 - acc: 0.8914 - val_loss: 0.4773 - val_acc: 0.8830\n",
      "Epoch 103/125\n",
      "781/781 [==============================] - 43s 55ms/step - loss: 0.4226 - acc: 0.8933 - val_loss: 0.4680 - val_acc: 0.8879\n",
      "Epoch 104/125\n",
      "781/781 [==============================] - 44s 57ms/step - loss: 0.4230 - acc: 0.8921 - val_loss: 0.4710 - val_acc: 0.8837\n",
      "Epoch 105/125\n",
      "781/781 [==============================] - 45s 58ms/step - loss: 0.4207 - acc: 0.8937 - val_loss: 0.4594 - val_acc: 0.8887\n",
      "Epoch 106/125\n",
      "781/781 [==============================] - 46s 60ms/step - loss: 0.4213 - acc: 0.8925 - val_loss: 0.4559 - val_acc: 0.8880\n",
      "Epoch 107/125\n",
      "781/781 [==============================] - 46s 59ms/step - loss: 0.4134 - acc: 0.8942 - val_loss: 0.4538 - val_acc: 0.8866\n",
      "Epoch 108/125\n",
      "781/781 [==============================] - 46s 59ms/step - loss: 0.4077 - acc: 0.8968 - val_loss: 0.4986 - val_acc: 0.8753\n",
      "Epoch 109/125\n",
      "781/781 [==============================] - 46s 59ms/step - loss: 0.4087 - acc: 0.8947 - val_loss: 0.4653 - val_acc: 0.8851\n",
      "Epoch 110/125\n",
      "781/781 [==============================] - 46s 59ms/step - loss: 0.4068 - acc: 0.8962 - val_loss: 0.4406 - val_acc: 0.8949\n",
      "Epoch 111/125\n",
      "781/781 [==============================] - 47s 60ms/step - loss: 0.4127 - acc: 0.8943 - val_loss: 0.4256 - val_acc: 0.8966\n",
      "Epoch 112/125\n",
      "781/781 [==============================] - 46s 59ms/step - loss: 0.4056 - acc: 0.8955 - val_loss: 0.4640 - val_acc: 0.8859\n",
      "Epoch 113/125\n",
      "781/781 [==============================] - 46s 59ms/step - loss: 0.4040 - acc: 0.8965 - val_loss: 0.4549 - val_acc: 0.8908\n",
      "Epoch 114/125\n",
      "781/781 [==============================] - 46s 59ms/step - loss: 0.4035 - acc: 0.8966 - val_loss: 0.4557 - val_acc: 0.8873\n",
      "Epoch 115/125\n",
      "781/781 [==============================] - 46s 59ms/step - loss: 0.4039 - acc: 0.8955 - val_loss: 0.4503 - val_acc: 0.8905\n",
      "Epoch 116/125\n",
      "781/781 [==============================] - 46s 59ms/step - loss: 0.4054 - acc: 0.8951 - val_loss: 0.4566 - val_acc: 0.8881\n",
      "Epoch 117/125\n",
      "781/781 [==============================] - 46s 59ms/step - loss: 0.4003 - acc: 0.8958 - val_loss: 0.4451 - val_acc: 0.8880\n",
      "Epoch 118/125\n",
      "781/781 [==============================] - 46s 59ms/step - loss: 0.3974 - acc: 0.8976 - val_loss: 0.4545 - val_acc: 0.8885\n",
      "Epoch 119/125\n",
      "781/781 [==============================] - 46s 59ms/step - loss: 0.3991 - acc: 0.8969 - val_loss: 0.4273 - val_acc: 0.8954\n",
      "Epoch 120/125\n",
      "781/781 [==============================] - 46s 59ms/step - loss: 0.3943 - acc: 0.8968 - val_loss: 0.4525 - val_acc: 0.8876\n",
      "Epoch 121/125\n",
      "781/781 [==============================] - 46s 59ms/step - loss: 0.3974 - acc: 0.8959 - val_loss: 0.4502 - val_acc: 0.8894\n",
      "Epoch 122/125\n",
      "781/781 [==============================] - 46s 59ms/step - loss: 0.3930 - acc: 0.8983 - val_loss: 0.4279 - val_acc: 0.8924\n",
      "Epoch 123/125\n",
      "781/781 [==============================] - 46s 59ms/step - loss: 0.3932 - acc: 0.8980 - val_loss: 0.4739 - val_acc: 0.8819\n",
      "Epoch 124/125\n",
      "781/781 [==============================] - 46s 58ms/step - loss: 0.3914 - acc: 0.8969 - val_loss: 0.4370 - val_acc: 0.8901\n",
      "Epoch 125/125\n",
      "781/781 [==============================] - 46s 58ms/step - loss: 0.3912 - acc: 0.8993 - val_loss: 0.4611 - val_acc: 0.8850\n"
     ]
    }
   ],
   "source": [
    "advanced_model = create_advanced_model()"
   ]
  },
  {
   "cell_type": "code",
   "execution_count": 48,
   "metadata": {
    "colab": {
     "base_uri": "https://localhost:8080/",
     "height": 116
    },
    "colab_type": "code",
    "id": "p02jEjqJjSpA",
    "outputId": "cf54f693-f9b8-4c24-cef5-1b7cbf916edd"
   },
   "outputs": [
    {
     "name": "stdout",
     "output_type": "stream",
     "text": [
      "10000/10000 [==============================] - 1s 141us/step\n",
      "Test loss: 0.46111083664894104\n",
      "Test accuracy: 0.885\n",
      "[0.46111083664894104, 0.885]\n"
     ]
    }
   ],
   "source": [
    "score = advanced_model.evaluate(x_test, y_test, batch_size=128, verbose=1)\n",
    "print('Test loss:', score[0])\n",
    "print('Test accuracy:', score[1])\n",
    "print(score)"
   ]
  }
 ],
 "metadata": {
  "accelerator": "GPU",
  "colab": {
   "collapsed_sections": [],
   "name": "Problem Set 2 – Image recognition.ipynb",
   "provenance": [],
   "version": "0.3.2"
  },
  "kernelspec": {
   "display_name": "Python 3",
   "language": "python",
   "name": "python3"
  },
  "language_info": {
   "codemirror_mode": {
    "name": "ipython",
    "version": 3
   },
   "file_extension": ".py",
   "mimetype": "text/x-python",
   "name": "python",
   "nbconvert_exporter": "python",
   "pygments_lexer": "ipython3",
   "version": "3.6.8"
  }
 },
 "nbformat": 4,
 "nbformat_minor": 1
}
