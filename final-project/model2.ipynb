{
 "cells": [
  {
   "cell_type": "markdown",
   "metadata": {},
   "source": [
    "Preprocessing from:\n",
    "https://github.com/gsurma/histopathologic_cancer_detector/blob/master/histopathologic_cancer_detector.ipynb\n",
    "<br>Model from:\n",
    "https://www.kaggle.com/fmarazzi/baseline-keras-cnn-roc-fast-10min-0-925-lb"
   ]
  },
  {
   "cell_type": "markdown",
   "metadata": {
    "_uuid": "dfc41ba2b70e88b92ff41a94f0b6504336f2360d"
   },
   "source": [
    "-----------------------------------------\n",
    "# Data visualization"
   ]
  },
  {
   "cell_type": "code",
   "execution_count": 15,
   "metadata": {
    "ExecuteTime": {
     "end_time": "2019-04-11T06:29:33.787238Z",
     "start_time": "2019-04-11T06:29:33.775494Z"
    },
    "_cell_guid": "b1076dfc-b9ad-4769-8c92-a6c4dae69d19",
    "_uuid": "8f2839f25d086af736a60e9eeb907d3b93b6e0e5"
   },
   "outputs": [],
   "source": [
    "%matplotlib inline\n",
    "\n",
    "import numpy as np \n",
    "import pandas as pd \n",
    "from glob import glob \n",
    "from skimage.io import imread \n",
    "import os\n",
    "import shutil\n",
    "import matplotlib.pyplot as plt\n",
    "from sklearn.metrics import roc_curve, auc, roc_auc_score\n",
    "from sklearn.model_selection import train_test_split\n",
    "from keras.preprocessing.image import ImageDataGenerator\n",
    "# from keras.applications.nasnet import NASNetMobile\n",
    "# from keras.applications import NASNetMobile\n",
    "# from keras.applications.xception import Xception\n",
    "from keras.utils.vis_utils import plot_model\n",
    "from keras.layers import Dropout, Flatten, Dense, GlobalAveragePooling2D, Average\n",
    "from keras.layers import Input, Concatenate, GlobalMaxPooling2D, BatchNormalization\n",
    "from keras.layers import Conv2D, MaxPool2D, Activation\n",
    "from keras.models import Model\n",
    "from keras.models import Sequential\n",
    "from keras.callbacks import CSVLogger, ModelCheckpoint\n",
    "from keras.callbacks import EarlyStopping, ReduceLROnPlateau\n",
    "from keras.optimizers import RMSprop, Adam\n",
    "from keras.models import load_model\n",
    "# from livelossplot import PlotLossesKeras\n",
    "\n",
    "# import src.constants"
   ]
  },
  {
   "cell_type": "code",
   "execution_count": 16,
   "metadata": {
    "ExecuteTime": {
     "end_time": "2019-04-11T06:29:34.319144Z",
     "start_time": "2019-04-11T06:29:34.314689Z"
    }
   },
   "outputs": [
    {
     "name": "stdout",
     "output_type": "stream",
     "text": [
      "[name: \"/device:CPU:0\"\n",
      "device_type: \"CPU\"\n",
      "memory_limit: 268435456\n",
      "locality {\n",
      "}\n",
      "incarnation: 13089500469663152004\n",
      "]\n"
     ]
    }
   ],
   "source": [
    "from keras import backend as K\n",
    "K.tensorflow_backend._get_available_gpus()\n",
    "from tensorflow.python.client import device_lib\n",
    "print(device_lib.list_local_devices())"
   ]
  },
  {
   "cell_type": "code",
   "execution_count": 17,
   "metadata": {
    "ExecuteTime": {
     "end_time": "2019-04-11T06:29:34.965084Z",
     "start_time": "2019-04-11T06:29:34.959408Z"
    }
   },
   "outputs": [],
   "source": [
    "# Output files\n",
    "OUTPUT_DIR = \"output_model2/\"\n",
    "# MODEL_SUMMARY_FILE = OUTPUT_DIR + \"model_summary.txt\"\n",
    "MODEL_PLOT_FILE = OUTPUT_DIR + \"model_plot.png\"\n",
    "\n",
    "TRAINING_LOGS_FILE_1 = OUTPUT_DIR + \"training_logs_no_aug.csv\"\n",
    "MODEL_FILE_1 = OUTPUT_DIR + \"model_no_aug.h5\"\n",
    "TRAINING_PLOT_FILE_1 = OUTPUT_DIR + \"training_no_aug.png\"\n",
    "VALIDATION_PLOT_FILE_1 = OUTPUT_DIR + \"validation_no_aug.png\"\n",
    "ROC_PLOT_FILE_1 = OUTPUT_DIR + \"roc_no_aug.png\"\n",
    "\n",
    "TRAINING_LOGS_FILE_2 = OUTPUT_DIR + \"training_logs_aug.csv\"\n",
    "MODEL_FILE_2 = OUTPUT_DIR + \"model_aug.h5\"\n",
    "TRAINING_PLOT_FILE_2 = OUTPUT_DIR + \"training_aug.png\"\n",
    "VALIDATION_PLOT_FILE_2 = OUTPUT_DIR + \"validation_aug.png\"\n",
    "ROC_PLOT_FILE_2 = OUTPUT_DIR + \"roc_aug.png\"\n",
    "\n",
    "# KAGGLE_SUBMISSION_FILE = \"kaggle_submission.csv\"\n",
    "\n",
    "# Hyperparams\n",
    "SAMPLE_COUNT = 85000 #??? why only 85000\n",
    "TRAINING_RATIO = 0.9\n",
    "IMAGE_SIZE = 96\n",
    "EPOCHS = 13\n",
    "BATCH_SIZE = 192\n",
    "VERBOSITY = 1\n",
    "TESTING_BATCH_SIZE = 5000"
   ]
  },
  {
   "cell_type": "code",
   "execution_count": 18,
   "metadata": {
    "ExecuteTime": {
     "end_time": "2019-04-11T06:29:35.841940Z",
     "start_time": "2019-04-11T06:29:35.829757Z"
    }
   },
   "outputs": [],
   "source": [
    "# Data (https://www.kaggle.com/c/histopathologic-cancer-detection/data)\n",
    "#input_dir = '../input/'\n",
    "def prepare_data_for_augmentation(need_to_prepare = False):\n",
    "    training_path = 'data/training'\n",
    "    validation_path = 'data/validation'\n",
    "    if (need_to_prepare == True):\n",
    "        data_dir = 'data/'\n",
    "        training_dir = data_dir + 'train/'\n",
    "        data_frame = pd.DataFrame({'path': glob(os.path.join(training_dir,'*.tif'))})\n",
    "        data_frame['id'] = data_frame.path.map(lambda x: x.split('/')[2].split('.')[0])\n",
    "        labels = pd.read_csv(data_dir + 'train_labels.csv')\n",
    "        data_frame = data_frame.merge(labels, on='id')\n",
    "        negatives = data_frame[data_frame.label == 0].sample(SAMPLE_COUNT)\n",
    "        positives = data_frame[data_frame.label == 1].sample(SAMPLE_COUNT)\n",
    "        data_frame = pd.concat([negatives, positives]).reset_index()\n",
    "        data_frame = data_frame[['path', 'id', 'label']]\n",
    "        data_frame['image'] = data_frame['path'].map(imread)\n",
    "\n",
    "        training_path = 'data/training'\n",
    "        validation_path = 'data/validation'\n",
    "\n",
    "        for folder in [training_path, validation_path]:\n",
    "            for subfolder in ['0', '1']:\n",
    "                path = os.path.join(folder, subfolder)\n",
    "                os.makedirs(path, exist_ok=True)\n",
    "\n",
    "        training, validation = train_test_split(data_frame, train_size=TRAINING_RATIO, stratify=data_frame['label'])\n",
    "\n",
    "        data_frame.set_index('id', inplace=True)\n",
    "\n",
    "        for images_and_path in [(training, training_path), (validation, validation_path)]:\n",
    "            images = images_and_path[0]\n",
    "            path = images_and_path[1]\n",
    "            for image in images['id'].values:\n",
    "                file_name = image + '.tif'\n",
    "                label = str(data_frame.loc[image,'label'])\n",
    "                destination = os.path.join(path, label, file_name)\n",
    "                if not os.path.exists(destination):\n",
    "                    source = os.path.join(data_dir + 'train', file_name)\n",
    "                    shutil.copyfile(source, destination)\n",
    "    \n",
    "    return [training_path, validation_path]"
   ]
  },
  {
   "cell_type": "code",
   "execution_count": 19,
   "metadata": {
    "ExecuteTime": {
     "end_time": "2019-04-11T06:29:36.271903Z",
     "start_time": "2019-04-11T06:29:36.264332Z"
    }
   },
   "outputs": [],
   "source": [
    "def prepare_data_generator(with_augmentation, training_path, validation_path):\n",
    "    if (with_augmentation == True):\n",
    "        # Data augmentation\n",
    "        training_data_generator = ImageDataGenerator(\n",
    "            rescale=1./255,\n",
    "            horizontal_flip=True,\n",
    "            vertical_flip=True,\n",
    "            rotation_range=180,\n",
    "            zoom_range=0.4, \n",
    "            width_shift_range=0.3,\n",
    "            height_shift_range=0.3,\n",
    "            shear_range=0.3,\n",
    "            channel_shift_range=0.3)\n",
    "    else:\n",
    "        # just rescale it now\n",
    "        training_data_generator = ImageDataGenerator(rescale=1./255)\n",
    "\n",
    "    # Data generation\n",
    "    training_generator = training_data_generator.flow_from_directory(\n",
    "        training_path,\n",
    "        target_size=(IMAGE_SIZE,IMAGE_SIZE),\n",
    "        batch_size=BATCH_SIZE,\n",
    "        class_mode='binary')\n",
    "\n",
    "    validation_generator = ImageDataGenerator(rescale=1./255).flow_from_directory(\n",
    "        validation_path,\n",
    "        target_size=(IMAGE_SIZE,IMAGE_SIZE),\n",
    "        batch_size=BATCH_SIZE,\n",
    "        class_mode='binary')\n",
    "\n",
    "    testing_generator = ImageDataGenerator(rescale=1./255).flow_from_directory(\n",
    "        validation_path,\n",
    "        target_size=(IMAGE_SIZE,IMAGE_SIZE),\n",
    "        batch_size=BATCH_SIZE,\n",
    "        class_mode='binary',\n",
    "        shuffle=False)\n",
    "    \n",
    "    return [training_generator, validation_generator, testing_generator]\n"
   ]
  },
  {
   "cell_type": "code",
   "execution_count": 28,
   "metadata": {
    "ExecuteTime": {
     "end_time": "2019-04-11T06:30:22.404460Z",
     "start_time": "2019-04-11T06:30:22.392007Z"
    }
   },
   "outputs": [],
   "source": [
    "# Model\n",
    "def create_model(file = ''):\n",
    "    kernel_size = (3,3)\n",
    "    pool_size= (2,2)\n",
    "    first_filters = 32\n",
    "    second_filters = 64\n",
    "    third_filters = 128\n",
    "\n",
    "    dropout_conv = 0.3\n",
    "    dropout_dense = 0.5\n",
    "\n",
    "    model = Sequential()\n",
    "    model.add(Conv2D(first_filters, kernel_size, activation = 'relu', input_shape = (IMAGE_SIZE, IMAGE_SIZE, 3)))\n",
    "    model.add(Conv2D(first_filters, kernel_size, use_bias=False))\n",
    "    model.add(BatchNormalization())\n",
    "    model.add(Activation(\"relu\"))\n",
    "    model.add(MaxPool2D(pool_size = pool_size)) \n",
    "    model.add(Dropout(dropout_conv))\n",
    "\n",
    "    model.add(Conv2D(second_filters, kernel_size, use_bias=False))\n",
    "    model.add(BatchNormalization())\n",
    "    model.add(Activation(\"relu\"))\n",
    "    model.add(Conv2D(second_filters, kernel_size, use_bias=False))\n",
    "    model.add(BatchNormalization())\n",
    "    model.add(Activation(\"relu\"))\n",
    "    model.add(MaxPool2D(pool_size = pool_size))\n",
    "    model.add(Dropout(dropout_conv))\n",
    "\n",
    "    model.add(Conv2D(third_filters, kernel_size, use_bias=False))\n",
    "    model.add(BatchNormalization())\n",
    "    model.add(Activation(\"relu\"))\n",
    "    model.add(Conv2D(third_filters, kernel_size, use_bias=False))\n",
    "    model.add(BatchNormalization())\n",
    "    model.add(Activation(\"relu\"))\n",
    "    model.add(MaxPool2D(pool_size = pool_size))\n",
    "    model.add(Dropout(dropout_conv))\n",
    "\n",
    "    #model.add(GlobalAveragePooling2D())\n",
    "    model.add(Flatten())\n",
    "    model.add(Dense(256, use_bias=False))\n",
    "    model.add(BatchNormalization())\n",
    "    model.add(Activation(\"relu\"))\n",
    "    model.add(Dropout(dropout_dense))\n",
    "    model.add(Dense(1, activation = \"sigmoid\"))\n",
    "    \n",
    "    if (os.path.exists(file) == True):\n",
    "        model = load_model(file)\n",
    "\n",
    "    # Compile the model\n",
    "    model.compile(Adam(0.01), loss = \"binary_crossentropy\", metrics=[\"accuracy\"])\n",
    "    model.summary()\n",
    "\n",
    "    plot_model(model,\n",
    "               to_file=MODEL_PLOT_FILE,\n",
    "               show_shapes=True,\n",
    "               show_layer_names=True)\n",
    "    \n",
    "    return model"
   ]
  },
  {
   "cell_type": "code",
   "execution_count": 32,
   "metadata": {
    "ExecuteTime": {
     "end_time": "2019-04-11T06:31:15.229292Z",
     "start_time": "2019-04-11T06:31:15.223669Z"
    }
   },
   "outputs": [],
   "source": [
    "def train(model, training_generator, validation_generator, model_file, logs_file):\n",
    "    #  Training\n",
    "#     earlystopper = EarlyStopping(monitor='val_loss', patience=2, verbose=1, restore_best_weights=True)\n",
    "#     reducel = ReduceLROnPlateau(monitor='val_loss', patience=1, verbose=1, factor=0.1)\n",
    "    history = model.fit_generator(training_generator, \n",
    "                                    steps_per_epoch=len(training_generator), \n",
    "                                    validation_data=validation_generator,\n",
    "                                    validation_steps=len(validation_generator),\n",
    "                                    epochs=EPOCHS,\n",
    "                                    callbacks=[ModelCheckpoint(model_file,\n",
    "                                                             monitor='val_acc',\n",
    "                                                             verbose=VERBOSITY,\n",
    "                                                             save_best_only=True,\n",
    "                                                             mode='max'),\n",
    "                                                 CSVLogger(logs_file,\n",
    "                                                           append=False,\n",
    "                                                           separator=';')])\n",
    "#     PlotLossesKeras(),\n",
    "\n",
    "\n",
    "#     history = model.fit_generator(training_generator,\n",
    "#                                   steps_per_epoch=len(training_generator), \n",
    "#                                   validation_data=validation_generator,\n",
    "#                                   validation_steps=len(validation_generator),\n",
    "#                                   epochs=EPOCHS,\n",
    "#                                   verbose=0,\n",
    "#                                   callbacks=[PlotLossesKeras(),\n",
    "#                                              ModelCheckpoint(MODEL_FILE,\n",
    "#                                                              monitor='val_acc',\n",
    "#                                                              verbose=VERBOSITY,\n",
    "#                                                              save_best_only=True,\n",
    "#                                                              mode='max'),\n",
    "#                                              CSVLogger(TRAINING_LOGS_FILE,\n",
    "#                                                        append=False,\n",
    "#                                                        separator=';')])"
   ]
  },
  {
   "cell_type": "code",
   "execution_count": 38,
   "metadata": {
    "ExecuteTime": {
     "end_time": "2019-04-11T06:44:23.328193Z",
     "start_time": "2019-04-11T06:44:23.320641Z"
    }
   },
   "outputs": [],
   "source": [
    "def plot_epochs(history, training_plot_file, validation_plot_file):\n",
    "    # Training plots\n",
    "    epochs = [i for i in range(1, len(history.history['loss'])+1)]\n",
    "\n",
    "    plt.plot(epochs, history.history['loss'], color='blue', label=\"training_loss\")\n",
    "    plt.plot(epochs, history.history['val_loss'], color='red', label=\"validation_loss\")\n",
    "    plt.legend(loc='best')\n",
    "    plt.title('training')\n",
    "    plt.xlabel('epoch')\n",
    "    plt.savefig(training_plot_file, bbox_inches='tight')\n",
    "    plt.close()\n",
    "\n",
    "    plt.plot(epochs, history.history['acc'], color='blue', label=\"training_accuracy\")\n",
    "    plt.plot(epochs, history.history['val_acc'], color='red',label=\"validation_accuracy\")\n",
    "    plt.legend(loc='best')\n",
    "    plt.title('validation')\n",
    "    plt.xlabel('epoch')\n",
    "    plt.savefig(validation_plot_file, bbox_inches='tight')\n",
    "    plt.close()"
   ]
  },
  {
   "cell_type": "code",
   "execution_count": 36,
   "metadata": {
    "ExecuteTime": {
     "end_time": "2019-04-11T06:40:38.367423Z",
     "start_time": "2019-04-11T06:40:38.361429Z"
    }
   },
   "outputs": [],
   "source": [
    "def plot_AUC(model, testing_generator, model_file, plot_file):\n",
    "    # ROC testing plot\n",
    "    model.load_weights(model_file)\n",
    "    predictions = model.predict_generator(testing_generator, steps=len(testing_generator), verbose=VERBOSITY)\n",
    "    false_positive_rate, true_positive_rate, threshold = roc_curve(testing_generator.classes, predictions)\n",
    "    area_under_curve = auc(false_positive_rate, true_positive_rate)\n",
    "    \n",
    "    print(\"False positive: \", false_positive_rate)\n",
    "    print(\"True positive: \", true_positive_rate)\n",
    "\n",
    "    plt.plot([0, 1], [0, 1], 'k--')\n",
    "    plt.plot(false_positive_rate, true_positive_rate, label='AUC = {:.3f}'.format(area_under_curve))\n",
    "    plt.xlabel('False positive rate')\n",
    "    plt.ylabel('True positive rate')\n",
    "    plt.title('ROC curve')\n",
    "    plt.legend(loc='best')\n",
    "    plt.show()\n",
    "    plt.savefig(plot_file, bbox_inches='tight')\n",
    "    plt.close()\n"
   ]
  },
  {
   "cell_type": "code",
   "execution_count": 24,
   "metadata": {
    "ExecuteTime": {
     "end_time": "2019-04-11T06:29:39.001356Z",
     "start_time": "2019-04-11T06:29:38.994003Z"
    }
   },
   "outputs": [],
   "source": [
    "def test(model):\n",
    "    testing_files = glob(os.path.join('data/test/','*.tif'))\n",
    "    submission = pd.DataFrame()\n",
    "    for index in range(0, len(testing_files), TESTING_BATCH_SIZE):\n",
    "        data_frame = pd.DataFrame({'path': testing_files[index:index+TESTING_BATCH_SIZE]})\n",
    "        data_frame['id'] = data_frame.path.map(lambda x: x.split('/')[2].split(\".\")[0])\n",
    "        data_frame['image'] = data_frame['path'].map(imread)\n",
    "        images = np.stack(data_frame.image, axis=0)\n",
    "        predicted_labels = [model.predict(np.expand_dims(image/255.0, axis=0))[0][0] for image in images]\n",
    "        predictions = np.array(predicted_labels)\n",
    "        data_frame['label'] = predictions\n",
    "        submission = pd.concat([submission, data_frame[[\"id\", \"label\"]]])\n",
    "    submission.to_csv(KAGGLE_SUBMISSION_FILE, index=False, header=True)"
   ]
  },
  {
   "cell_type": "code",
   "execution_count": 25,
   "metadata": {
    "ExecuteTime": {
     "end_time": "2019-04-11T06:29:40.167427Z",
     "start_time": "2019-04-11T06:29:40.164426Z"
    }
   },
   "outputs": [],
   "source": [
    "#run without augmentation\n",
    "paths = prepare_data_for_augmentation(need_to_prepare=False)"
   ]
  },
  {
   "cell_type": "code",
   "execution_count": 26,
   "metadata": {
    "ExecuteTime": {
     "end_time": "2019-04-11T06:30:06.403651Z",
     "start_time": "2019-04-11T06:29:43.539837Z"
    }
   },
   "outputs": [
    {
     "name": "stdout",
     "output_type": "stream",
     "text": [
      "Found 219341 images belonging to 2 classes.\n",
      "Found 83760 images belonging to 2 classes.\n",
      "Found 83760 images belonging to 2 classes.\n"
     ]
    }
   ],
   "source": [
    "generators = prepare_data_generator(\n",
    "    with_augmentation = False, \n",
    "    training_path = paths[0], \n",
    "    validation_path = paths[1])"
   ]
  },
  {
   "cell_type": "code",
   "execution_count": 29,
   "metadata": {
    "ExecuteTime": {
     "end_time": "2019-04-11T06:30:34.753011Z",
     "start_time": "2019-04-11T06:30:27.942434Z"
    }
   },
   "outputs": [
    {
     "name": "stdout",
     "output_type": "stream",
     "text": [
      "WARNING:tensorflow:From /Users/yevhenp/anaconda3/envs/keras-env/lib/python3.6/site-packages/tensorflow/python/ops/math_ops.py:3066: to_int32 (from tensorflow.python.ops.math_ops) is deprecated and will be removed in a future version.\n",
      "Instructions for updating:\n",
      "Use tf.cast instead.\n",
      "_________________________________________________________________\n",
      "Layer (type)                 Output Shape              Param #   \n",
      "=================================================================\n",
      "conv2d_1 (Conv2D)            (None, 94, 94, 32)        896       \n",
      "_________________________________________________________________\n",
      "conv2d_2 (Conv2D)            (None, 92, 92, 32)        9216      \n",
      "_________________________________________________________________\n",
      "batch_normalization_1 (Batch (None, 92, 92, 32)        128       \n",
      "_________________________________________________________________\n",
      "activation_1 (Activation)    (None, 92, 92, 32)        0         \n",
      "_________________________________________________________________\n",
      "max_pooling2d_1 (MaxPooling2 (None, 46, 46, 32)        0         \n",
      "_________________________________________________________________\n",
      "dropout_1 (Dropout)          (None, 46, 46, 32)        0         \n",
      "_________________________________________________________________\n",
      "conv2d_3 (Conv2D)            (None, 44, 44, 64)        18432     \n",
      "_________________________________________________________________\n",
      "batch_normalization_2 (Batch (None, 44, 44, 64)        256       \n",
      "_________________________________________________________________\n",
      "activation_2 (Activation)    (None, 44, 44, 64)        0         \n",
      "_________________________________________________________________\n",
      "conv2d_4 (Conv2D)            (None, 42, 42, 64)        36864     \n",
      "_________________________________________________________________\n",
      "batch_normalization_3 (Batch (None, 42, 42, 64)        256       \n",
      "_________________________________________________________________\n",
      "activation_3 (Activation)    (None, 42, 42, 64)        0         \n",
      "_________________________________________________________________\n",
      "max_pooling2d_2 (MaxPooling2 (None, 21, 21, 64)        0         \n",
      "_________________________________________________________________\n",
      "dropout_2 (Dropout)          (None, 21, 21, 64)        0         \n",
      "_________________________________________________________________\n",
      "conv2d_5 (Conv2D)            (None, 19, 19, 128)       73728     \n",
      "_________________________________________________________________\n",
      "batch_normalization_4 (Batch (None, 19, 19, 128)       512       \n",
      "_________________________________________________________________\n",
      "activation_4 (Activation)    (None, 19, 19, 128)       0         \n",
      "_________________________________________________________________\n",
      "conv2d_6 (Conv2D)            (None, 17, 17, 128)       147456    \n",
      "_________________________________________________________________\n",
      "batch_normalization_5 (Batch (None, 17, 17, 128)       512       \n",
      "_________________________________________________________________\n",
      "activation_5 (Activation)    (None, 17, 17, 128)       0         \n",
      "_________________________________________________________________\n",
      "max_pooling2d_3 (MaxPooling2 (None, 8, 8, 128)         0         \n",
      "_________________________________________________________________\n",
      "dropout_3 (Dropout)          (None, 8, 8, 128)         0         \n",
      "_________________________________________________________________\n",
      "flatten_1 (Flatten)          (None, 8192)              0         \n",
      "_________________________________________________________________\n",
      "dense_1 (Dense)              (None, 256)               2097152   \n",
      "_________________________________________________________________\n",
      "batch_normalization_6 (Batch (None, 256)               1024      \n",
      "_________________________________________________________________\n",
      "activation_6 (Activation)    (None, 256)               0         \n",
      "_________________________________________________________________\n",
      "dropout_4 (Dropout)          (None, 256)               0         \n",
      "_________________________________________________________________\n",
      "dense_2 (Dense)              (None, 1)                 257       \n",
      "=================================================================\n",
      "Total params: 2,386,689\n",
      "Trainable params: 2,385,345\n",
      "Non-trainable params: 1,344\n",
      "_________________________________________________________________\n"
     ]
    }
   ],
   "source": [
    "model = create_model(MODEL_FILE_1)"
   ]
  },
  {
   "cell_type": "code",
   "execution_count": 30,
   "metadata": {
    "ExecuteTime": {
     "end_time": "2019-04-11T06:30:46.469307Z",
     "start_time": "2019-04-11T06:30:46.466800Z"
    }
   },
   "outputs": [],
   "source": [
    "# model = load_model(MODEL_FILE)\n",
    "# model.summary()"
   ]
  },
  {
   "cell_type": "code",
   "execution_count": 34,
   "metadata": {
    "ExecuteTime": {
     "end_time": "2019-04-11T06:33:44.735924Z",
     "start_time": "2019-04-11T06:32:06.748439Z"
    }
   },
   "outputs": [
    {
     "name": "stdout",
     "output_type": "stream",
     "text": [
      "Epoch 1/13\n",
      "  12/1143 [..............................] - ETA: 2:20:59 - loss: 0.1099 - acc: 0.9640"
     ]
    },
    {
     "ename": "KeyboardInterrupt",
     "evalue": "",
     "output_type": "error",
     "traceback": [
      "\u001b[0;31m---------------------------------------------------------------------------\u001b[0m",
      "\u001b[0;31mKeyboardInterrupt\u001b[0m                         Traceback (most recent call last)",
      "\u001b[0;32m<ipython-input-34-f5c8a745767b>\u001b[0m in \u001b[0;36m<module>\u001b[0;34m\u001b[0m\n\u001b[1;32m      3\u001b[0m                 \u001b[0mvalidation_generator\u001b[0m \u001b[0;34m=\u001b[0m \u001b[0mgenerators\u001b[0m\u001b[0;34m[\u001b[0m\u001b[0;36m1\u001b[0m\u001b[0;34m]\u001b[0m\u001b[0;34m,\u001b[0m\u001b[0;34m\u001b[0m\u001b[0;34m\u001b[0m\u001b[0m\n\u001b[1;32m      4\u001b[0m                 \u001b[0mmodel_file\u001b[0m \u001b[0;34m=\u001b[0m \u001b[0mMODEL_FILE_1\u001b[0m\u001b[0;34m,\u001b[0m\u001b[0;34m\u001b[0m\u001b[0;34m\u001b[0m\u001b[0m\n\u001b[0;32m----> 5\u001b[0;31m                 logs_file = TRAINING_LOGS_FILE_1)\n\u001b[0m",
      "\u001b[0;32m<ipython-input-32-43aa13cfbb0f>\u001b[0m in \u001b[0;36mtrain\u001b[0;34m(model, training_generator, validation_generator, model_file, logs_file)\u001b[0m\n\u001b[1;32m     15\u001b[0m                                                  CSVLogger(logs_file,\n\u001b[1;32m     16\u001b[0m                                                            \u001b[0mappend\u001b[0m\u001b[0;34m=\u001b[0m\u001b[0;32mFalse\u001b[0m\u001b[0;34m,\u001b[0m\u001b[0;34m\u001b[0m\u001b[0;34m\u001b[0m\u001b[0m\n\u001b[0;32m---> 17\u001b[0;31m                                                            separator=';')])\n\u001b[0m\u001b[1;32m     18\u001b[0m \u001b[0;31m#     PlotLossesKeras(),\u001b[0m\u001b[0;34m\u001b[0m\u001b[0;34m\u001b[0m\u001b[0;34m\u001b[0m\u001b[0m\n\u001b[1;32m     19\u001b[0m \u001b[0;34m\u001b[0m\u001b[0m\n",
      "\u001b[0;32m~/anaconda3/envs/keras-env/lib/python3.6/site-packages/keras/legacy/interfaces.py\u001b[0m in \u001b[0;36mwrapper\u001b[0;34m(*args, **kwargs)\u001b[0m\n\u001b[1;32m     89\u001b[0m                 warnings.warn('Update your `' + object_name + '` call to the ' +\n\u001b[1;32m     90\u001b[0m                               'Keras 2 API: ' + signature, stacklevel=2)\n\u001b[0;32m---> 91\u001b[0;31m             \u001b[0;32mreturn\u001b[0m \u001b[0mfunc\u001b[0m\u001b[0;34m(\u001b[0m\u001b[0;34m*\u001b[0m\u001b[0margs\u001b[0m\u001b[0;34m,\u001b[0m \u001b[0;34m**\u001b[0m\u001b[0mkwargs\u001b[0m\u001b[0;34m)\u001b[0m\u001b[0;34m\u001b[0m\u001b[0;34m\u001b[0m\u001b[0m\n\u001b[0m\u001b[1;32m     92\u001b[0m         \u001b[0mwrapper\u001b[0m\u001b[0;34m.\u001b[0m\u001b[0m_original_function\u001b[0m \u001b[0;34m=\u001b[0m \u001b[0mfunc\u001b[0m\u001b[0;34m\u001b[0m\u001b[0;34m\u001b[0m\u001b[0m\n\u001b[1;32m     93\u001b[0m         \u001b[0;32mreturn\u001b[0m \u001b[0mwrapper\u001b[0m\u001b[0;34m\u001b[0m\u001b[0;34m\u001b[0m\u001b[0m\n",
      "\u001b[0;32m~/anaconda3/envs/keras-env/lib/python3.6/site-packages/keras/engine/training.py\u001b[0m in \u001b[0;36mfit_generator\u001b[0;34m(self, generator, steps_per_epoch, epochs, verbose, callbacks, validation_data, validation_steps, class_weight, max_queue_size, workers, use_multiprocessing, shuffle, initial_epoch)\u001b[0m\n\u001b[1;32m   1416\u001b[0m             \u001b[0muse_multiprocessing\u001b[0m\u001b[0;34m=\u001b[0m\u001b[0muse_multiprocessing\u001b[0m\u001b[0;34m,\u001b[0m\u001b[0;34m\u001b[0m\u001b[0;34m\u001b[0m\u001b[0m\n\u001b[1;32m   1417\u001b[0m             \u001b[0mshuffle\u001b[0m\u001b[0;34m=\u001b[0m\u001b[0mshuffle\u001b[0m\u001b[0;34m,\u001b[0m\u001b[0;34m\u001b[0m\u001b[0;34m\u001b[0m\u001b[0m\n\u001b[0;32m-> 1418\u001b[0;31m             initial_epoch=initial_epoch)\n\u001b[0m\u001b[1;32m   1419\u001b[0m \u001b[0;34m\u001b[0m\u001b[0m\n\u001b[1;32m   1420\u001b[0m     \u001b[0;34m@\u001b[0m\u001b[0minterfaces\u001b[0m\u001b[0;34m.\u001b[0m\u001b[0mlegacy_generator_methods_support\u001b[0m\u001b[0;34m\u001b[0m\u001b[0;34m\u001b[0m\u001b[0m\n",
      "\u001b[0;32m~/anaconda3/envs/keras-env/lib/python3.6/site-packages/keras/engine/training_generator.py\u001b[0m in \u001b[0;36mfit_generator\u001b[0;34m(model, generator, steps_per_epoch, epochs, verbose, callbacks, validation_data, validation_steps, class_weight, max_queue_size, workers, use_multiprocessing, shuffle, initial_epoch)\u001b[0m\n\u001b[1;32m    215\u001b[0m                 outs = model.train_on_batch(x, y,\n\u001b[1;32m    216\u001b[0m                                             \u001b[0msample_weight\u001b[0m\u001b[0;34m=\u001b[0m\u001b[0msample_weight\u001b[0m\u001b[0;34m,\u001b[0m\u001b[0;34m\u001b[0m\u001b[0;34m\u001b[0m\u001b[0m\n\u001b[0;32m--> 217\u001b[0;31m                                             class_weight=class_weight)\n\u001b[0m\u001b[1;32m    218\u001b[0m \u001b[0;34m\u001b[0m\u001b[0m\n\u001b[1;32m    219\u001b[0m                 \u001b[0mouts\u001b[0m \u001b[0;34m=\u001b[0m \u001b[0mto_list\u001b[0m\u001b[0;34m(\u001b[0m\u001b[0mouts\u001b[0m\u001b[0;34m)\u001b[0m\u001b[0;34m\u001b[0m\u001b[0;34m\u001b[0m\u001b[0m\n",
      "\u001b[0;32m~/anaconda3/envs/keras-env/lib/python3.6/site-packages/keras/engine/training.py\u001b[0m in \u001b[0;36mtrain_on_batch\u001b[0;34m(self, x, y, sample_weight, class_weight)\u001b[0m\n\u001b[1;32m   1215\u001b[0m             \u001b[0mins\u001b[0m \u001b[0;34m=\u001b[0m \u001b[0mx\u001b[0m \u001b[0;34m+\u001b[0m \u001b[0my\u001b[0m \u001b[0;34m+\u001b[0m \u001b[0msample_weights\u001b[0m\u001b[0;34m\u001b[0m\u001b[0;34m\u001b[0m\u001b[0m\n\u001b[1;32m   1216\u001b[0m         \u001b[0mself\u001b[0m\u001b[0;34m.\u001b[0m\u001b[0m_make_train_function\u001b[0m\u001b[0;34m(\u001b[0m\u001b[0;34m)\u001b[0m\u001b[0;34m\u001b[0m\u001b[0;34m\u001b[0m\u001b[0m\n\u001b[0;32m-> 1217\u001b[0;31m         \u001b[0moutputs\u001b[0m \u001b[0;34m=\u001b[0m \u001b[0mself\u001b[0m\u001b[0;34m.\u001b[0m\u001b[0mtrain_function\u001b[0m\u001b[0;34m(\u001b[0m\u001b[0mins\u001b[0m\u001b[0;34m)\u001b[0m\u001b[0;34m\u001b[0m\u001b[0;34m\u001b[0m\u001b[0m\n\u001b[0m\u001b[1;32m   1218\u001b[0m         \u001b[0;32mreturn\u001b[0m \u001b[0munpack_singleton\u001b[0m\u001b[0;34m(\u001b[0m\u001b[0moutputs\u001b[0m\u001b[0;34m)\u001b[0m\u001b[0;34m\u001b[0m\u001b[0;34m\u001b[0m\u001b[0m\n\u001b[1;32m   1219\u001b[0m \u001b[0;34m\u001b[0m\u001b[0m\n",
      "\u001b[0;32m~/anaconda3/envs/keras-env/lib/python3.6/site-packages/keras/backend/tensorflow_backend.py\u001b[0m in \u001b[0;36m__call__\u001b[0;34m(self, inputs)\u001b[0m\n\u001b[1;32m   2713\u001b[0m                 \u001b[0;32mreturn\u001b[0m \u001b[0mself\u001b[0m\u001b[0;34m.\u001b[0m\u001b[0m_legacy_call\u001b[0m\u001b[0;34m(\u001b[0m\u001b[0minputs\u001b[0m\u001b[0;34m)\u001b[0m\u001b[0;34m\u001b[0m\u001b[0;34m\u001b[0m\u001b[0m\n\u001b[1;32m   2714\u001b[0m \u001b[0;34m\u001b[0m\u001b[0m\n\u001b[0;32m-> 2715\u001b[0;31m             \u001b[0;32mreturn\u001b[0m \u001b[0mself\u001b[0m\u001b[0;34m.\u001b[0m\u001b[0m_call\u001b[0m\u001b[0;34m(\u001b[0m\u001b[0minputs\u001b[0m\u001b[0;34m)\u001b[0m\u001b[0;34m\u001b[0m\u001b[0;34m\u001b[0m\u001b[0m\n\u001b[0m\u001b[1;32m   2716\u001b[0m         \u001b[0;32melse\u001b[0m\u001b[0;34m:\u001b[0m\u001b[0;34m\u001b[0m\u001b[0;34m\u001b[0m\u001b[0m\n\u001b[1;32m   2717\u001b[0m             \u001b[0;32mif\u001b[0m \u001b[0mpy_any\u001b[0m\u001b[0;34m(\u001b[0m\u001b[0mis_tensor\u001b[0m\u001b[0;34m(\u001b[0m\u001b[0mx\u001b[0m\u001b[0;34m)\u001b[0m \u001b[0;32mfor\u001b[0m \u001b[0mx\u001b[0m \u001b[0;32min\u001b[0m \u001b[0minputs\u001b[0m\u001b[0;34m)\u001b[0m\u001b[0;34m:\u001b[0m\u001b[0;34m\u001b[0m\u001b[0;34m\u001b[0m\u001b[0m\n",
      "\u001b[0;32m~/anaconda3/envs/keras-env/lib/python3.6/site-packages/keras/backend/tensorflow_backend.py\u001b[0m in \u001b[0;36m_call\u001b[0;34m(self, inputs)\u001b[0m\n\u001b[1;32m   2673\u001b[0m             \u001b[0mfetched\u001b[0m \u001b[0;34m=\u001b[0m \u001b[0mself\u001b[0m\u001b[0;34m.\u001b[0m\u001b[0m_callable_fn\u001b[0m\u001b[0;34m(\u001b[0m\u001b[0;34m*\u001b[0m\u001b[0marray_vals\u001b[0m\u001b[0;34m,\u001b[0m \u001b[0mrun_metadata\u001b[0m\u001b[0;34m=\u001b[0m\u001b[0mself\u001b[0m\u001b[0;34m.\u001b[0m\u001b[0mrun_metadata\u001b[0m\u001b[0;34m)\u001b[0m\u001b[0;34m\u001b[0m\u001b[0;34m\u001b[0m\u001b[0m\n\u001b[1;32m   2674\u001b[0m         \u001b[0;32melse\u001b[0m\u001b[0;34m:\u001b[0m\u001b[0;34m\u001b[0m\u001b[0;34m\u001b[0m\u001b[0m\n\u001b[0;32m-> 2675\u001b[0;31m             \u001b[0mfetched\u001b[0m \u001b[0;34m=\u001b[0m \u001b[0mself\u001b[0m\u001b[0;34m.\u001b[0m\u001b[0m_callable_fn\u001b[0m\u001b[0;34m(\u001b[0m\u001b[0;34m*\u001b[0m\u001b[0marray_vals\u001b[0m\u001b[0;34m)\u001b[0m\u001b[0;34m\u001b[0m\u001b[0;34m\u001b[0m\u001b[0m\n\u001b[0m\u001b[1;32m   2676\u001b[0m         \u001b[0;32mreturn\u001b[0m \u001b[0mfetched\u001b[0m\u001b[0;34m[\u001b[0m\u001b[0;34m:\u001b[0m\u001b[0mlen\u001b[0m\u001b[0;34m(\u001b[0m\u001b[0mself\u001b[0m\u001b[0;34m.\u001b[0m\u001b[0moutputs\u001b[0m\u001b[0;34m)\u001b[0m\u001b[0;34m]\u001b[0m\u001b[0;34m\u001b[0m\u001b[0;34m\u001b[0m\u001b[0m\n\u001b[1;32m   2677\u001b[0m \u001b[0;34m\u001b[0m\u001b[0m\n",
      "\u001b[0;32m~/anaconda3/envs/keras-env/lib/python3.6/site-packages/tensorflow/python/client/session.py\u001b[0m in \u001b[0;36m__call__\u001b[0;34m(self, *args, **kwargs)\u001b[0m\n\u001b[1;32m   1437\u001b[0m           ret = tf_session.TF_SessionRunCallable(\n\u001b[1;32m   1438\u001b[0m               \u001b[0mself\u001b[0m\u001b[0;34m.\u001b[0m\u001b[0m_session\u001b[0m\u001b[0;34m.\u001b[0m\u001b[0m_session\u001b[0m\u001b[0;34m,\u001b[0m \u001b[0mself\u001b[0m\u001b[0;34m.\u001b[0m\u001b[0m_handle\u001b[0m\u001b[0;34m,\u001b[0m \u001b[0margs\u001b[0m\u001b[0;34m,\u001b[0m \u001b[0mstatus\u001b[0m\u001b[0;34m,\u001b[0m\u001b[0;34m\u001b[0m\u001b[0;34m\u001b[0m\u001b[0m\n\u001b[0;32m-> 1439\u001b[0;31m               run_metadata_ptr)\n\u001b[0m\u001b[1;32m   1440\u001b[0m         \u001b[0;32mif\u001b[0m \u001b[0mrun_metadata\u001b[0m\u001b[0;34m:\u001b[0m\u001b[0;34m\u001b[0m\u001b[0;34m\u001b[0m\u001b[0m\n\u001b[1;32m   1441\u001b[0m           \u001b[0mproto_data\u001b[0m \u001b[0;34m=\u001b[0m \u001b[0mtf_session\u001b[0m\u001b[0;34m.\u001b[0m\u001b[0mTF_GetBuffer\u001b[0m\u001b[0;34m(\u001b[0m\u001b[0mrun_metadata_ptr\u001b[0m\u001b[0;34m)\u001b[0m\u001b[0;34m\u001b[0m\u001b[0;34m\u001b[0m\u001b[0m\n",
      "\u001b[0;31mKeyboardInterrupt\u001b[0m: "
     ]
    }
   ],
   "source": [
    "history = train(model = model, \n",
    "                training_generator = generators[0],\n",
    "                validation_generator = generators[1],\n",
    "                model_file = MODEL_FILE_1,\n",
    "                logs_file = TRAINING_LOGS_FILE_1)"
   ]
  },
  {
   "cell_type": "code",
   "execution_count": 39,
   "metadata": {
    "ExecuteTime": {
     "end_time": "2019-04-11T06:44:30.730209Z",
     "start_time": "2019-04-11T06:44:30.716750Z"
    }
   },
   "outputs": [
    {
     "ename": "NameError",
     "evalue": "name 'history' is not defined",
     "output_type": "error",
     "traceback": [
      "\u001b[0;31m---------------------------------------------------------------------------\u001b[0m",
      "\u001b[0;31mNameError\u001b[0m                                 Traceback (most recent call last)",
      "\u001b[0;32m<ipython-input-39-c4a8d95bd83e>\u001b[0m in \u001b[0;36m<module>\u001b[0;34m\u001b[0m\n\u001b[0;32m----> 1\u001b[0;31m \u001b[0mplot_epochs\u001b[0m\u001b[0;34m(\u001b[0m\u001b[0mhistory\u001b[0m\u001b[0;34m,\u001b[0m \u001b[0mTRAINING_PLOT_FILE_1\u001b[0m\u001b[0;34m,\u001b[0m \u001b[0mVALIDATION_PLOT_FILE_1\u001b[0m\u001b[0;34m)\u001b[0m\u001b[0;34m\u001b[0m\u001b[0;34m\u001b[0m\u001b[0m\n\u001b[0m\u001b[1;32m      2\u001b[0m \u001b[0;31m# plot_AUC(model, generators[2], MODEL_FILE_1, ROC_PLOT_FILE_1)\u001b[0m\u001b[0;34m\u001b[0m\u001b[0;34m\u001b[0m\u001b[0;34m\u001b[0m\u001b[0m\n",
      "\u001b[0;31mNameError\u001b[0m: name 'history' is not defined"
     ]
    }
   ],
   "source": [
    "# plot_epochs(history, TRAINING_PLOT_FILE_1, VALIDATION_PLOT_FILE_1)\n",
    "plot_AUC(model, generators[2], MODEL_FILE_1, ROC_PLOT_FILE_1)"
   ]
  },
  {
   "cell_type": "code",
   "execution_count": null,
   "metadata": {
    "ExecuteTime": {
     "end_time": "2019-04-09T05:18:09.492767Z",
     "start_time": "2019-04-09T05:06:36.726Z"
    }
   },
   "outputs": [],
   "source": [
    "# test(model = model)"
   ]
  },
  {
   "cell_type": "code",
   "execution_count": 40,
   "metadata": {
    "ExecuteTime": {
     "end_time": "2019-04-11T06:47:56.633162Z",
     "start_time": "2019-04-11T06:47:33.102340Z"
    }
   },
   "outputs": [
    {
     "name": "stdout",
     "output_type": "stream",
     "text": [
      "Found 219341 images belonging to 2 classes.\n",
      "Found 83760 images belonging to 2 classes.\n",
      "Found 83760 images belonging to 2 classes.\n"
     ]
    }
   ],
   "source": [
    "generators = prepare_data_generator(\n",
    "    with_augmentation = True, \n",
    "    training_path = paths[0], \n",
    "    validation_path = paths[1])"
   ]
  },
  {
   "cell_type": "code",
   "execution_count": 41,
   "metadata": {
    "ExecuteTime": {
     "end_time": "2019-04-11T06:48:07.371292Z",
     "start_time": "2019-04-11T06:48:05.938045Z"
    }
   },
   "outputs": [
    {
     "name": "stdout",
     "output_type": "stream",
     "text": [
      "_________________________________________________________________\n",
      "Layer (type)                 Output Shape              Param #   \n",
      "=================================================================\n",
      "conv2d_13 (Conv2D)           (None, 94, 94, 32)        896       \n",
      "_________________________________________________________________\n",
      "conv2d_14 (Conv2D)           (None, 92, 92, 32)        9216      \n",
      "_________________________________________________________________\n",
      "batch_normalization_13 (Batc (None, 92, 92, 32)        128       \n",
      "_________________________________________________________________\n",
      "activation_13 (Activation)   (None, 92, 92, 32)        0         \n",
      "_________________________________________________________________\n",
      "max_pooling2d_7 (MaxPooling2 (None, 46, 46, 32)        0         \n",
      "_________________________________________________________________\n",
      "dropout_9 (Dropout)          (None, 46, 46, 32)        0         \n",
      "_________________________________________________________________\n",
      "conv2d_15 (Conv2D)           (None, 44, 44, 64)        18432     \n",
      "_________________________________________________________________\n",
      "batch_normalization_14 (Batc (None, 44, 44, 64)        256       \n",
      "_________________________________________________________________\n",
      "activation_14 (Activation)   (None, 44, 44, 64)        0         \n",
      "_________________________________________________________________\n",
      "conv2d_16 (Conv2D)           (None, 42, 42, 64)        36864     \n",
      "_________________________________________________________________\n",
      "batch_normalization_15 (Batc (None, 42, 42, 64)        256       \n",
      "_________________________________________________________________\n",
      "activation_15 (Activation)   (None, 42, 42, 64)        0         \n",
      "_________________________________________________________________\n",
      "max_pooling2d_8 (MaxPooling2 (None, 21, 21, 64)        0         \n",
      "_________________________________________________________________\n",
      "dropout_10 (Dropout)         (None, 21, 21, 64)        0         \n",
      "_________________________________________________________________\n",
      "conv2d_17 (Conv2D)           (None, 19, 19, 128)       73728     \n",
      "_________________________________________________________________\n",
      "batch_normalization_16 (Batc (None, 19, 19, 128)       512       \n",
      "_________________________________________________________________\n",
      "activation_16 (Activation)   (None, 19, 19, 128)       0         \n",
      "_________________________________________________________________\n",
      "conv2d_18 (Conv2D)           (None, 17, 17, 128)       147456    \n",
      "_________________________________________________________________\n",
      "batch_normalization_17 (Batc (None, 17, 17, 128)       512       \n",
      "_________________________________________________________________\n",
      "activation_17 (Activation)   (None, 17, 17, 128)       0         \n",
      "_________________________________________________________________\n",
      "max_pooling2d_9 (MaxPooling2 (None, 8, 8, 128)         0         \n",
      "_________________________________________________________________\n",
      "dropout_11 (Dropout)         (None, 8, 8, 128)         0         \n",
      "_________________________________________________________________\n",
      "flatten_3 (Flatten)          (None, 8192)              0         \n",
      "_________________________________________________________________\n",
      "dense_5 (Dense)              (None, 256)               2097152   \n",
      "_________________________________________________________________\n",
      "batch_normalization_18 (Batc (None, 256)               1024      \n",
      "_________________________________________________________________\n",
      "activation_18 (Activation)   (None, 256)               0         \n",
      "_________________________________________________________________\n",
      "dropout_12 (Dropout)         (None, 256)               0         \n",
      "_________________________________________________________________\n",
      "dense_6 (Dense)              (None, 1)                 257       \n",
      "=================================================================\n",
      "Total params: 2,386,689\n",
      "Trainable params: 2,385,345\n",
      "Non-trainable params: 1,344\n",
      "_________________________________________________________________\n"
     ]
    }
   ],
   "source": [
    "model_with_aug = create_model(MODEL_FILE_2)"
   ]
  },
  {
   "cell_type": "code",
   "execution_count": null,
   "metadata": {
    "ExecuteTime": {
     "start_time": "2019-04-11T06:48:26.725Z"
    }
   },
   "outputs": [
    {
     "name": "stdout",
     "output_type": "stream",
     "text": [
      "Epoch 1/13\n",
      "   6/1143 [..............................] - ETA: 2:35:27 - loss: 1.3662 - acc: 0.5781"
     ]
    }
   ],
   "source": [
    "history = train(model = model_with_aug, \n",
    "                training_generator = generators[0],\n",
    "                validation_generator = generators[1],\n",
    "                model_file = MODEL_FILE_2,\n",
    "                logs_file = TRAINING_LOGS_FILE_2)"
   ]
  },
  {
   "cell_type": "code",
   "execution_count": null,
   "metadata": {
    "ExecuteTime": {
     "end_time": "2019-04-09T05:18:09.497624Z",
     "start_time": "2019-04-09T05:06:36.727Z"
    },
    "collapsed": true
   },
   "outputs": [],
   "source": [
    "# plot_epochs(history, TRAINING_PLOT_FILE_2, VALIDATION_PLOT_FILE_2)\n",
    "plot_AUC(model_with_aug, generators[2], MODEL_FILE_2, ROC_PLOT_FILE_2)\n",
    "# test(model = model_with_aug)"
   ]
  },
  {
   "cell_type": "code",
   "execution_count": null,
   "metadata": {
    "collapsed": true
   },
   "outputs": [],
   "source": []
  }
 ],
 "metadata": {
  "kernelspec": {
   "display_name": "Python 3",
   "language": "python",
   "name": "python3"
  },
  "language_info": {
   "codemirror_mode": {
    "name": "ipython",
    "version": 3
   },
   "file_extension": ".py",
   "mimetype": "text/x-python",
   "name": "python",
   "nbconvert_exporter": "python",
   "pygments_lexer": "ipython3",
   "version": "3.6.8"
  },
  "toc": {
   "base_numbering": 1,
   "nav_menu": {},
   "number_sections": true,
   "sideBar": true,
   "skip_h1_title": false,
   "title_cell": "Table of Contents",
   "title_sidebar": "Contents",
   "toc_cell": false,
   "toc_position": {},
   "toc_section_display": true,
   "toc_window_display": false
  },
  "varInspector": {
   "cols": {
    "lenName": 16,
    "lenType": 16,
    "lenVar": 40
   },
   "kernels_config": {
    "python": {
     "delete_cmd_postfix": "",
     "delete_cmd_prefix": "del ",
     "library": "var_list.py",
     "varRefreshCmd": "print(var_dic_list())"
    },
    "r": {
     "delete_cmd_postfix": ") ",
     "delete_cmd_prefix": "rm(",
     "library": "var_list.r",
     "varRefreshCmd": "cat(var_dic_list()) "
    }
   },
   "types_to_exclude": [
    "module",
    "function",
    "builtin_function_or_method",
    "instance",
    "_Feature"
   ],
   "window_display": false
  },
  "widgets": {
   "state": {},
   "version": "1.1.2"
  }
 },
 "nbformat": 4,
 "nbformat_minor": 1
}
