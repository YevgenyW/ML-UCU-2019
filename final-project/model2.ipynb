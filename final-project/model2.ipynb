{
 "cells": [
  {
   "cell_type": "markdown",
   "metadata": {},
   "source": [
    "Preprocessing from:\n",
    "https://github.com/gsurma/histopathologic_cancer_detector/blob/master/histopathologic_cancer_detector.ipynb\n",
    "Model from:\n",
    "https://www.kaggle.com/fmarazzi/baseline-keras-cnn-roc-fast-10min-0-925-lb"
   ]
  },
  {
   "cell_type": "markdown",
   "metadata": {
    "_uuid": "dfc41ba2b70e88b92ff41a94f0b6504336f2360d"
   },
   "source": [
    "-----------------------------------------\n",
    "# Data visualization"
   ]
  },
  {
   "cell_type": "code",
   "execution_count": 33,
   "metadata": {
    "ExecuteTime": {
     "end_time": "2019-04-09T05:43:25.687421Z",
     "start_time": "2019-04-09T05:43:25.675022Z"
    },
    "_cell_guid": "b1076dfc-b9ad-4769-8c92-a6c4dae69d19",
    "_uuid": "8f2839f25d086af736a60e9eeb907d3b93b6e0e5"
   },
   "outputs": [],
   "source": [
    "%matplotlib inline\n",
    "\n",
    "import numpy as np \n",
    "import pandas as pd \n",
    "from glob import glob \n",
    "from skimage.io import imread \n",
    "import os\n",
    "import shutil\n",
    "import matplotlib.pyplot as plt\n",
    "from sklearn.metrics import roc_curve, auc, roc_auc_score\n",
    "from sklearn.model_selection import train_test_split\n",
    "from keras.preprocessing.image import ImageDataGenerator\n",
    "# from keras.applications.nasnet import NASNetMobile\n",
    "# from keras.applications import NASNetMobile\n",
    "# from keras.applications.xception import Xception\n",
    "from keras.utils.vis_utils import plot_model\n",
    "from keras.layers import Dropout, Flatten, Dense, GlobalAveragePooling2D, Average\n",
    "from keras.layers import Input, Concatenate, GlobalMaxPooling2D, BatchNormalization\n",
    "from keras.layers import Conv2D, MaxPool2D, Activation\n",
    "from keras.models import Model\n",
    "from keras.models import Sequential\n",
    "from keras.callbacks import CSVLogger, ModelCheckpoint\n",
    "from keras.callbacks import EarlyStopping, ReduceLROnPlateau\n",
    "from keras.optimizers import RMSprop, Adam\n",
    "from livelossplot import PlotLossesKeras\n",
    "\n",
    "# import src.constants"
   ]
  },
  {
   "cell_type": "code",
   "execution_count": 34,
   "metadata": {
    "ExecuteTime": {
     "end_time": "2019-04-09T05:43:28.528140Z",
     "start_time": "2019-04-09T05:43:28.523250Z"
    }
   },
   "outputs": [],
   "source": [
    "# Output files\n",
    "TRAINING_LOGS_FILE = \"training_logs.csv\"\n",
    "MODEL_SUMMARY_FILE = \"model_summary.txt\"\n",
    "MODEL_PLOT_FILE = \"model_plot.png\"\n",
    "MODEL_FILE = \"model.h5\"\n",
    "TRAINING_PLOT_FILE = \"training.png\"\n",
    "VALIDATION_PLOT_FILE = \"validation.png\"\n",
    "ROC_PLOT_FILE = \"roc.png\"\n",
    "KAGGLE_SUBMISSION_FILE = \"kaggle_submission.csv\"\n",
    "\n",
    "# Hyperparams\n",
    "SAMPLE_COUNT = 85000 #??? why only 85000\n",
    "TRAINING_RATIO = 0.9\n",
    "IMAGE_SIZE = 96\n",
    "EPOCHS = 13\n",
    "BATCH_SIZE = 192\n",
    "VERBOSITY = 1\n",
    "TESTING_BATCH_SIZE = 5000"
   ]
  },
  {
   "cell_type": "code",
   "execution_count": 3,
   "metadata": {
    "ExecuteTime": {
     "end_time": "2019-04-09T05:06:40.751812Z",
     "start_time": "2019-04-09T05:06:40.739518Z"
    }
   },
   "outputs": [],
   "source": [
    "# Data (https://www.kaggle.com/c/histopathologic-cancer-detection/data)\n",
    "#input_dir = '../input/'\n",
    "def prepare_data_for_augmentation():\n",
    "    data_dir = 'data/'\n",
    "    training_dir = data_dir + 'train/'\n",
    "    data_frame = pd.DataFrame({'path': glob(os.path.join(training_dir,'*.tif'))})\n",
    "    data_frame['id'] = data_frame.path.map(lambda x: x.split('/')[2].split('.')[0])\n",
    "    labels = pd.read_csv(data_dir + 'train_labels.csv')\n",
    "    data_frame = data_frame.merge(labels, on='id')\n",
    "    negatives = data_frame[data_frame.label == 0].sample(SAMPLE_COUNT)\n",
    "    positives = data_frame[data_frame.label == 1].sample(SAMPLE_COUNT)\n",
    "    data_frame = pd.concat([negatives, positives]).reset_index()\n",
    "    data_frame = data_frame[['path', 'id', 'label']]\n",
    "    data_frame['image'] = data_frame['path'].map(imread)\n",
    "\n",
    "    training_path = 'data/training'\n",
    "    validation_path = 'data/validation'\n",
    "\n",
    "    for folder in [training_path, validation_path]:\n",
    "        for subfolder in ['0', '1']:\n",
    "            path = os.path.join(folder, subfolder)\n",
    "            os.makedirs(path, exist_ok=True)\n",
    "\n",
    "    training, validation = train_test_split(data_frame, train_size=TRAINING_RATIO, stratify=data_frame['label'])\n",
    "\n",
    "    data_frame.set_index('id', inplace=True)\n",
    "\n",
    "    for images_and_path in [(training, training_path), (validation, validation_path)]:\n",
    "        images = images_and_path[0]\n",
    "        path = images_and_path[1]\n",
    "        for image in images['id'].values:\n",
    "            file_name = image + '.tif'\n",
    "            label = str(data_frame.loc[image,'label'])\n",
    "            destination = os.path.join(path, label, file_name)\n",
    "            if not os.path.exists(destination):\n",
    "                source = os.path.join(data_dir + 'train', file_name)\n",
    "                shutil.copyfile(source, destination)\n",
    "    \n",
    "    return [training_path, validation_path]"
   ]
  },
  {
   "cell_type": "code",
   "execution_count": 4,
   "metadata": {
    "ExecuteTime": {
     "end_time": "2019-04-09T05:06:40.761247Z",
     "start_time": "2019-04-09T05:06:40.754146Z"
    }
   },
   "outputs": [],
   "source": [
    "def prepare_data_generator(with_augmentation, training_path, validation_path):\n",
    "    if (with_augmentation == True):\n",
    "        # Data augmentation\n",
    "        training_data_generator = ImageDataGenerator(\n",
    "            rescale=1./255,\n",
    "            horizontal_flip=True,\n",
    "            vertical_flip=True,\n",
    "            rotation_range=180,\n",
    "            zoom_range=0.4, \n",
    "            width_shift_range=0.3,\n",
    "            height_shift_range=0.3,\n",
    "            shear_range=0.3,\n",
    "            channel_shift_range=0.3)\n",
    "    else:\n",
    "        # just rescale it now\n",
    "        training_data_generator = ImageDataGenerator(rescale=1./255)\n",
    "\n",
    "    # Data generation\n",
    "    training_generator = training_data_generator.flow_from_directory(\n",
    "        training_path,\n",
    "        target_size=(IMAGE_SIZE,IMAGE_SIZE),\n",
    "        batch_size=BATCH_SIZE,\n",
    "        class_mode='binary')\n",
    "\n",
    "    validation_generator = ImageDataGenerator(rescale=1./255).flow_from_directory(\n",
    "        validation_path,\n",
    "        target_size=(IMAGE_SIZE,IMAGE_SIZE),\n",
    "        batch_size=BATCH_SIZE,\n",
    "        class_mode='binary')\n",
    "\n",
    "    testing_generator = ImageDataGenerator(rescale=1./255).flow_from_directory(\n",
    "        validation_path,\n",
    "        target_size=(IMAGE_SIZE,IMAGE_SIZE),\n",
    "        batch_size=BATCH_SIZE,\n",
    "        class_mode='binary',\n",
    "        shuffle=False)\n",
    "    \n",
    "    return [training_generator, validation_generator, testing_generator]\n"
   ]
  },
  {
   "cell_type": "code",
   "execution_count": 35,
   "metadata": {
    "ExecuteTime": {
     "end_time": "2019-04-09T05:43:38.242891Z",
     "start_time": "2019-04-09T05:43:38.231038Z"
    }
   },
   "outputs": [],
   "source": [
    "# Model\n",
    "def create_model():\n",
    "    kernel_size = (3,3)\n",
    "    pool_size= (2,2)\n",
    "    first_filters = 32\n",
    "    second_filters = 64\n",
    "    third_filters = 128\n",
    "\n",
    "    dropout_conv = 0.3\n",
    "    dropout_dense = 0.5\n",
    "\n",
    "    model = Sequential()\n",
    "    model.add(Conv2D(first_filters, kernel_size, activation = 'relu', input_shape = (IMAGE_SIZE, IMAGE_SIZE, 3)))\n",
    "    model.add(Conv2D(first_filters, kernel_size, use_bias=False))\n",
    "    model.add(BatchNormalization())\n",
    "    model.add(Activation(\"relu\"))\n",
    "    model.add(MaxPool2D(pool_size = pool_size)) \n",
    "    model.add(Dropout(dropout_conv))\n",
    "\n",
    "    model.add(Conv2D(second_filters, kernel_size, use_bias=False))\n",
    "    model.add(BatchNormalization())\n",
    "    model.add(Activation(\"relu\"))\n",
    "    model.add(Conv2D(second_filters, kernel_size, use_bias=False))\n",
    "    model.add(BatchNormalization())\n",
    "    model.add(Activation(\"relu\"))\n",
    "    model.add(MaxPool2D(pool_size = pool_size))\n",
    "    model.add(Dropout(dropout_conv))\n",
    "\n",
    "    model.add(Conv2D(third_filters, kernel_size, use_bias=False))\n",
    "    model.add(BatchNormalization())\n",
    "    model.add(Activation(\"relu\"))\n",
    "    model.add(Conv2D(third_filters, kernel_size, use_bias=False))\n",
    "    model.add(BatchNormalization())\n",
    "    model.add(Activation(\"relu\"))\n",
    "    model.add(MaxPool2D(pool_size = pool_size))\n",
    "    model.add(Dropout(dropout_conv))\n",
    "\n",
    "    #model.add(GlobalAveragePooling2D())\n",
    "    model.add(Flatten())\n",
    "    model.add(Dense(256, use_bias=False))\n",
    "    model.add(BatchNormalization())\n",
    "    model.add(Activation(\"relu\"))\n",
    "    model.add(Dropout(dropout_dense))\n",
    "    model.add(Dense(1, activation = \"sigmoid\"))\n",
    "\n",
    "    # Compile the model\n",
    "    model.compile(Adam(0.01), loss = \"binary_crossentropy\", metrics=[\"accuracy\"])\n",
    "    model.summary()\n",
    "\n",
    "    plot_model(model,\n",
    "               to_file=MODEL_PLOT_FILE,\n",
    "               show_shapes=True,\n",
    "               show_layer_names=True)\n",
    "    \n",
    "    return model"
   ]
  },
  {
   "cell_type": "code",
   "execution_count": 36,
   "metadata": {
    "ExecuteTime": {
     "end_time": "2019-04-09T05:43:40.635684Z",
     "start_time": "2019-04-09T05:43:40.630527Z"
    }
   },
   "outputs": [],
   "source": [
    "def train(model, training_generator, validation_generator):\n",
    "    #  Training\n",
    "#     earlystopper = EarlyStopping(monitor='val_loss', patience=2, verbose=1, restore_best_weights=True)\n",
    "#     reducel = ReduceLROnPlateau(monitor='val_loss', patience=1, verbose=1, factor=0.1)\n",
    "    history = model.fit_generator(training_generator, \n",
    "                                    steps_per_epoch=len(training_generator), \n",
    "                                    validation_data=validation_generator,\n",
    "                                    validation_steps=len(validation_generator),\n",
    "                                    epochs=EPOCHS,\n",
    "                                    callbacks=[PlotLossesKeras(),\n",
    "                                                 ModelCheckpoint(MODEL_FILE,\n",
    "                                                             monitor='val_acc',\n",
    "                                                             verbose=VERBOSITY,\n",
    "                                                             save_best_only=True,\n",
    "                                                             mode='max'),\n",
    "                                                 CSVLogger(TRAINING_LOGS_FILE,\n",
    "                                                           append=False,\n",
    "                                                           separator=';')])\n",
    "    \n",
    "#     history = model.fit_generator(training_generator,\n",
    "#                                   steps_per_epoch=len(training_generator), \n",
    "#                                   validation_data=validation_generator,\n",
    "#                                   validation_steps=len(validation_generator),\n",
    "#                                   epochs=EPOCHS,\n",
    "#                                   verbose=0,\n",
    "#                                   callbacks=[PlotLossesKeras(),\n",
    "#                                              ModelCheckpoint(MODEL_FILE,\n",
    "#                                                              monitor='val_acc',\n",
    "#                                                              verbose=VERBOSITY,\n",
    "#                                                              save_best_only=True,\n",
    "#                                                              mode='max'),\n",
    "#                                              CSVLogger(TRAINING_LOGS_FILE,\n",
    "#                                                        append=False,\n",
    "#                                                        separator=';')])"
   ]
  },
  {
   "cell_type": "code",
   "execution_count": 15,
   "metadata": {
    "ExecuteTime": {
     "end_time": "2019-04-09T05:20:47.668309Z",
     "start_time": "2019-04-09T05:20:47.650403Z"
    }
   },
   "outputs": [],
   "source": [
    "def plot_epochs(history):\n",
    "    # Training plots\n",
    "    epochs = [i for i in range(1, len(history.history['loss'])+1)]\n",
    "\n",
    "    plt.plot(epochs, history.history['loss'], color='blue', label=\"training_loss\")\n",
    "    plt.plot(epochs, history.history['val_loss'], color='red', label=\"validation_loss\")\n",
    "    plt.legend(loc='best')\n",
    "    plt.title('training')\n",
    "    plt.xlabel('epoch')\n",
    "    plt.savefig(TRAINING_PLOT_FILE, bbox_inches='tight')\n",
    "    plt.close()\n",
    "\n",
    "    plt.plot(epochs, history.history['acc'], color='blue', label=\"training_accuracy\")\n",
    "    plt.plot(epochs, history.history['val_acc'], color='red',label=\"validation_accuracy\")\n",
    "    plt.legend(loc='best')\n",
    "    plt.title('validation')\n",
    "    plt.xlabel('epoch')\n",
    "    plt.savefig(VALIDATION_PLOT_FILE, bbox_inches='tight')\n",
    "    plt.close()"
   ]
  },
  {
   "cell_type": "code",
   "execution_count": 8,
   "metadata": {
    "ExecuteTime": {
     "end_time": "2019-04-09T05:06:40.791710Z",
     "start_time": "2019-04-09T05:06:40.785645Z"
    }
   },
   "outputs": [],
   "source": [
    "def plot_AUC(model, testing_generator):\n",
    "    # ROC testing plot\n",
    "    model.load_weights(MODEL_FILE)\n",
    "    predictions = model.predict_generator(testing_generator, steps=len(testing_generator), verbose=VERBOSITY)\n",
    "    false_positive_rate, true_positive_rate, threshold = roc_curve(testing_generator.classes, predictions)\n",
    "    area_under_curve = auc(false_positive_rate, true_positive_rate)\n",
    "\n",
    "    plt.plot([0, 1], [0, 1], 'k--')\n",
    "    plt.plot(false_positive_rate, true_positive_rate, label='AUC = {:.3f}'.format(area_under_curve))\n",
    "    plt.xlabel('False positive rate')\n",
    "    plt.ylabel('True positive rate')\n",
    "    plt.title('ROC curve')\n",
    "    plt.legend(loc='best')\n",
    "    plt.savefig(ROC_PLOT_FILE, bbox_inches='tight')\n",
    "    plt.close()\n"
   ]
  },
  {
   "cell_type": "code",
   "execution_count": 9,
   "metadata": {
    "ExecuteTime": {
     "end_time": "2019-04-09T05:06:40.800903Z",
     "start_time": "2019-04-09T05:06:40.794307Z"
    }
   },
   "outputs": [],
   "source": [
    "def test():\n",
    "    testing_files = glob(os.path.join('data/test/','*.tif'))\n",
    "    submission = pd.DataFrame()\n",
    "    for index in range(0, len(testing_files), TESTING_BATCH_SIZE):\n",
    "        data_frame = pd.DataFrame({'path': testing_files[index:index+TESTING_BATCH_SIZE]})\n",
    "        data_frame['id'] = data_frame.path.map(lambda x: x.split('/')[2].split(\".\")[0])\n",
    "        data_frame['image'] = data_frame['path'].map(imread)\n",
    "        images = np.stack(data_frame.image, axis=0)\n",
    "        predicted_labels = [model.predict(np.expand_dims(image/255.0, axis=0))[0][0] for image in images]\n",
    "        predictions = np.array(predicted_labels)\n",
    "        data_frame['label'] = predictions\n",
    "        submission = pd.concat([submission, data_frame[[\"id\", \"label\"]]])\n",
    "    submission.to_csv(KAGGLE_SUBMISSION_FILE, index=False, header=True)"
   ]
  },
  {
   "cell_type": "code",
   "execution_count": 10,
   "metadata": {
    "ExecuteTime": {
     "end_time": "2019-04-09T05:11:52.990127Z",
     "start_time": "2019-04-09T05:06:40.802768Z"
    }
   },
   "outputs": [
    {
     "name": "stderr",
     "output_type": "stream",
     "text": [
      "/Users/yevhenp/anaconda3/envs/keras-env/lib/python3.6/site-packages/sklearn/model_selection/_split.py:2179: FutureWarning: From version 0.21, test_size will always complement train_size unless both are specified.\n",
      "  FutureWarning)\n"
     ]
    }
   ],
   "source": [
    "#run without augmentation\n",
    "paths = prepare_data_for_augmentation()"
   ]
  },
  {
   "cell_type": "code",
   "execution_count": 11,
   "metadata": {
    "ExecuteTime": {
     "end_time": "2019-04-09T05:12:17.767000Z",
     "start_time": "2019-04-09T05:11:52.993680Z"
    }
   },
   "outputs": [
    {
     "name": "stdout",
     "output_type": "stream",
     "text": [
      "Found 219341 images belonging to 2 classes.\n",
      "Found 83760 images belonging to 2 classes.\n",
      "Found 83760 images belonging to 2 classes.\n"
     ]
    }
   ],
   "source": [
    "generators = prepare_data_generator(\n",
    "    with_augmentation = False, \n",
    "    training_path = paths[0], \n",
    "    validation_path = paths[1])"
   ]
  },
  {
   "cell_type": "code",
   "execution_count": 37,
   "metadata": {
    "ExecuteTime": {
     "end_time": "2019-04-09T05:43:56.914472Z",
     "start_time": "2019-04-09T05:43:46.810977Z"
    }
   },
   "outputs": [
    {
     "name": "stdout",
     "output_type": "stream",
     "text": [
      "_________________________________________________________________\n",
      "Layer (type)                 Output Shape              Param #   \n",
      "=================================================================\n",
      "conv2d_23 (Conv2D)           (None, 94, 94, 32)        896       \n",
      "_________________________________________________________________\n",
      "conv2d_24 (Conv2D)           (None, 92, 92, 32)        9216      \n",
      "_________________________________________________________________\n",
      "batch_normalization_23 (Batc (None, 92, 92, 32)        128       \n",
      "_________________________________________________________________\n",
      "activation_207 (Activation)  (None, 92, 92, 32)        0         \n",
      "_________________________________________________________________\n",
      "max_pooling2d_10 (MaxPooling (None, 46, 46, 32)        0         \n",
      "_________________________________________________________________\n",
      "dropout_14 (Dropout)         (None, 46, 46, 32)        0         \n",
      "_________________________________________________________________\n",
      "conv2d_25 (Conv2D)           (None, 44, 44, 64)        18432     \n",
      "_________________________________________________________________\n",
      "batch_normalization_24 (Batc (None, 44, 44, 64)        256       \n",
      "_________________________________________________________________\n",
      "activation_208 (Activation)  (None, 44, 44, 64)        0         \n",
      "_________________________________________________________________\n",
      "conv2d_26 (Conv2D)           (None, 42, 42, 64)        36864     \n",
      "_________________________________________________________________\n",
      "batch_normalization_25 (Batc (None, 42, 42, 64)        256       \n",
      "_________________________________________________________________\n",
      "activation_209 (Activation)  (None, 42, 42, 64)        0         \n",
      "_________________________________________________________________\n",
      "max_pooling2d_11 (MaxPooling (None, 21, 21, 64)        0         \n",
      "_________________________________________________________________\n",
      "dropout_15 (Dropout)         (None, 21, 21, 64)        0         \n",
      "_________________________________________________________________\n",
      "conv2d_27 (Conv2D)           (None, 19, 19, 128)       73728     \n",
      "_________________________________________________________________\n",
      "batch_normalization_26 (Batc (None, 19, 19, 128)       512       \n",
      "_________________________________________________________________\n",
      "activation_210 (Activation)  (None, 19, 19, 128)       0         \n",
      "_________________________________________________________________\n",
      "conv2d_28 (Conv2D)           (None, 17, 17, 128)       147456    \n",
      "_________________________________________________________________\n",
      "batch_normalization_27 (Batc (None, 17, 17, 128)       512       \n",
      "_________________________________________________________________\n",
      "activation_211 (Activation)  (None, 17, 17, 128)       0         \n",
      "_________________________________________________________________\n",
      "max_pooling2d_12 (MaxPooling (None, 8, 8, 128)         0         \n",
      "_________________________________________________________________\n",
      "dropout_16 (Dropout)         (None, 8, 8, 128)         0         \n",
      "_________________________________________________________________\n",
      "flatten_4 (Flatten)          (None, 8192)              0         \n",
      "_________________________________________________________________\n",
      "dense_8 (Dense)              (None, 256)               2097152   \n",
      "_________________________________________________________________\n",
      "batch_normalization_28 (Batc (None, 256)               1024      \n",
      "_________________________________________________________________\n",
      "activation_212 (Activation)  (None, 256)               0         \n",
      "_________________________________________________________________\n",
      "dropout_17 (Dropout)         (None, 256)               0         \n",
      "_________________________________________________________________\n",
      "dense_9 (Dense)              (None, 1)                 257       \n",
      "=================================================================\n",
      "Total params: 2,386,689\n",
      "Trainable params: 2,385,345\n",
      "Non-trainable params: 1,344\n",
      "_________________________________________________________________\n"
     ]
    }
   ],
   "source": [
    "model = create_model()"
   ]
  },
  {
   "cell_type": "code",
   "execution_count": null,
   "metadata": {
    "ExecuteTime": {
     "start_time": "2019-04-09T05:43:49.927Z"
    }
   },
   "outputs": [
    {
     "name": "stdout",
     "output_type": "stream",
     "text": [
      "Epoch 1/13\n",
      "  18/1143 [..............................] - ETA: 2:36:48 - loss: 0.7812 - acc: 0.6568"
     ]
    }
   ],
   "source": [
    "history = train(model = model, \n",
    "                training_generator = generators[0],\n",
    "                validation_generator = generators[1])"
   ]
  },
  {
   "cell_type": "code",
   "execution_count": null,
   "metadata": {
    "ExecuteTime": {
     "end_time": "2019-04-09T05:18:09.492767Z",
     "start_time": "2019-04-09T05:06:36.726Z"
    }
   },
   "outputs": [],
   "source": [
    "plot_epochs(history)\n",
    "plot_AUC(model)\n",
    "# test()"
   ]
  },
  {
   "cell_type": "code",
   "execution_count": null,
   "metadata": {
    "ExecuteTime": {
     "end_time": "2019-04-09T05:18:09.497624Z",
     "start_time": "2019-04-09T05:06:36.727Z"
    }
   },
   "outputs": [],
   "source": [
    "prepare_data_generator(with_augmentation=Trues)\n",
    "model = create_model()\n",
    "history = train(model)\n",
    "plot_epochs(history)\n",
    "plot_AUC(model=model, testing_generator=generators[0])\n",
    "# test()"
   ]
  },
  {
   "cell_type": "code",
   "execution_count": null,
   "metadata": {},
   "outputs": [],
   "source": []
  }
 ],
 "metadata": {
  "kernelspec": {
   "display_name": "Python 3",
   "language": "python",
   "name": "python3"
  },
  "language_info": {
   "codemirror_mode": {
    "name": "ipython",
    "version": 3
   },
   "file_extension": ".py",
   "mimetype": "text/x-python",
   "name": "python",
   "nbconvert_exporter": "python",
   "pygments_lexer": "ipython3",
   "version": "3.6.8"
  },
  "toc": {
   "base_numbering": 1,
   "nav_menu": {},
   "number_sections": true,
   "sideBar": true,
   "skip_h1_title": false,
   "title_cell": "Table of Contents",
   "title_sidebar": "Contents",
   "toc_cell": false,
   "toc_position": {},
   "toc_section_display": true,
   "toc_window_display": false
  },
  "varInspector": {
   "cols": {
    "lenName": 16,
    "lenType": 16,
    "lenVar": 40
   },
   "kernels_config": {
    "python": {
     "delete_cmd_postfix": "",
     "delete_cmd_prefix": "del ",
     "library": "var_list.py",
     "varRefreshCmd": "print(var_dic_list())"
    },
    "r": {
     "delete_cmd_postfix": ") ",
     "delete_cmd_prefix": "rm(",
     "library": "var_list.r",
     "varRefreshCmd": "cat(var_dic_list()) "
    }
   },
   "types_to_exclude": [
    "module",
    "function",
    "builtin_function_or_method",
    "instance",
    "_Feature"
   ],
   "window_display": false
  },
  "widgets": {
   "state": {},
   "version": "1.1.2"
  }
 },
 "nbformat": 4,
 "nbformat_minor": 1
}
