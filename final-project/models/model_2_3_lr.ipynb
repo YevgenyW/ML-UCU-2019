{
 "cells": [
  {
   "cell_type": "markdown",
   "metadata": {
    "_uuid": "dfc41ba2b70e88b92ff41a94f0b6504336f2360d"
   },
   "source": [
    "-----------------------------------------\n",
    "# Data visualization"
   ]
  },
  {
   "cell_type": "code",
   "execution_count": 1,
   "metadata": {
    "ExecuteTime": {
     "end_time": "2019-05-12T08:49:07.811884Z",
     "start_time": "2019-05-12T08:49:07.802060Z"
    },
    "collapsed": false
   },
   "outputs": [
    {
     "data": {
      "text/plain": [
       "'/usr/bin/python3'"
      ]
     },
     "execution_count": 1,
     "metadata": {},
     "output_type": "execute_result"
    }
   ],
   "source": [
    "import sys\n",
    "sys.executable"
   ]
  },
  {
   "cell_type": "code",
   "execution_count": 2,
   "metadata": {
    "ExecuteTime": {
     "end_time": "2019-05-12T08:49:12.988653Z",
     "start_time": "2019-05-12T08:49:08.382740Z"
    },
    "_cell_guid": "b1076dfc-b9ad-4769-8c92-a6c4dae69d19",
    "_uuid": "8f2839f25d086af736a60e9eeb907d3b93b6e0e5",
    "collapsed": false
   },
   "outputs": [
    {
     "name": "stderr",
     "output_type": "stream",
     "text": [
      "Using TensorFlow backend.\n"
     ]
    }
   ],
   "source": [
    "%matplotlib inline\n",
    "%load_ext autoreload\n",
    "%autoreload\n",
    "\n",
    "import numpy as np \n",
    "import pandas as pd \n",
    "from glob import glob \n",
    "from skimage.io import imread \n",
    "import os\n",
    "import shutil\n",
    "import matplotlib.pyplot as plt\n",
    "from sklearn.metrics import roc_curve, auc, roc_auc_score\n",
    "from sklearn.model_selection import train_test_split\n",
    "from keras.preprocessing.image import ImageDataGenerator\n",
    "# from keras.applications.nasnet import NASNetMobile\n",
    "# from keras.applications import NASNetMobile\n",
    "# from keras.applications.xception import Xception\n",
    "from keras.utils.vis_utils import plot_model\n",
    "from keras.layers import Dropout, Flatten, Dense, GlobalAveragePooling2D, Average\n",
    "from keras.layers import Input, Concatenate, GlobalMaxPooling2D, BatchNormalization\n",
    "from keras.layers import Conv2D, MaxPool2D, Activation\n",
    "from keras.models import Model\n",
    "from keras.models import Sequential\n",
    "from keras.callbacks import CSVLogger, ModelCheckpoint\n",
    "from keras.callbacks import EarlyStopping, ReduceLROnPlateau\n",
    "from keras.optimizers import RMSprop, Adam\n",
    "from keras.models import load_model\n",
    "from keras import utils as np_utils\n",
    "from livelossplot import PlotLossesKeras\n",
    "import tensorflow as tf\n",
    "\n",
    "import cv2\n",
    "\n",
    "sys.path.insert(0, '../')\n",
    "from src.dataGenerator import *\n",
    "\n",
    "# import src.constants"
   ]
  },
  {
   "cell_type": "code",
   "execution_count": 3,
   "metadata": {
    "ExecuteTime": {
     "end_time": "2019-05-12T08:49:13.048244Z",
     "start_time": "2019-05-12T08:49:13.004117Z"
    },
    "collapsed": false
   },
   "outputs": [
    {
     "data": {
      "text/plain": [
       "['/job:localhost/replica:0/task:0/device:GPU:0']"
      ]
     },
     "execution_count": 3,
     "metadata": {},
     "output_type": "execute_result"
    }
   ],
   "source": [
    "from keras import backend as K\n",
    "K.tensorflow_backend._get_available_gpus()\n",
    "# from tensorflow.python.client import device_lib\n",
    "# print(device_lib.list_local_devices())"
   ]
  },
  {
   "cell_type": "code",
   "execution_count": 4,
   "metadata": {
    "ExecuteTime": {
     "end_time": "2019-05-12T08:49:13.218172Z",
     "start_time": "2019-05-12T08:49:13.061635Z"
    },
    "collapsed": false
   },
   "outputs": [
    {
     "name": "stdout",
     "output_type": "stream",
     "text": [
      "mkdir: cannot create directory ‘output_model_2_3_lr/’: File exists\r\n"
     ]
    }
   ],
   "source": [
    "# Output files\n",
    "OUTPUT_DIR = \"output_model_2_3_lr/\"\n",
    "!mkdir {OUTPUT_DIR}\n",
    "\n",
    "OUTPUT_TENSORBOARD_DIR = OUTPUT_DIR+\"/logs/\"\n",
    "# !mkdir output_model2_2/logs/\n",
    "# !tensorboard --logdir=output_model2_2/logs/\n",
    "\n",
    "# MODEL_SUMMARY_FILE = OUTPUT_DIR + \"model_summary.txt\"\n",
    "MODEL_PLOT_FILE = OUTPUT_DIR + \"model_plot.png\"\n",
    "\n",
    "# Path to images\n",
    "DATA_DIR = \"../data\"\n",
    "\n",
    "TRAINING_LOGS_FILE_2 = OUTPUT_DIR + \"training_logs_aug.csv\"\n",
    "MODEL_FILE_2 = OUTPUT_DIR + \"model_aug.h5\"\n",
    "TRAINING_PLOT_FILE_2 = OUTPUT_DIR + \"training_aug.png\"\n",
    "VALIDATION_PLOT_FILE_2 = OUTPUT_DIR + \"validation_aug.png\"\n",
    "ROC_PLOT_FILE_2 = OUTPUT_DIR + \"roc_aug.png\"\n",
    "\n",
    "KAGGLE_SUBMISSION_FILE_2 = OUTPUT_DIR + \"kaggle_submission_aug.csv\"\n",
    "\n",
    "# Hyperparams\n",
    "TRAINING_RATIO = 0.9\n",
    "IMAGE_SIZE = 144\n",
    "EPOCHS = 25\n",
    "BATCH_SIZE = 96\n",
    "VERBOSITY = 1\n",
    "TESTING_BATCH_SIZE = 5000\n",
    "LEARNING_RATE = 0.001"
   ]
  },
  {
   "cell_type": "code",
   "execution_count": 5,
   "metadata": {
    "ExecuteTime": {
     "end_time": "2019-05-12T08:49:13.657905Z",
     "start_time": "2019-05-12T08:49:13.240443Z"
    },
    "collapsed": false
   },
   "outputs": [
    {
     "name": "stdout",
     "output_type": "stream",
     "text": [
      "0    130908\n",
      "1     89117\n",
      "Name: label, dtype: int64\n",
      "0    117817\n",
      "1     80205\n",
      "Name: label, dtype: int64\n",
      "0    13091\n",
      "1     8912\n",
      "Name: label, dtype: int64\n"
     ]
    },
    {
     "name": "stderr",
     "output_type": "stream",
     "text": [
      "/usr/local/lib/python3.5/dist-packages/sklearn/model_selection/_split.py:2179: FutureWarning: From version 0.21, test_size will always complement train_size unless both are specified.\n",
      "  FutureWarning)\n"
     ]
    }
   ],
   "source": [
    "data = pd.read_csv(DATA_DIR + '/train_labels.csv')\n",
    "print(data['label'].value_counts())\n",
    "training_data, validation_data = train_test_split(data, train_size=TRAINING_RATIO, stratify=data['label'])\n",
    "print(training_data['label'].value_counts())\n",
    "print(validation_data['label'].value_counts())"
   ]
  },
  {
   "cell_type": "code",
   "execution_count": 6,
   "metadata": {
    "ExecuteTime": {
     "end_time": "2019-05-12T08:49:13.726649Z",
     "start_time": "2019-05-12T08:49:13.712863Z"
    },
    "collapsed": false
   },
   "outputs": [
    {
     "name": "stdout",
     "output_type": "stream",
     "text": [
      "Data augmentation enabled\n",
      "Data augmentation enabled\n"
     ]
    }
   ],
   "source": [
    "# Parameters\n",
    "params = {'dim': (IMAGE_SIZE, IMAGE_SIZE),\n",
    "          'batch_size': BATCH_SIZE,\n",
    "          'n_classes': 2,\n",
    "          'n_channels': 3,\n",
    "          'shuffle': True,\n",
    "          'augmentation': True}\n",
    "\n",
    "training_generator_with_aug = DataGenerator(training_data.id, training_data.label, **params)\n",
    "validation_generator_with_aug = DataGenerator(validation_data.id, validation_data.label, **params)"
   ]
  },
  {
   "cell_type": "code",
   "execution_count": 7,
   "metadata": {
    "ExecuteTime": {
     "end_time": "2019-05-12T08:49:13.794079Z",
     "start_time": "2019-05-12T08:49:13.781613Z"
    },
    "collapsed": true
   },
   "outputs": [],
   "source": [
    "from keras import layers as KL\n",
    "from keras.models import Model\n",
    "from keras.applications.resnet50 import ResNet50\n",
    "from keras.callbacks import TensorBoard\n",
    "from keras.callbacks import LearningRateScheduler\n",
    "from time import time\n",
    "import math\n",
    "\n",
    "# # learning rate schedule\n",
    "# def step_decay(epoch):\n",
    "#     initial_lrate = LEARNING_RATE\n",
    "#     # drop it on 25% every two epochs         \n",
    "#     drop = 0.75 \n",
    "#     epochs_drop = 2.0\n",
    "#     print(\"start of step_decay\")\n",
    "#     lrate = initial_lrate * math.pow(drop, math.floor((epoch)/epochs_drop))\n",
    "#     print(\"epoch: %d, learning rate = %.6f\" % (epoch, lrate))\n",
    "#     return lrate\n",
    "\n",
    "# Model\n",
    "def create_model(file = ''):\n",
    "\n",
    "    kernel_size = (3,3)\n",
    "    pool_size= (2,2)\n",
    "    first_filters = 32\n",
    "    second_filters = 64\n",
    "    third_filters = 128\n",
    "\n",
    "    dropout_conv = 0.3\n",
    "    dropout_dense = 0.5\n",
    "\n",
    "    model = Sequential()\n",
    "    model.add(Conv2D(first_filters, kernel_size, activation = 'relu', \n",
    "                     input_shape = (IMAGE_SIZE, IMAGE_SIZE, 3)))\n",
    "    model.add(Conv2D(first_filters, kernel_size, use_bias=False))\n",
    "    model.add(BatchNormalization())\n",
    "    model.add(Activation(\"relu\"))\n",
    "    model.add(MaxPool2D(pool_size = pool_size)) \n",
    "    model.add(Dropout(dropout_conv))\n",
    "\n",
    "    model.add(Conv2D(second_filters, kernel_size, use_bias=False))\n",
    "    model.add(BatchNormalization())\n",
    "    model.add(Activation(\"relu\"))\n",
    "    model.add(Conv2D(second_filters, kernel_size, use_bias=False))\n",
    "    model.add(BatchNormalization())\n",
    "    model.add(Activation(\"relu\"))\n",
    "    model.add(MaxPool2D(pool_size = pool_size))\n",
    "    model.add(Dropout(dropout_conv))\n",
    "\n",
    "    model.add(Conv2D(third_filters, kernel_size, use_bias=False))\n",
    "    model.add(BatchNormalization())\n",
    "    model.add(Activation(\"relu\"))\n",
    "    model.add(Conv2D(third_filters, kernel_size, use_bias=False))\n",
    "    model.add(BatchNormalization())\n",
    "    model.add(Activation(\"relu\"))\n",
    "    model.add(MaxPool2D(pool_size = pool_size))\n",
    "    model.add(Dropout(dropout_conv))\n",
    "\n",
    "    #model.add(GlobalAveragePooling2D())\n",
    "    model.add(Flatten())\n",
    "    model.add(Dense(256, use_bias=False))\n",
    "    model.add(BatchNormalization())\n",
    "    model.add(Activation(\"relu\"))\n",
    "    model.add(Dropout(dropout_dense))\n",
    "    model.add(Dense(1, activation = \"sigmoid\"))\n",
    "    \n",
    "    if (os.path.exists(file) == True):\n",
    "        print(\"Load model from file: \", file)\n",
    "        model = load_model(file)\n",
    "\n",
    "    # Compile the model\n",
    "    model.compile(Adam(LEARNING_RATE), loss = \"binary_crossentropy\", metrics=[\"accuracy\"])\n",
    "    model.summary()\n",
    "\n",
    "    plot_model(model,\n",
    "               to_file=MODEL_PLOT_FILE,\n",
    "               show_shapes=True,\n",
    "               show_layer_names=True)\n",
    "    \n",
    "    return model\n",
    "\n",
    "def train(model, training_generator, validation_generator, model_file, logs_file):\n",
    "\n",
    "    tensorboard = TensorBoard(log_dir=OUTPUT_TENSORBOARD_DIR+\"/{}\".format(time()))\n",
    "    \n",
    "    earlystopper = EarlyStopping(monitor='val_loss', patience=3, verbose=2, restore_best_weights=True)\n",
    "    \n",
    "    reduce = ReduceLROnPlateau(monitor='val_loss', patience=1, verbose=1, factor=0.1)\n",
    "\n",
    "    model.fit_generator(generator=training_generator,\n",
    "                    validation_data=validation_generator,\n",
    "                    use_multiprocessing=True,\n",
    "                    workers=6,\n",
    "                    epochs=EPOCHS,\n",
    "                            callbacks=[PlotLossesKeras(plot_extrema=False),\n",
    "                                        ModelCheckpoint(model_file,\n",
    "                                                     monitor='val_acc',\n",
    "                                                     verbose=VERBOSITY,\n",
    "                                                     save_best_only=True,\n",
    "                                                     mode='max'),\n",
    "                                         CSVLogger(logs_file,\n",
    "                                                   append=False,\n",
    "                                                   separator=';'),\n",
    "                                         tensorboard,\n",
    "                                         reduce,\n",
    "                                         earlystopper])\n",
    "    "
   ]
  },
  {
   "cell_type": "code",
   "execution_count": 8,
   "metadata": {
    "ExecuteTime": {
     "end_time": "2019-05-12T08:49:31.704088Z",
     "start_time": "2019-05-12T08:49:13.840785Z"
    },
    "collapsed": false
   },
   "outputs": [
    {
     "name": "stdout",
     "output_type": "stream",
     "text": [
      "WARNING:tensorflow:From /usr/local/lib/python3.5/dist-packages/tensorflow/python/framework/op_def_library.py:263: colocate_with (from tensorflow.python.framework.ops) is deprecated and will be removed in a future version.\n",
      "Instructions for updating:\n",
      "Colocations handled automatically by placer.\n",
      "WARNING:tensorflow:From /usr/local/lib/python3.5/dist-packages/keras/backend/tensorflow_backend.py:3445: calling dropout (from tensorflow.python.ops.nn_ops) with keep_prob is deprecated and will be removed in a future version.\n",
      "Instructions for updating:\n",
      "Please use `rate` instead of `keep_prob`. Rate should be set to `rate = 1 - keep_prob`.\n",
      "Load model from file:  output_model_2_3_lr/model_aug.h5\n",
      "WARNING:tensorflow:From /usr/local/lib/python3.5/dist-packages/tensorflow/python/ops/math_ops.py:3066: to_int32 (from tensorflow.python.ops.math_ops) is deprecated and will be removed in a future version.\n",
      "Instructions for updating:\n",
      "Use tf.cast instead.\n",
      "_________________________________________________________________\n",
      "Layer (type)                 Output Shape              Param #   \n",
      "=================================================================\n",
      "conv2d_1 (Conv2D)            (None, 142, 142, 32)      896       \n",
      "_________________________________________________________________\n",
      "conv2d_2 (Conv2D)            (None, 140, 140, 32)      9216      \n",
      "_________________________________________________________________\n",
      "batch_normalization_1 (Batch (None, 140, 140, 32)      128       \n",
      "_________________________________________________________________\n",
      "activation_1 (Activation)    (None, 140, 140, 32)      0         \n",
      "_________________________________________________________________\n",
      "max_pooling2d_1 (MaxPooling2 (None, 70, 70, 32)        0         \n",
      "_________________________________________________________________\n",
      "dropout_1 (Dropout)          (None, 70, 70, 32)        0         \n",
      "_________________________________________________________________\n",
      "conv2d_3 (Conv2D)            (None, 68, 68, 64)        18432     \n",
      "_________________________________________________________________\n",
      "batch_normalization_2 (Batch (None, 68, 68, 64)        256       \n",
      "_________________________________________________________________\n",
      "activation_2 (Activation)    (None, 68, 68, 64)        0         \n",
      "_________________________________________________________________\n",
      "conv2d_4 (Conv2D)            (None, 66, 66, 64)        36864     \n",
      "_________________________________________________________________\n",
      "batch_normalization_3 (Batch (None, 66, 66, 64)        256       \n",
      "_________________________________________________________________\n",
      "activation_3 (Activation)    (None, 66, 66, 64)        0         \n",
      "_________________________________________________________________\n",
      "max_pooling2d_2 (MaxPooling2 (None, 33, 33, 64)        0         \n",
      "_________________________________________________________________\n",
      "dropout_2 (Dropout)          (None, 33, 33, 64)        0         \n",
      "_________________________________________________________________\n",
      "conv2d_5 (Conv2D)            (None, 31, 31, 128)       73728     \n",
      "_________________________________________________________________\n",
      "batch_normalization_4 (Batch (None, 31, 31, 128)       512       \n",
      "_________________________________________________________________\n",
      "activation_4 (Activation)    (None, 31, 31, 128)       0         \n",
      "_________________________________________________________________\n",
      "conv2d_6 (Conv2D)            (None, 29, 29, 128)       147456    \n",
      "_________________________________________________________________\n",
      "batch_normalization_5 (Batch (None, 29, 29, 128)       512       \n",
      "_________________________________________________________________\n",
      "activation_5 (Activation)    (None, 29, 29, 128)       0         \n",
      "_________________________________________________________________\n",
      "max_pooling2d_3 (MaxPooling2 (None, 14, 14, 128)       0         \n",
      "_________________________________________________________________\n",
      "dropout_3 (Dropout)          (None, 14, 14, 128)       0         \n",
      "_________________________________________________________________\n",
      "flatten_1 (Flatten)          (None, 25088)             0         \n",
      "_________________________________________________________________\n",
      "dense_1 (Dense)              (None, 256)               6422528   \n",
      "_________________________________________________________________\n",
      "batch_normalization_6 (Batch (None, 256)               1024      \n",
      "_________________________________________________________________\n",
      "activation_6 (Activation)    (None, 256)               0         \n",
      "_________________________________________________________________\n",
      "dropout_4 (Dropout)          (None, 256)               0         \n",
      "_________________________________________________________________\n",
      "dense_2 (Dense)              (None, 1)                 257       \n",
      "=================================================================\n",
      "Total params: 6,712,065\n",
      "Trainable params: 6,710,721\n",
      "Non-trainable params: 1,344\n",
      "_________________________________________________________________\n"
     ]
    }
   ],
   "source": [
    "model_with_aug = create_model(MODEL_FILE_2)"
   ]
  },
  {
   "cell_type": "code",
   "execution_count": 13,
   "metadata": {
    "collapsed": true
   },
   "outputs": [],
   "source": [
    "import sys\n",
    "sys.stdout = open('training_output_2', 'w')"
   ]
  },
  {
   "cell_type": "code",
   "execution_count": null,
   "metadata": {
    "ExecuteTime": {
     "end_time": "2019-05-12T08:55:08.157042Z",
     "start_time": "2019-05-12T08:49:43.887737Z"
    },
    "collapsed": false
   },
   "outputs": [],
   "source": [
    "history = train(model = model_with_aug, \n",
    "            training_generator = training_generator_with_aug,\n",
    "            validation_generator = validation_generator_with_aug,\n",
    "            model_file = MODEL_FILE_2,\n",
    "            logs_file = TRAINING_LOGS_FILE_2)"
   ]
  },
  {
   "cell_type": "code",
   "execution_count": 9,
   "metadata": {
    "ExecuteTime": {
     "end_time": "2019-05-08T07:41:18.983691Z",
     "start_time": "2019-05-08T07:41:13.838Z"
    },
    "collapsed": true
   },
   "outputs": [],
   "source": [
    "def plot_epochs(history, training_plot_file, validation_plot_file):\n",
    "    # Training plots\n",
    "    epochs = [i for i in range(1, len(history.history['loss'])+1)]\n",
    "\n",
    "    plt.plot(epochs, history.history['loss'], color='blue', label=\"training_loss\")\n",
    "    plt.plot(epochs, history.history['val_loss'], color='red', label=\"validation_loss\")\n",
    "    plt.legend(loc='best')\n",
    "    plt.title('training')\n",
    "    plt.xlabel('epoch')\n",
    "    plt.savefig(training_plot_file, bbox_inches='tight')\n",
    "    plt.close()\n",
    "\n",
    "    plt.plot(epochs, history.history['acc'], color='blue', label=\"training_accuracy\")\n",
    "    plt.plot(epochs, history.history['val_acc'], color='red',label=\"validation_accuracy\")\n",
    "    plt.legend(loc='best')\n",
    "    plt.title('validation')\n",
    "    plt.xlabel('epoch')\n",
    "    plt.savefig(validation_plot_file, bbox_inches='tight')\n",
    "    plt.close()"
   ]
  },
  {
   "cell_type": "code",
   "execution_count": 10,
   "metadata": {
    "ExecuteTime": {
     "end_time": "2019-05-08T07:41:18.986617Z",
     "start_time": "2019-05-08T07:41:14.790Z"
    },
    "collapsed": true
   },
   "outputs": [],
   "source": [
    "def plot_AUC(model, testing_generator, model_file, plot_file):\n",
    "    # ROC testing plot\n",
    "#     model.load_weights(model_file)\n",
    "    predictions = model.predict_generator(testing_generator, steps=len(testing_generator), verbose=VERBOSITY)\n",
    "#     print(len(testing_generator))\n",
    "#     print(testing_generator.classes.shape)\n",
    "#     print(predictions.shape)\n",
    "#     print(predictions)\n",
    "    false_positive_rate, true_positive_rate, threshold = roc_curve(testing_generator.classes, predictions)\n",
    "    area_under_curve = auc(false_positive_rate, true_positive_rate)\n",
    "    \n",
    "    print(\"False positive: \", false_positive_rate)\n",
    "    print(\"True positive: \", true_positive_rate)\n",
    "\n",
    "    plt.plot([0, 1], [0, 1], 'k--')\n",
    "    plt.plot(false_positive_rate, true_positive_rate, label='AUC = {:.3f}'.format(area_under_curve))\n",
    "    plt.xlabel('False positive rate')\n",
    "    plt.ylabel('True positive rate')\n",
    "    plt.title('ROC curve')\n",
    "    plt.legend(loc='best')\n",
    "    plt.show()\n",
    "    plt.savefig(plot_file, bbox_inches='tight')\n",
    "    plt.close()\n"
   ]
  },
  {
   "cell_type": "code",
   "execution_count": 11,
   "metadata": {
    "ExecuteTime": {
     "end_time": "2019-05-08T07:41:18.996097Z",
     "start_time": "2019-05-08T07:41:16.680Z"
    },
    "collapsed": true
   },
   "outputs": [],
   "source": [
    "# Parameters\n",
    "params = {'dim': (IMAGE_SIZE, IMAGE_SIZE),\n",
    "          'batch_size': BATCH_SIZE,\n",
    "          'n_classes': 2,\n",
    "          'n_channels': 3,\n",
    "          'shuffle': False,\n",
    "          'augmentation': False}\n",
    "\n",
    "testing_generator = DataGenerator(validation_data.id, validation_data.label, **params)\n",
    "# plot_epochs(history, TRAINING_PLOT_FILE_1, VALIDATION_PLOT_FILE_1)"
   ]
  },
  {
   "cell_type": "code",
   "execution_count": 12,
   "metadata": {
    "ExecuteTime": {
     "end_time": "2019-05-08T07:41:18.999386Z",
     "start_time": "2019-05-08T07:41:17.340Z"
    },
    "collapsed": false
   },
   "outputs": [
    {
     "name": "stdout",
     "output_type": "stream",
     "text": [
      "229/229 [==============================] - 238s 1s/step\n",
      "False positive:  [0.         0.         0.         ... 0.98226435 0.98241725 1.        ]\n",
      "True positive:  [0.         0.0067393  0.00797484 ... 1.         1.         1.        ]\n"
     ]
    },
    {
     "data": {
      "image/png": "[encoded data removed]",
      "text/plain": [
       "<Figure size 432x288 with 1 Axes>"
      ]
     },
     "metadata": {
      "needs_background": "light"
     },
     "output_type": "display_data"
    }
   ],
   "source": [
    "plot_AUC(model_with_aug, testing_generator, MODEL_FILE_2, ROC_PLOT_FILE_2)"
   ]
  },
  {
   "cell_type": "code",
   "execution_count": 13,
   "metadata": {
    "ExecuteTime": {
     "end_time": "2019-05-08T07:41:18.989689Z",
     "start_time": "2019-05-08T07:41:15.555Z"
    },
    "collapsed": false
   },
   "outputs": [],
   "source": [
    "def test(model, file):\n",
    "    testing_files = glob(os.path.join(DATA_DIR + '/test/','*.tif'))\n",
    "    print(\"Num of testing files: \", len(testing_files))\n",
    "    submission = pd.DataFrame()\n",
    "    for index in range(0, len(testing_files), TESTING_BATCH_SIZE):\n",
    "        data_frame = pd.DataFrame({'path': testing_files[index:index+TESTING_BATCH_SIZE]})\n",
    "        data_frame['id'] = data_frame.path.map(lambda x: x.split('/')[3].split(\".\")[0])\n",
    "        data_frame['image'] = data_frame['path'].map(imread)\n",
    "        images = np.stack(data_frame.image, axis=0)\n",
    "        predicted_labels = [model.predict(np.expand_dims(cv2.resize(image, (IMAGE_SIZE, IMAGE_SIZE))/255.0, axis=0))[0][0] for image in images]\n",
    "        predictions = np.array(predicted_labels)\n",
    "        data_frame['label'] = predictions\n",
    "        submission = pd.concat([submission, data_frame[[\"id\", \"label\"]]])\n",
    "#         print(submission.head())\n",
    "    print(\"Save test results to \", file)\n",
    "    submission.to_csv(file, index=False, header=True)"
   ]
  },
  {
   "cell_type": "code",
   "execution_count": 14,
   "metadata": {
    "collapsed": false
   },
   "outputs": [],
   "source": [
    "# %load_ext tensorboard.notebook\n",
    "# # os.makedirs(OUTPUT_TENSORBOARD_DIR, exist_ok=True)\n",
    "\n",
    "# %tensorboard --logdir {OUTPUT_TENSORBOARD_DIR}\n"
   ]
  },
  {
   "cell_type": "code",
   "execution_count": 15,
   "metadata": {
    "ExecuteTime": {
     "end_time": "2019-04-09T05:18:09.492767Z",
     "start_time": "2019-04-09T05:06:36.726Z"
    },
    "collapsed": false
   },
   "outputs": [
    {
     "name": "stdout",
     "output_type": "stream",
     "text": [
      "Num of testing files:  57458\n",
      "Save test results to  output_model_2_3_lr/kaggle_submission_aug.csv\n"
     ]
    }
   ],
   "source": [
    "test(model = model_with_aug, file = KAGGLE_SUBMISSION_FILE_2)"
   ]
  },
  {
   "cell_type": "code",
   "execution_count": null,
   "metadata": {
    "collapsed": true
   },
   "outputs": [],
   "source": []
  }
 ],
 "metadata": {
  "kernelspec": {
   "display_name": "Python 3",
   "language": "python",
   "name": "python3"
  },
  "language_info": {
   "codemirror_mode": {
    "name": "ipython",
    "version": 3
   },
   "file_extension": ".py",
   "mimetype": "text/x-python",
   "name": "python",
   "nbconvert_exporter": "python",
   "pygments_lexer": "ipython3",
   "version": "3.5.3"
  },
  "toc": {
   "base_numbering": 1,
   "nav_menu": {},
   "number_sections": true,
   "sideBar": true,
   "skip_h1_title": false,
   "title_cell": "Table of Contents",
   "title_sidebar": "Contents",
   "toc_cell": false,
   "toc_position": {},
   "toc_section_display": true,
   "toc_window_display": false
  },
  "varInspector": {
   "cols": {
    "lenName": 16,
    "lenType": 16,
    "lenVar": 40
   },
   "kernels_config": {
    "python": {
     "delete_cmd_postfix": "",
     "delete_cmd_prefix": "del ",
     "library": "var_list.py",
     "varRefreshCmd": "print(var_dic_list())"
    },
    "r": {
     "delete_cmd_postfix": ") ",
     "delete_cmd_prefix": "rm(",
     "library": "var_list.r",
     "varRefreshCmd": "cat(var_dic_list()) "
    }
   },
   "types_to_exclude": [
    "module",
    "function",
    "builtin_function_or_method",
    "instance",
    "_Feature"
   ],
   "window_display": false
  },
  "widgets": {
   "state": {},
   "version": "1.1.2"
  }
 },
 "nbformat": 4,
 "nbformat_minor": 1
}
