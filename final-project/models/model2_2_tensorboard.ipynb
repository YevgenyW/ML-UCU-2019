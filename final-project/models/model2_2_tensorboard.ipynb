{
 "cells": [
  {
   "cell_type": "markdown",
   "metadata": {},
   "source": [
    "<br>Model from:\n",
    "https://www.kaggle.com/fmarazzi/baseline-keras-cnn-roc-fast-10min-0-925-lb"
   ]
  },
  {
   "cell_type": "markdown",
   "metadata": {
    "_uuid": "dfc41ba2b70e88b92ff41a94f0b6504336f2360d"
   },
   "source": [
    "-----------------------------------------\n",
    "# Data visualization"
   ]
  },
  {
   "cell_type": "code",
   "execution_count": 55,
   "metadata": {
    "ExecuteTime": {
     "end_time": "2019-05-08T07:46:12.766893Z",
     "start_time": "2019-05-08T07:46:12.760899Z"
    }
   },
   "outputs": [
    {
     "data": {
      "text/plain": [
       "'/Users/yevhenp/anaconda3/envs/keras-env/bin/python'"
      ]
     },
     "execution_count": 55,
     "metadata": {},
     "output_type": "execute_result"
    }
   ],
   "source": [
    "import sys\n",
    "sys.executable"
   ]
  },
  {
   "cell_type": "code",
   "execution_count": 56,
   "metadata": {
    "ExecuteTime": {
     "end_time": "2019-05-08T07:46:13.146101Z",
     "start_time": "2019-05-08T07:46:12.936444Z"
    },
    "_cell_guid": "b1076dfc-b9ad-4769-8c92-a6c4dae69d19",
    "_uuid": "8f2839f25d086af736a60e9eeb907d3b93b6e0e5"
   },
   "outputs": [
    {
     "name": "stdout",
     "output_type": "stream",
     "text": [
      "The autoreload extension is already loaded. To reload it, use:\n",
      "  %reload_ext autoreload\n"
     ]
    }
   ],
   "source": [
    "%matplotlib inline\n",
    "%load_ext autoreload\n",
    "%autoreload\n",
    "\n",
    "import numpy as np \n",
    "import pandas as pd \n",
    "from glob import glob \n",
    "from skimage.io import imread \n",
    "import os\n",
    "import shutil\n",
    "import matplotlib.pyplot as plt\n",
    "from sklearn.metrics import roc_curve, auc, roc_auc_score\n",
    "from sklearn.model_selection import train_test_split\n",
    "from keras.preprocessing.image import ImageDataGenerator\n",
    "# from keras.applications.nasnet import NASNetMobile\n",
    "# from keras.applications import NASNetMobile\n",
    "# from keras.applications.xception import Xception\n",
    "from keras.utils.vis_utils import plot_model\n",
    "from keras.layers import Dropout, Flatten, Dense, GlobalAveragePooling2D, Average\n",
    "from keras.layers import Input, Concatenate, GlobalMaxPooling2D, BatchNormalization\n",
    "from keras.layers import Conv2D, MaxPool2D, Activation\n",
    "from keras.models import Model\n",
    "from keras.models import Sequential\n",
    "from keras.callbacks import CSVLogger, ModelCheckpoint\n",
    "from keras.callbacks import EarlyStopping, ReduceLROnPlateau\n",
    "from keras.optimizers import RMSprop, Adam\n",
    "from keras.models import load_model\n",
    "from keras import utils as np_utils\n",
    "from livelossplot import PlotLossesKeras\n",
    "\n",
    "import cv2\n",
    "\n",
    "sys.path.insert(0, '../')\n",
    "from src.dataGenerator import *\n",
    "\n",
    "# import src.constants"
   ]
  },
  {
   "cell_type": "code",
   "execution_count": 57,
   "metadata": {
    "ExecuteTime": {
     "end_time": "2019-05-08T07:46:13.208059Z",
     "start_time": "2019-05-08T07:46:13.203045Z"
    }
   },
   "outputs": [
    {
     "data": {
      "text/plain": [
       "[]"
      ]
     },
     "execution_count": 57,
     "metadata": {},
     "output_type": "execute_result"
    }
   ],
   "source": [
    "from keras import backend as K\n",
    "K.tensorflow_backend._get_available_gpus()\n",
    "# from tensorflow.python.client import device_lib\n",
    "# print(device_lib.list_local_devices())"
   ]
  },
  {
   "cell_type": "code",
   "execution_count": 58,
   "metadata": {
    "ExecuteTime": {
     "end_time": "2019-05-08T07:46:13.717073Z",
     "start_time": "2019-05-08T07:46:13.420855Z"
    }
   },
   "outputs": [
    {
     "name": "stdout",
     "output_type": "stream",
     "text": [
      "mkdir: output_model2_2/: File exists\n",
      "mkdir: output_model2_2/logs/: File exists\n"
     ]
    }
   ],
   "source": [
    "# Output files\n",
    "OUTPUT_DIR = \"output_model2_2/\"\n",
    "!mkdir output_model2_2/\n",
    "\n",
    "OUTPUT_TENSORBOARD_DIR = OUTPUT_DIR+\"/logs/\"\n",
    "!mkdir output_model2_2/logs/\n",
    "# !tensorboard --logdir=output_model2_2/logs/\n",
    "\n",
    "# MODEL_SUMMARY_FILE = OUTPUT_DIR + \"model_summary.txt\"\n",
    "MODEL_PLOT_FILE = OUTPUT_DIR + \"model_plot.png\"\n",
    "\n",
    "# Path to images\n",
    "DATA_DIR = \"../data\"\n",
    "\n",
    "TRAINING_LOGS_FILE_2 = OUTPUT_DIR + \"training_logs_aug.csv\"\n",
    "MODEL_FILE_2 = OUTPUT_DIR + \"model_aug.h5\"\n",
    "TRAINING_PLOT_FILE_2 = OUTPUT_DIR + \"training_aug.png\"\n",
    "VALIDATION_PLOT_FILE_2 = OUTPUT_DIR + \"validation_aug.png\"\n",
    "ROC_PLOT_FILE_2 = OUTPUT_DIR + \"roc_aug.png\"\n",
    "\n",
    "KAGGLE_SUBMISSION_FILE_2 = OUTPUT_DIR + \"kaggle_submission_aug.csv\"\n",
    "\n",
    "# Hyperparams\n",
    "TRAINING_RATIO = 0.9\n",
    "IMAGE_SIZE = 96\n",
    "EPOCHS = 13\n",
    "BATCH_SIZE = 192\n",
    "VERBOSITY = 1\n",
    "TESTING_BATCH_SIZE = 5000"
   ]
  },
  {
   "cell_type": "code",
   "execution_count": 59,
   "metadata": {
    "ExecuteTime": {
     "end_time": "2019-05-08T07:46:14.272848Z",
     "start_time": "2019-05-08T07:46:13.856327Z"
    }
   },
   "outputs": [
    {
     "name": "stdout",
     "output_type": "stream",
     "text": [
      "0    130908\n",
      "1     89117\n",
      "Name: label, dtype: int64\n",
      "0    117817\n",
      "1     80205\n",
      "Name: label, dtype: int64\n",
      "0    13091\n",
      "1     8912\n",
      "Name: label, dtype: int64\n"
     ]
    },
    {
     "name": "stderr",
     "output_type": "stream",
     "text": [
      "/Users/yevhenp/anaconda3/envs/keras-env/lib/python3.6/site-packages/sklearn/model_selection/_split.py:2179: FutureWarning: From version 0.21, test_size will always complement train_size unless both are specified.\n",
      "  FutureWarning)\n"
     ]
    }
   ],
   "source": [
    "data = pd.read_csv(DATA_DIR + '/train_labels.csv')\n",
    "print(data['label'].value_counts())\n",
    "training_data, validation_data = train_test_split(data, train_size=TRAINING_RATIO, stratify=data['label'])\n",
    "print(training_data['label'].value_counts())\n",
    "print(validation_data['label'].value_counts())"
   ]
  },
  {
   "cell_type": "code",
   "execution_count": 60,
   "metadata": {
    "ExecuteTime": {
     "end_time": "2019-05-08T07:46:14.336997Z",
     "start_time": "2019-05-08T07:46:14.326379Z"
    }
   },
   "outputs": [
    {
     "name": "stdout",
     "output_type": "stream",
     "text": [
      "Data augmentation enabled\n",
      "Data augmentation enabled\n"
     ]
    }
   ],
   "source": [
    "# Parameters\n",
    "params = {'dim': (IMAGE_SIZE, IMAGE_SIZE),\n",
    "          'batch_size': BATCH_SIZE,\n",
    "          'n_classes': 2,\n",
    "          'n_channels': 3,\n",
    "          'shuffle': True,\n",
    "          'augmentation': True}\n",
    "\n",
    "training_generator_with_aug = DataGenerator(training_data.id, training_data.label, **params)\n",
    "validation_generator_with_aug = DataGenerator(validation_data.id, validation_data.label, **params)"
   ]
  },
  {
   "cell_type": "code",
   "execution_count": 61,
   "metadata": {
    "ExecuteTime": {
     "end_time": "2019-05-08T07:46:14.848005Z",
     "start_time": "2019-05-08T07:46:14.830439Z"
    }
   },
   "outputs": [],
   "source": [
    "from keras.callbacks import TensorBoard\n",
    "from time import time\n",
    "\n",
    "# Model\n",
    "def create_model(file = ''):\n",
    "    kernel_size = (3,3)\n",
    "    pool_size= (2,2)\n",
    "    first_filters = 32\n",
    "    second_filters = 64\n",
    "    third_filters = 128\n",
    "\n",
    "    dropout_conv = 0.3\n",
    "    dropout_dense = 0.5\n",
    "\n",
    "    model = Sequential()\n",
    "    model.add(Conv2D(first_filters, kernel_size, activation = 'relu', \n",
    "                     input_shape = (IMAGE_SIZE, IMAGE_SIZE, 3)))\n",
    "    model.add(Conv2D(first_filters, kernel_size, use_bias=False))\n",
    "    model.add(BatchNormalization())\n",
    "    model.add(Activation(\"relu\"))\n",
    "    model.add(MaxPool2D(pool_size = pool_size)) \n",
    "    model.add(Dropout(dropout_conv))\n",
    "\n",
    "    model.add(Conv2D(second_filters, kernel_size, use_bias=False))\n",
    "    model.add(BatchNormalization())\n",
    "    model.add(Activation(\"relu\"))\n",
    "    model.add(Conv2D(second_filters, kernel_size, use_bias=False))\n",
    "    model.add(BatchNormalization())\n",
    "    model.add(Activation(\"relu\"))\n",
    "    model.add(MaxPool2D(pool_size = pool_size))\n",
    "    model.add(Dropout(dropout_conv))\n",
    "\n",
    "    model.add(Conv2D(third_filters, kernel_size, use_bias=False))\n",
    "    model.add(BatchNormalization())\n",
    "    model.add(Activation(\"relu\"))\n",
    "    model.add(Conv2D(third_filters, kernel_size, use_bias=False))\n",
    "    model.add(BatchNormalization())\n",
    "    model.add(Activation(\"relu\"))\n",
    "    model.add(MaxPool2D(pool_size = pool_size))\n",
    "    model.add(Dropout(dropout_conv))\n",
    "\n",
    "    #model.add(GlobalAveragePooling2D())\n",
    "    model.add(Flatten())\n",
    "    model.add(Dense(256, use_bias=False))\n",
    "    model.add(BatchNormalization())\n",
    "    model.add(Activation(\"relu\"))\n",
    "    model.add(Dropout(dropout_dense))\n",
    "    model.add(Dense(1, activation = \"sigmoid\"))\n",
    "    \n",
    "    if (os.path.exists(file) == True):\n",
    "        print(\"Load model from file: \", file)\n",
    "        model = load_model(file)\n",
    "\n",
    "    # Compile the model\n",
    "    model.compile(Adam(0.01), loss = \"binary_crossentropy\", metrics=[\"accuracy\"])\n",
    "    model.summary()\n",
    "\n",
    "    plot_model(model,\n",
    "               to_file=MODEL_PLOT_FILE,\n",
    "               show_shapes=True,\n",
    "               show_layer_names=True)\n",
    "    \n",
    "    return model\n",
    "\n",
    "def train(model, training_generator, validation_generator, model_file, logs_file):\n",
    "\n",
    "    tensorboard = TensorBoard(log_dir=OUTPUT_DIR+\"logs/{}\".format(time()))\n",
    "    \n",
    "    model.fit_generator(generator=training_generator,\n",
    "                    validation_data=validation_generator,\n",
    "                    use_multiprocessing=True,\n",
    "                    workers=6,\n",
    "                    epochs=EPOCHS,\n",
    "                            callbacks=[PlotLossesKeras(),\n",
    "                                        ModelCheckpoint(model_file,\n",
    "                                                     monitor='val_acc',\n",
    "                                                     verbose=VERBOSITY,\n",
    "                                                     save_best_only=True,\n",
    "                                                     mode='max'),\n",
    "                                         CSVLogger(logs_file,\n",
    "                                                   append=False,\n",
    "                                                   separator=';'),\n",
    "                                         tensorboard])"
   ]
  },
  {
   "cell_type": "code",
   "execution_count": 62,
   "metadata": {
    "ExecuteTime": {
     "end_time": "2019-05-08T07:46:17.320392Z",
     "start_time": "2019-05-08T07:46:15.310247Z"
    }
   },
   "outputs": [
    {
     "name": "stdout",
     "output_type": "stream",
     "text": [
      "_________________________________________________________________\n",
      "Layer (type)                 Output Shape              Param #   \n",
      "=================================================================\n",
      "conv2d_43 (Conv2D)           (None, 94, 94, 32)        896       \n",
      "_________________________________________________________________\n",
      "conv2d_44 (Conv2D)           (None, 92, 92, 32)        9216      \n",
      "_________________________________________________________________\n",
      "batch_normalization_43 (Batc (None, 92, 92, 32)        128       \n",
      "_________________________________________________________________\n",
      "activation_43 (Activation)   (None, 92, 92, 32)        0         \n",
      "_________________________________________________________________\n",
      "max_pooling2d_22 (MaxPooling (None, 46, 46, 32)        0         \n",
      "_________________________________________________________________\n",
      "dropout_29 (Dropout)         (None, 46, 46, 32)        0         \n",
      "_________________________________________________________________\n",
      "conv2d_45 (Conv2D)           (None, 44, 44, 64)        18432     \n",
      "_________________________________________________________________\n",
      "batch_normalization_44 (Batc (None, 44, 44, 64)        256       \n",
      "_________________________________________________________________\n",
      "activation_44 (Activation)   (None, 44, 44, 64)        0         \n",
      "_________________________________________________________________\n",
      "conv2d_46 (Conv2D)           (None, 42, 42, 64)        36864     \n",
      "_________________________________________________________________\n",
      "batch_normalization_45 (Batc (None, 42, 42, 64)        256       \n",
      "_________________________________________________________________\n",
      "activation_45 (Activation)   (None, 42, 42, 64)        0         \n",
      "_________________________________________________________________\n",
      "max_pooling2d_23 (MaxPooling (None, 21, 21, 64)        0         \n",
      "_________________________________________________________________\n",
      "dropout_30 (Dropout)         (None, 21, 21, 64)        0         \n",
      "_________________________________________________________________\n",
      "conv2d_47 (Conv2D)           (None, 19, 19, 128)       73728     \n",
      "_________________________________________________________________\n",
      "batch_normalization_46 (Batc (None, 19, 19, 128)       512       \n",
      "_________________________________________________________________\n",
      "activation_46 (Activation)   (None, 19, 19, 128)       0         \n",
      "_________________________________________________________________\n",
      "conv2d_48 (Conv2D)           (None, 17, 17, 128)       147456    \n",
      "_________________________________________________________________\n",
      "batch_normalization_47 (Batc (None, 17, 17, 128)       512       \n",
      "_________________________________________________________________\n",
      "activation_47 (Activation)   (None, 17, 17, 128)       0         \n",
      "_________________________________________________________________\n",
      "max_pooling2d_24 (MaxPooling (None, 8, 8, 128)         0         \n",
      "_________________________________________________________________\n",
      "dropout_31 (Dropout)         (None, 8, 8, 128)         0         \n",
      "_________________________________________________________________\n",
      "flatten_8 (Flatten)          (None, 8192)              0         \n",
      "_________________________________________________________________\n",
      "dense_15 (Dense)             (None, 256)               2097152   \n",
      "_________________________________________________________________\n",
      "batch_normalization_48 (Batc (None, 256)               1024      \n",
      "_________________________________________________________________\n",
      "activation_48 (Activation)   (None, 256)               0         \n",
      "_________________________________________________________________\n",
      "dropout_32 (Dropout)         (None, 256)               0         \n",
      "_________________________________________________________________\n",
      "dense_16 (Dense)             (None, 1)                 257       \n",
      "=================================================================\n",
      "Total params: 2,386,689\n",
      "Trainable params: 2,385,345\n",
      "Non-trainable params: 1,344\n",
      "_________________________________________________________________\n"
     ]
    }
   ],
   "source": [
    "model_with_aug = create_model(MODEL_FILE_2)"
   ]
  },
  {
   "cell_type": "code",
   "execution_count": null,
   "metadata": {
    "ExecuteTime": {
     "start_time": "2019-05-08T07:46:15.831Z"
    }
   },
   "outputs": [
    {
     "name": "stdout",
     "output_type": "stream",
     "text": [
      "Epoch 1/13\n",
      "   2/1031 [..............................] - ETA: 3:53:08 - loss: 0.9919 - acc: 0.5104"
     ]
    },
    {
     "name": "stderr",
     "output_type": "stream",
     "text": [
      "Process ForkPoolWorker-43:\n",
      "Process ForkPoolWorker-45:\n",
      "Process ForkPoolWorker-44:\n",
      "Process ForkPoolWorker-42:\n",
      "Process ForkPoolWorker-39:\n",
      "Process ForkPoolWorker-48:\n",
      "Process ForkPoolWorker-37:\n",
      "Process ForkPoolWorker-40:\n",
      "Process ForkPoolWorker-46:\n",
      "Process ForkPoolWorker-38:\n",
      "Traceback (most recent call last):\n",
      "Traceback (most recent call last):\n",
      "Traceback (most recent call last):\n",
      "Traceback (most recent call last):\n",
      "Traceback (most recent call last):\n",
      "  File \"/Users/yevhenp/anaconda3/envs/keras-env/lib/python3.6/multiprocessing/process.py\", line 258, in _bootstrap\n",
      "    self.run()\n",
      "  File \"/Users/yevhenp/anaconda3/envs/keras-env/lib/python3.6/multiprocessing/process.py\", line 258, in _bootstrap\n",
      "    self.run()\n",
      "Traceback (most recent call last):\n",
      "  File \"/Users/yevhenp/anaconda3/envs/keras-env/lib/python3.6/multiprocessing/process.py\", line 258, in _bootstrap\n",
      "    self.run()\n",
      "  File \"/Users/yevhenp/anaconda3/envs/keras-env/lib/python3.6/multiprocessing/process.py\", line 258, in _bootstrap\n",
      "    self.run()\n",
      "Traceback (most recent call last):\n",
      "  File \"/Users/yevhenp/anaconda3/envs/keras-env/lib/python3.6/multiprocessing/process.py\", line 258, in _bootstrap\n",
      "    self.run()\n",
      "  File \"/Users/yevhenp/anaconda3/envs/keras-env/lib/python3.6/multiprocessing/process.py\", line 93, in run\n",
      "    self._target(*self._args, **self._kwargs)\n",
      "  File \"/Users/yevhenp/anaconda3/envs/keras-env/lib/python3.6/multiprocessing/process.py\", line 93, in run\n",
      "    self._target(*self._args, **self._kwargs)\n",
      "  File \"/Users/yevhenp/anaconda3/envs/keras-env/lib/python3.6/multiprocessing/process.py\", line 93, in run\n",
      "    self._target(*self._args, **self._kwargs)\n",
      "  File \"/Users/yevhenp/anaconda3/envs/keras-env/lib/python3.6/multiprocessing/process.py\", line 258, in _bootstrap\n",
      "    self.run()\n",
      "  File \"/Users/yevhenp/anaconda3/envs/keras-env/lib/python3.6/multiprocessing/process.py\", line 258, in _bootstrap\n",
      "    self.run()\n",
      "  File \"/Users/yevhenp/anaconda3/envs/keras-env/lib/python3.6/multiprocessing/process.py\", line 93, in run\n",
      "    self._target(*self._args, **self._kwargs)\n",
      "  File \"/Users/yevhenp/anaconda3/envs/keras-env/lib/python3.6/multiprocessing/pool.py\", line 108, in worker\n",
      "    task = get()\n",
      "  File \"/Users/yevhenp/anaconda3/envs/keras-env/lib/python3.6/multiprocessing/process.py\", line 93, in run\n",
      "    self._target(*self._args, **self._kwargs)\n",
      "  File \"/Users/yevhenp/anaconda3/envs/keras-env/lib/python3.6/multiprocessing/pool.py\", line 108, in worker\n",
      "    task = get()\n",
      "  File \"/Users/yevhenp/anaconda3/envs/keras-env/lib/python3.6/multiprocessing/pool.py\", line 108, in worker\n",
      "    task = get()\n",
      "  File \"/Users/yevhenp/anaconda3/envs/keras-env/lib/python3.6/multiprocessing/pool.py\", line 108, in worker\n",
      "    task = get()\n",
      "  File \"/Users/yevhenp/anaconda3/envs/keras-env/lib/python3.6/multiprocessing/process.py\", line 93, in run\n",
      "    self._target(*self._args, **self._kwargs)\n",
      "  File \"/Users/yevhenp/anaconda3/envs/keras-env/lib/python3.6/multiprocessing/queues.py\", line 334, in get\n",
      "    with self._rlock:\n",
      "  File \"/Users/yevhenp/anaconda3/envs/keras-env/lib/python3.6/multiprocessing/process.py\", line 93, in run\n",
      "    self._target(*self._args, **self._kwargs)\n",
      "  File \"/Users/yevhenp/anaconda3/envs/keras-env/lib/python3.6/multiprocessing/queues.py\", line 334, in get\n",
      "    with self._rlock:\n",
      "  File \"/Users/yevhenp/anaconda3/envs/keras-env/lib/python3.6/multiprocessing/pool.py\", line 108, in worker\n",
      "    task = get()\n",
      "  File \"/Users/yevhenp/anaconda3/envs/keras-env/lib/python3.6/multiprocessing/queues.py\", line 334, in get\n",
      "    with self._rlock:\n",
      "  File \"/Users/yevhenp/anaconda3/envs/keras-env/lib/python3.6/multiprocessing/queues.py\", line 335, in get\n",
      "    res = self._reader.recv_bytes()\n",
      "  File \"/Users/yevhenp/anaconda3/envs/keras-env/lib/python3.6/multiprocessing/pool.py\", line 108, in worker\n",
      "    task = get()\n",
      "  File \"/Users/yevhenp/anaconda3/envs/keras-env/lib/python3.6/multiprocessing/pool.py\", line 108, in worker\n",
      "    task = get()\n",
      "  File \"/Users/yevhenp/anaconda3/envs/keras-env/lib/python3.6/multiprocessing/synchronize.py\", line 95, in __enter__\n",
      "    return self._semlock.__enter__()\n",
      "  File \"/Users/yevhenp/anaconda3/envs/keras-env/lib/python3.6/multiprocessing/queues.py\", line 334, in get\n",
      "    with self._rlock:\n",
      "  File \"/Users/yevhenp/anaconda3/envs/keras-env/lib/python3.6/multiprocessing/synchronize.py\", line 95, in __enter__\n",
      "    return self._semlock.__enter__()\n",
      "  File \"/Users/yevhenp/anaconda3/envs/keras-env/lib/python3.6/multiprocessing/synchronize.py\", line 95, in __enter__\n",
      "    return self._semlock.__enter__()\n",
      "  File \"/Users/yevhenp/anaconda3/envs/keras-env/lib/python3.6/multiprocessing/queues.py\", line 334, in get\n",
      "    with self._rlock:\n",
      "  File \"/Users/yevhenp/anaconda3/envs/keras-env/lib/python3.6/multiprocessing/connection.py\", line 216, in recv_bytes\n",
      "    buf = self._recv_bytes(maxlength)\n",
      "KeyboardInterrupt\n",
      "  File \"/Users/yevhenp/anaconda3/envs/keras-env/lib/python3.6/multiprocessing/queues.py\", line 335, in get\n",
      "    res = self._reader.recv_bytes()\n",
      "  File \"/Users/yevhenp/anaconda3/envs/keras-env/lib/python3.6/multiprocessing/synchronize.py\", line 95, in __enter__\n",
      "    return self._semlock.__enter__()\n",
      "KeyboardInterrupt\n",
      "KeyboardInterrupt\n",
      "  File \"/Users/yevhenp/anaconda3/envs/keras-env/lib/python3.6/multiprocessing/connection.py\", line 407, in _recv_bytes\n",
      "    buf = self._recv(4)\n",
      "  File \"/Users/yevhenp/anaconda3/envs/keras-env/lib/python3.6/multiprocessing/synchronize.py\", line 95, in __enter__\n",
      "    return self._semlock.__enter__()\n",
      "  File \"/Users/yevhenp/anaconda3/envs/keras-env/lib/python3.6/multiprocessing/connection.py\", line 216, in recv_bytes\n",
      "    buf = self._recv_bytes(maxlength)\n",
      "KeyboardInterrupt\n",
      "  File \"/Users/yevhenp/anaconda3/envs/keras-env/lib/python3.6/multiprocessing/connection.py\", line 379, in _recv\n",
      "    chunk = read(handle, remaining)\n",
      "KeyboardInterrupt\n",
      "  File \"/Users/yevhenp/anaconda3/envs/keras-env/lib/python3.6/multiprocessing/connection.py\", line 407, in _recv_bytes\n",
      "    buf = self._recv(4)\n"
     ]
    },
    {
     "name": "stdout",
     "output_type": "stream",
     "text": [
      "Epoch 1/13\n"
     ]
    },
    {
     "name": "stderr",
     "output_type": "stream",
     "text": [
      "KeyboardInterrupt\n",
      "  File \"/Users/yevhenp/anaconda3/envs/keras-env/lib/python3.6/multiprocessing/connection.py\", line 379, in _recv\n",
      "    chunk = read(handle, remaining)\n",
      "KeyboardInterrupt\n",
      "Process ForkPoolWorker-47:\n",
      "Traceback (most recent call last):\n",
      "Traceback (most recent call last):\n",
      "  File \"/Users/yevhenp/anaconda3/envs/keras-env/lib/python3.6/multiprocessing/process.py\", line 258, in _bootstrap\n",
      "    self.run()\n",
      "  File \"/Users/yevhenp/anaconda3/envs/keras-env/lib/python3.6/multiprocessing/process.py\", line 258, in _bootstrap\n",
      "    self.run()\n",
      "Traceback (most recent call last):\n",
      "Traceback (most recent call last):\n",
      "  File \"/Users/yevhenp/anaconda3/envs/keras-env/lib/python3.6/multiprocessing/process.py\", line 93, in run\n",
      "    self._target(*self._args, **self._kwargs)\n",
      "  File \"/Users/yevhenp/anaconda3/envs/keras-env/lib/python3.6/multiprocessing/process.py\", line 258, in _bootstrap\n",
      "    self.run()\n",
      "  File \"/Users/yevhenp/anaconda3/envs/keras-env/lib/python3.6/multiprocessing/process.py\", line 93, in run\n",
      "    self._target(*self._args, **self._kwargs)\n",
      "  File \"/Users/yevhenp/anaconda3/envs/keras-env/lib/python3.6/multiprocessing/pool.py\", line 108, in worker\n",
      "    task = get()\n",
      "  File \"/Users/yevhenp/anaconda3/envs/keras-env/lib/python3.6/multiprocessing/process.py\", line 258, in _bootstrap\n",
      "    self.run()\n",
      "  File \"/Users/yevhenp/anaconda3/envs/keras-env/lib/python3.6/multiprocessing/process.py\", line 93, in run\n",
      "    self._target(*self._args, **self._kwargs)\n",
      "  File \"/Users/yevhenp/anaconda3/envs/keras-env/lib/python3.6/multiprocessing/queues.py\", line 334, in get\n",
      "    with self._rlock:\n",
      "  File \"/Users/yevhenp/anaconda3/envs/keras-env/lib/python3.6/multiprocessing/pool.py\", line 108, in worker\n",
      "    task = get()\n",
      "  File \"/Users/yevhenp/anaconda3/envs/keras-env/lib/python3.6/multiprocessing/pool.py\", line 108, in worker\n",
      "    task = get()\n",
      "  File \"/Users/yevhenp/anaconda3/envs/keras-env/lib/python3.6/multiprocessing/process.py\", line 93, in run\n",
      "    self._target(*self._args, **self._kwargs)\n",
      "  File \"/Users/yevhenp/anaconda3/envs/keras-env/lib/python3.6/multiprocessing/synchronize.py\", line 95, in __enter__\n",
      "    return self._semlock.__enter__()\n",
      "  File \"/Users/yevhenp/anaconda3/envs/keras-env/lib/python3.6/multiprocessing/pool.py\", line 108, in worker\n",
      "    task = get()\n",
      "  File \"/Users/yevhenp/anaconda3/envs/keras-env/lib/python3.6/multiprocessing/queues.py\", line 334, in get\n",
      "    with self._rlock:\n",
      "  File \"/Users/yevhenp/anaconda3/envs/keras-env/lib/python3.6/multiprocessing/queues.py\", line 334, in get\n",
      "    with self._rlock:\n",
      "KeyboardInterrupt\n",
      "  File \"/Users/yevhenp/anaconda3/envs/keras-env/lib/python3.6/multiprocessing/synchronize.py\", line 95, in __enter__\n",
      "    return self._semlock.__enter__()\n",
      "Process ForkPoolWorker-41:\n",
      "  File \"/Users/yevhenp/anaconda3/envs/keras-env/lib/python3.6/multiprocessing/synchronize.py\", line 95, in __enter__\n",
      "    return self._semlock.__enter__()\n",
      "KeyboardInterrupt\n",
      "  File \"/Users/yevhenp/anaconda3/envs/keras-env/lib/python3.6/multiprocessing/queues.py\", line 334, in get\n",
      "    with self._rlock:\n",
      "KeyboardInterrupt\n",
      "  File \"/Users/yevhenp/anaconda3/envs/keras-env/lib/python3.6/multiprocessing/synchronize.py\", line 95, in __enter__\n",
      "    return self._semlock.__enter__()\n"
     ]
    },
    {
     "name": "stdout",
     "output_type": "stream",
     "text": [
      "Epoch 1/13\n"
     ]
    },
    {
     "name": "stderr",
     "output_type": "stream",
     "text": [
      "KeyboardInterrupt\n",
      "Traceback (most recent call last):\n",
      "  File \"/Users/yevhenp/anaconda3/envs/keras-env/lib/python3.6/multiprocessing/process.py\", line 258, in _bootstrap\n",
      "    self.run()\n",
      "  File \"/Users/yevhenp/anaconda3/envs/keras-env/lib/python3.6/multiprocessing/process.py\", line 93, in run\n",
      "    self._target(*self._args, **self._kwargs)\n",
      "  File \"/Users/yevhenp/anaconda3/envs/keras-env/lib/python3.6/multiprocessing/pool.py\", line 108, in worker\n",
      "    task = get()\n",
      "  File \"/Users/yevhenp/anaconda3/envs/keras-env/lib/python3.6/multiprocessing/queues.py\", line 334, in get\n",
      "    with self._rlock:\n",
      "  File \"/Users/yevhenp/anaconda3/envs/keras-env/lib/python3.6/multiprocessing/synchronize.py\", line 95, in __enter__\n",
      "    return self._semlock.__enter__()\n",
      "KeyboardInterrupt\n"
     ]
    }
   ],
   "source": [
    "history = train(model = model_with_aug, \n",
    "            training_generator = training_generator_with_aug,\n",
    "            validation_generator = validation_generator_with_aug,\n",
    "            model_file = MODEL_FILE_2,\n",
    "            logs_file = TRAINING_LOGS_FILE_2)"
   ]
  },
  {
   "cell_type": "code",
   "execution_count": null,
   "metadata": {
    "ExecuteTime": {
     "end_time": "2019-05-08T07:41:18.983691Z",
     "start_time": "2019-05-08T07:41:13.838Z"
    }
   },
   "outputs": [],
   "source": [
    "def plot_epochs(history, training_plot_file, validation_plot_file):\n",
    "    # Training plots\n",
    "    epochs = [i for i in range(1, len(history.history['loss'])+1)]\n",
    "\n",
    "    plt.plot(epochs, history.history['loss'], color='blue', label=\"training_loss\")\n",
    "    plt.plot(epochs, history.history['val_loss'], color='red', label=\"validation_loss\")\n",
    "    plt.legend(loc='best')\n",
    "    plt.title('training')\n",
    "    plt.xlabel('epoch')\n",
    "    plt.savefig(training_plot_file, bbox_inches='tight')\n",
    "    plt.close()\n",
    "\n",
    "    plt.plot(epochs, history.history['acc'], color='blue', label=\"training_accuracy\")\n",
    "    plt.plot(epochs, history.history['val_acc'], color='red',label=\"validation_accuracy\")\n",
    "    plt.legend(loc='best')\n",
    "    plt.title('validation')\n",
    "    plt.xlabel('epoch')\n",
    "    plt.savefig(validation_plot_file, bbox_inches='tight')\n",
    "    plt.close()"
   ]
  },
  {
   "cell_type": "code",
   "execution_count": null,
   "metadata": {
    "ExecuteTime": {
     "end_time": "2019-05-08T07:41:18.986617Z",
     "start_time": "2019-05-08T07:41:14.790Z"
    }
   },
   "outputs": [],
   "source": [
    "def plot_AUC(model, testing_generator, model_file, plot_file):\n",
    "    # ROC testing plot\n",
    "#     model.load_weights(model_file)\n",
    "    predictions = model.predict_generator(testing_generator, steps=len(testing_generator), verbose=VERBOSITY)\n",
    "#     print(len(testing_generator))\n",
    "#     print(testing_generator.classes.shape)\n",
    "#     print(predictions.shape)\n",
    "#     print(predictions)\n",
    "    false_positive_rate, true_positive_rate, threshold = roc_curve(testing_generator.classes, predictions)\n",
    "    area_under_curve = auc(false_positive_rate, true_positive_rate)\n",
    "    \n",
    "    print(\"False positive: \", false_positive_rate)\n",
    "    print(\"True positive: \", true_positive_rate)\n",
    "\n",
    "    plt.plot([0, 1], [0, 1], 'k--')\n",
    "    plt.plot(false_positive_rate, true_positive_rate, label='AUC = {:.3f}'.format(area_under_curve))\n",
    "    plt.xlabel('False positive rate')\n",
    "    plt.ylabel('True positive rate')\n",
    "    plt.title('ROC curve')\n",
    "    plt.legend(loc='best')\n",
    "    plt.show()\n",
    "    plt.savefig(plot_file, bbox_inches='tight')\n",
    "    plt.close()\n"
   ]
  },
  {
   "cell_type": "code",
   "execution_count": null,
   "metadata": {
    "ExecuteTime": {
     "end_time": "2019-05-08T07:41:18.989689Z",
     "start_time": "2019-05-08T07:41:15.555Z"
    }
   },
   "outputs": [],
   "source": [
    "def test(model, file):\n",
    "    testing_files = glob(os.path.join('data/test/','*.tif'))\n",
    "    submission = pd.DataFrame()\n",
    "    for index in range(0, len(testing_files), TESTING_BATCH_SIZE):\n",
    "        data_frame = pd.DataFrame({'path': testing_files[index:index+TESTING_BATCH_SIZE]})\n",
    "        data_frame['id'] = data_frame.path.map(lambda x: x.split('/')[2].split(\".\")[0])\n",
    "        data_frame['image'] = data_frame['path'].map(imread)\n",
    "        images = np.stack(data_frame.image, axis=0)\n",
    "        predicted_labels = [model.predict(np.expand_dims(image/255.0, axis=0))[0][0] for image in images]\n",
    "        predictions = np.array(predicted_labels)\n",
    "        data_frame['label'] = predictions\n",
    "        submission = pd.concat([submission, data_frame[[\"id\", \"label\"]]])\n",
    "    submission.to_csv(file, index=False, header=True)"
   ]
  },
  {
   "cell_type": "code",
   "execution_count": null,
   "metadata": {
    "ExecuteTime": {
     "end_time": "2019-05-08T07:41:18.996097Z",
     "start_time": "2019-05-08T07:41:16.680Z"
    }
   },
   "outputs": [],
   "source": [
    "# Parameters\n",
    "params = {'dim': (IMAGE_SIZE, IMAGE_SIZE),\n",
    "          'batch_size': BATCH_SIZE,\n",
    "          'n_classes': 2,\n",
    "          'n_channels': 3,\n",
    "          'shuffle': False,\n",
    "          'augmentation': False}\n",
    "\n",
    "testing_generator = DataGenerator(validation_data.id, validation_data.label, **params)\n",
    "# plot_epochs(history, TRAINING_PLOT_FILE_1, VALIDATION_PLOT_FILE_1)"
   ]
  },
  {
   "cell_type": "code",
   "execution_count": null,
   "metadata": {
    "ExecuteTime": {
     "end_time": "2019-05-08T07:41:18.999386Z",
     "start_time": "2019-05-08T07:41:17.340Z"
    }
   },
   "outputs": [],
   "source": [
    "plot_AUC(model_with_aug, testing_generator, MODEL_FILE_2, ROC_PLOT_FILE_2)"
   ]
  },
  {
   "cell_type": "code",
   "execution_count": 16,
   "metadata": {
    "ExecuteTime": {
     "end_time": "2019-04-09T05:18:09.492767Z",
     "start_time": "2019-04-09T05:06:36.726Z"
    }
   },
   "outputs": [],
   "source": [
    "test(model = model_with_aug, file = KAGGLE_SUBMISSION_FILE_2)"
   ]
  }
 ],
 "metadata": {
  "kernelspec": {
   "display_name": "Python 3",
   "language": "python",
   "name": "python3"
  },
  "language_info": {
   "codemirror_mode": {
    "name": "ipython",
    "version": 3
   },
   "file_extension": ".py",
   "mimetype": "text/x-python",
   "name": "python",
   "nbconvert_exporter": "python",
   "pygments_lexer": "ipython3",
   "version": "3.6.8"
  },
  "toc": {
   "base_numbering": 1,
   "nav_menu": {},
   "number_sections": true,
   "sideBar": true,
   "skip_h1_title": false,
   "title_cell": "Table of Contents",
   "title_sidebar": "Contents",
   "toc_cell": false,
   "toc_position": {},
   "toc_section_display": true,
   "toc_window_display": false
  },
  "varInspector": {
   "cols": {
    "lenName": 16,
    "lenType": 16,
    "lenVar": 40
   },
   "kernels_config": {
    "python": {
     "delete_cmd_postfix": "",
     "delete_cmd_prefix": "del ",
     "library": "var_list.py",
     "varRefreshCmd": "print(var_dic_list())"
    },
    "r": {
     "delete_cmd_postfix": ") ",
     "delete_cmd_prefix": "rm(",
     "library": "var_list.r",
     "varRefreshCmd": "cat(var_dic_list()) "
    }
   },
   "types_to_exclude": [
    "module",
    "function",
    "builtin_function_or_method",
    "instance",
    "_Feature"
   ],
   "window_display": false
  },
  "widgets": {
   "state": {},
   "version": "1.1.2"
  }
 },
 "nbformat": 4,
 "nbformat_minor": 1
}
