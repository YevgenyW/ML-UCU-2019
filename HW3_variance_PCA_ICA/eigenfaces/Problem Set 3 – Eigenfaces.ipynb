{
 "cells": [
  {
   "cell_type": "code",
   "execution_count": 1,
   "metadata": {
    "ExecuteTime": {
     "end_time": "2019-04-29T12:10:50.854440Z",
     "start_time": "2019-04-29T12:10:50.542107Z"
    }
   },
   "outputs": [],
   "source": [
    "import os\n",
    "import csv\n",
    "from PIL import Image\n",
    "import matplotlib.pyplot as plt\n",
    "import random\n",
    "import numpy as np\n",
    "from time import time"
   ]
  },
  {
   "cell_type": "code",
   "execution_count": 2,
   "metadata": {
    "ExecuteTime": {
     "end_time": "2019-04-29T12:10:51.086242Z",
     "start_time": "2019-04-29T12:10:51.017683Z"
    }
   },
   "outputs": [],
   "source": [
    "folders = [x[0] for x in os.walk('images')][1:]"
   ]
  },
  {
   "cell_type": "code",
   "execution_count": 3,
   "metadata": {
    "ExecuteTime": {
     "end_time": "2019-04-29T12:11:05.200280Z",
     "start_time": "2019-04-29T12:10:51.579235Z"
    }
   },
   "outputs": [],
   "source": [
    "images = []\n",
    "for folder in folders:\n",
    "    with open(folder+'//filelist_LBP.txt', 'r') as f:\n",
    "        reader = csv.reader(f, delimiter='\\t')\n",
    "        for img_name, left, top, right, bottom, new_size_y, new_size_x in reader:\n",
    "            img = Image.open(folder+'//'+img_name).resize((int(new_size_y), int(new_size_x))).crop((int(left), int(top), int(right), int(bottom))).resize((100,100))\n",
    "            \n",
    "            # some images are black and white, for PCA to work correctly need to convert those to rgb\n",
    "            if (len(np.array(img).shape) != 3 or np.array(img).shape[2] != 3):\n",
    "                rgbimg = Image.new(\"RGB\", img.size)\n",
    "                rgbimg.paste(img)\n",
    "                images.append(rgbimg)\n",
    "            else:\n",
    "                images.append(img)\n",
    "            if (len(np.array(images[-1]).shape) != 3 or np.array(images[-1]).shape[2] != 3):\n",
    "                print (\"Image was not processed correctly \" + folder + '//' + img_name)"
   ]
  },
  {
   "cell_type": "markdown",
   "metadata": {},
   "source": [
    "Showing few random faces from the dataset."
   ]
  },
  {
   "cell_type": "code",
   "execution_count": 4,
   "metadata": {
    "ExecuteTime": {
     "end_time": "2019-04-29T12:11:05.733670Z",
     "start_time": "2019-04-29T12:11:05.263759Z"
    }
   },
   "outputs": [
    {
     "data": {
      "image/png": "[encoded data removed]",
      "text/plain": [
       "<Figure size 432x288 with 5 Axes>"
      ]
     },
     "metadata": {
      "needs_background": "light"
     },
     "output_type": "display_data"
    }
   ],
   "source": [
    "num_faces = 5\n",
    "\n",
    "for i in range(1, num_faces+1):\n",
    "    img = random.choice(images)\n",
    "    plt.subplot(2, num_faces, i)\n",
    "    plt.imshow(img)"
   ]
  },
  {
   "cell_type": "code",
   "execution_count": 5,
   "metadata": {
    "ExecuteTime": {
     "end_time": "2019-04-29T12:11:05.923933Z",
     "start_time": "2019-04-29T12:11:05.808121Z"
    }
   },
   "outputs": [],
   "source": [
    "import glob\n",
    "import os \n",
    "from os.path import join as pjoin\n",
    "import cv2\n",
    "\n",
    "def imread(imgpath):\n",
    "    return cv2.cvtColor(cv2.imread(imgpath), cv2.COLOR_BGR2RGB)\n",
    "\n",
    "def resize(img, imgshape):\n",
    "    return cv2.resize(img, (imgshape[1], imgshape[0]))\n",
    "\n",
    "def imshow(img, cmap=None):\n",
    "    plt.title(img.shape)\n",
    "    plt.imshow(img, cmap=cmap)\n",
    "    plt.axis('off')\n",
    "\n",
    "def get_data_matrix(dataset_path, imgshape, m=None, m_start=0, m_freq=1, color=True, ext='jpg'):\n",
    "    \"\"\"\n",
    "    imgshape -- np.array([h, w]) -- spatial size of the frames\n",
    "    m -- number of frames,\n",
    "         if None then all the images in dataset_path will be used\n",
    "    m_start -- number of the frame from which data matrix starts\n",
    "    m_freq -- frequency of frames to collect in data matrix\n",
    "    \"\"\"\n",
    "    imgpaths = sorted(glob.glob(pjoin(dataset_path, '*.{}'.format(ext))))\n",
    "    m = len(imgpaths) \n",
    "    if color:\n",
    "        imgshape = np.array([*imgshape, 3])\n",
    "        X = resize(imread(imgpaths[m_start]), imgshape).reshape((-1,1))\n",
    "        for imgpath in imgpaths:\n",
    "            img = resize(imread(imgpath), imgshape)\n",
    "            img_vec = img.reshape((-1,1))\n",
    "            X = np.hstack((X, img_vec))\n",
    "    return X\n"
   ]
  },
  {
   "cell_type": "code",
   "execution_count": null,
   "metadata": {
    "ExecuteTime": {
     "start_time": "2019-04-29T12:10:53.716Z"
    }
   },
   "outputs": [],
   "source": [
    "def stack_images(matrices, k=1, imgshape=np.array([100, 100, 3]), captions=None, leftcaption=None):\n",
    "    \"\"\"\n",
    "        matrices -- (N, *imgshape, k) array,\n",
    "                    where N is the number of `matrices`,\n",
    "                          k is the number of images in each `matrix`\n",
    "    \"\"\"\n",
    "    assert imgshape is not None, 'Please specify the spatial size of the frames (imgshape)'\n",
    "    k = min(matrices[0].shape[-1], k)\n",
    "    N = len(matrices)\n",
    "    num_cols, num_rows = N, 1\n",
    "    if captions is None:\n",
    "        captions = ['']*N\n",
    "    matrices_ = []\n",
    "    if len(imgshape) == 2:\n",
    "        print('here')\n",
    "        for m in matrices:\n",
    "            M = m.reshape((*imgshape,-1)).transpose(2,0,1)[:k]\n",
    "#             print(M.shape)\n",
    "            matrices_.append(M)\n",
    "    else:\n",
    "        for m in matrices:\n",
    "            M = m.reshape((*imgshape,-1)).transpose(3,0,1,2)[:k]\n",
    "#             print(M.shape)\n",
    "            matrices_.append(M)\n",
    "    for k_ in range(k):\n",
    "        for i in range(N):\n",
    "            plt.subplot(num_rows, num_cols, i+1)\n",
    "            imshow(matrices_[i][k_])\n",
    "            plt.title(captions[i])\n",
    "            if i == 0:\n",
    "                plt.title(leftcaption, loc='left')\n",
    "        plt.show()"
   ]
  },
  {
   "cell_type": "markdown",
   "metadata": {},
   "source": [
    "### Implementing eigenfaces with SVD"
   ]
  },
  {
   "cell_type": "markdown",
   "metadata": {},
   "source": [
    "Implement eigenfaces using singular value decomposition (SVD). Remember to represent the images properly and account for the color."
   ]
  },
  {
   "cell_type": "code",
   "execution_count": null,
   "metadata": {
    "ExecuteTime": {
     "start_time": "2019-04-29T12:10:55.051Z"
    }
   },
   "outputs": [
    {
     "name": "stdout",
     "output_type": "stream",
     "text": [
      "(30000, 56)\n"
     ]
    }
   ],
   "source": [
    "# =============== TODO: Your code here ===============\n",
    "# Represent the images as a matrix for SVD decompotision.\n",
    "dataset_path = folders[1]\n",
    "imgshape = np.array([100, 100]) # spatial size of the frame\n",
    "\n",
    "X = get_data_matrix(dataset_path, imgshape)\n",
    "print(X.shape)\n",
    "# ===================================================="
   ]
  },
  {
   "cell_type": "code",
   "execution_count": null,
   "metadata": {
    "ExecuteTime": {
     "start_time": "2019-04-29T12:10:55.526Z"
    }
   },
   "outputs": [],
   "source": [
    "from scipy import linalg as LA\n",
    "\n",
    "def eigenfaces_from_SVD(X, k, color=True):\n",
    "    \"\"\"\n",
    "    k -- rank of the low-rank matrix approximation\n",
    "    \"\"\"\n",
    "    t0 = time()\n",
    "    U, S, VT = LA.svd(X, full_matrices=False)\n",
    "\n",
    "    U = U[:,:k]\n",
    "\n",
    "    eigenfaces = ((U - U.min()) \n",
    "              * (1/(U.max() - U.min()) * 255)).astype('uint8')\n",
    "    \n",
    "    print(\"SVD: eigenfaces found in %0.3fs\" % (time() - t0))\n",
    "    \n",
    "    return eigenfaces\n",
    "\n",
    "def eigenfaces_from_PCA(M, k):\n",
    "    # based on \n",
    "    # https://scikit-learn.org/stable/auto_examples/applications/plot_face_recognition.html\n",
    "\n",
    "    from sklearn.decomposition import PCA\n",
    "    t0 = time()\n",
    "    num_eigenfaces = 10\n",
    "    pca = PCA(n_components=num_eigenfaces, svd_solver='randomized',\n",
    "              whiten=True).fit(X.transpose())\n",
    "    evecs = pca.components_\n",
    "    eigenfaces = ((evecs - evecs.min()) \n",
    "                      * (1/(evecs.max() - evecs.min()) * 255)).astype('uint8')\n",
    "    print(\"PCA: eigenfaces found in %0.3fs\" % (time() - t0))\n",
    "    return eigenfaces\n",
    "\n",
    "def eigenfaces_custom(M, k):\n",
    "    t0 = time()\n",
    "    mean_col = np.sum(M, axis=1) / M.shape[1]\n",
    "    for j in range(M.shape[1]):\n",
    "        M[:, j] = (M[:, j]) - mean_col\n",
    "        \n",
    "    C = np.matmul(M.transpose(), M)\n",
    "    C = C / M.shape[1]\n",
    "    C = np.cov(M)\n",
    "\n",
    "    evalues, evectors = np.linalg.eig(C)\n",
    "\n",
    "#     sort evalues\n",
    "    sort_indices = evalues.argsort()[::-1]\n",
    "    evalues = evalues[sort_indices]\n",
    "    evectors = evectors[:, sort_indices]  \n",
    "    \n",
    "    evalues = evalues[0:k]\n",
    "    evectors = evectors[:,0:k]\n",
    "    evectors = np.matmul(M, evectors)\n",
    "    \n",
    "    norms = np.linalg.norm(evectors, axis=0)\n",
    "    evectors = evectors / norms\n",
    "    \n",
    "    eigenfaces = ((evectors - evectors.min()) \n",
    "                  * (1/(evectors.max() - evectors.min()) * 255)).astype('uint8')\n",
    "    print(\"Custom algorithm: eigenfaces found in %0.3fs\" % (time() - t0))\n",
    "    return eigenfaces"
   ]
  },
  {
   "cell_type": "code",
   "execution_count": null,
   "metadata": {
    "ExecuteTime": {
     "start_time": "2019-04-29T12:10:56.309Z"
    }
   },
   "outputs": [
    {
     "name": "stdout",
     "output_type": "stream",
     "text": [
      "SVD: eigenfaces found in 0.104s\n",
      "PCA: eigenfaces found in 0.095s\n"
     ]
    }
   ],
   "source": [
    "# =============== TODO: Your code here ===============\n",
    "# Implement eigenfaces using singular value decomposition (SVD). \n",
    "# Remember to represent the images properly and account for the color.\n",
    "\n",
    "eigenfaces_from_SVD = eigenfaces_from_SVD(X, 10)\n",
    "\n",
    "eigenfaces_from_PCA = eigenfaces_from_PCA(X, 10)\n",
    "\n",
    "eigenfaces = eigenfaces_custom(X, 10)\n"
   ]
  },
  {
   "cell_type": "markdown",
   "metadata": {},
   "source": [
    "Visualize 10 eigenfaces associated with the highest eigenvalues."
   ]
  },
  {
   "cell_type": "code",
   "execution_count": null,
   "metadata": {
    "ExecuteTime": {
     "start_time": "2019-04-29T11:32:30.809Z"
    }
   },
   "outputs": [],
   "source": [
    "# =============== TODO: Your code here ===============\n",
    "# Visualize 10 eigenfaces associated with the highest eigenvalues.\n",
    "print(\"Eigenfaces from SVD\")\n",
    "stack_images((eigenfaces_from_SVD[:, 0], eigenfaces_from_SVD[:, 1], eigenfaces_from_SVD[:, 2], eigenfaces_from_SVD[:, 3], eigenfaces_from_SVD[:, 4]))\n",
    "stack_images((eigenfaces_from_SVD[:, 5], eigenfaces_from_SVD[:, 6], eigenfaces_from_SVD[:, 7], eigenfaces_from_SVD[:, 8], eigenfaces_from_SVD[:, 9]))\n",
    "print(\"-------------------\")\n",
    "print(\"Eigenfaces from PCA\")\n",
    "stack_images((eigenfaces_from_PCA[0], eigenfaces_from_PCA[1], eigenfaces_from_PCA[2], eigenfaces_from_PCA[3], eigenfaces_from_PCA[4]))\n",
    "stack_images((eigenfaces_from_PCA[5], eigenfaces_from_PCA[6], eigenfaces_from_PCA[7], eigenfaces_from_PCA[8], eigenfaces_from_PCA[9]))\n",
    "print(\"-------------------\")\n",
    "print(\"Eigenfaces from custom algorithm\")\n",
    "stack_images((eigenfaces[:, 0], eigenfaces[:, 1], eigenfaces[:, 2], eigenfaces[:, 3], eigenfaces[:, 4]))\n",
    "stack_images((eigenfaces[:, 5], eigenfaces[:, 6], eigenfaces[:, 7], eigenfaces[:, 8], eigenfaces[:, 9]))\n",
    "print(\"-------------------\")\n",
    "# ===================================================="
   ]
  },
  {
   "cell_type": "markdown",
   "metadata": {},
   "source": [
    "### Implementing eigenfaces with variance maximization"
   ]
  },
  {
   "cell_type": "code",
   "execution_count": null,
   "metadata": {},
   "outputs": [],
   "source": []
  },
  {
   "cell_type": "code",
   "execution_count": null,
   "metadata": {},
   "outputs": [],
   "source": []
  },
  {
   "cell_type": "code",
   "execution_count": null,
   "metadata": {},
   "outputs": [],
   "source": []
  },
  {
   "cell_type": "code",
   "execution_count": null,
   "metadata": {},
   "outputs": [],
   "source": []
  },
  {
   "cell_type": "code",
   "execution_count": null,
   "metadata": {},
   "outputs": [],
   "source": []
  },
  {
   "cell_type": "code",
   "execution_count": null,
   "metadata": {},
   "outputs": [],
   "source": []
  },
  {
   "cell_type": "markdown",
   "metadata": {},
   "source": [
    "As you have noticed, SVD could be quite slow if the number of faces is large. If the number of faces exceeds 50k, which is not a large dataset according to the modern standards, doing SVD is not possible directly and you have to use iterative methods for computing eigenfaces.\n",
    "\n",
    "Here, you are going to calculate 10 eigenfaces by maximizing variance as stated in the lecture notes."
   ]
  },
  {
   "cell_type": "code",
   "execution_count": 264,
   "metadata": {
    "ExecuteTime": {
     "end_time": "2019-04-28T12:48:30.554335Z",
     "start_time": "2019-04-28T12:48:30.498549Z"
    }
   },
   "outputs": [],
   "source": [
    "from numpy import mean\n",
    "\n",
    "X_centered = X - mean(X.T, axis=1)\n",
    "\n",
    "C = np.cov(X_centered.T)"
   ]
  },
  {
   "cell_type": "code",
   "execution_count": 265,
   "metadata": {
    "ExecuteTime": {
     "end_time": "2019-04-28T12:48:30.566678Z",
     "start_time": "2019-04-28T12:48:30.556078Z"
    }
   },
   "outputs": [],
   "source": [
    "# =============== TODO: Your code here ===============\n",
    "# Calculate 10 eigenfaces iteratively by variance maximization.\n",
    "\n",
    "\n",
    "def get_maxeigval(M):\n",
    "    n_iters = 200000\n",
    "    return power_iteration(M, n_iters)\n",
    "\n",
    "def vector_len(v):\n",
    "    return np.dot(np.transpose(v), v)\n",
    "\n",
    "def power_iteration(M, n_iters):\n",
    "    tol = 10**(-9)\n",
    "    \n",
    "    vec = np.random.rand(M.shape[0])\n",
    "    print(M.shape, vec.shape)\n",
    "    val_old = np.dot(np.transpose(vec), M.dot(vec)) / np.dot(np.transpose(vec), vec)\n",
    "\n",
    "    for i in range(n_iters):\n",
    "        vec_temp = M.dot(vec)\n",
    "        vec_temp_norm = np.linalg.norm(vec_temp)\n",
    "        vec = vec_temp / vec_temp_norm\n",
    "        \n",
    "#         vec = M.dot(vec) / np.linalg.norm(vec)\n",
    "        val = np.dot(np.transpose(vec), M.dot(vec)) / np.dot(np.transpose(vec), vec)\n",
    "    \n",
    "        if (abs(val - val_old) / val) < tol:\n",
    "            return val, vec\n",
    "        val_old = val\n",
    "        \n",
    "    return val, vec"
   ]
  },
  {
   "cell_type": "code",
   "execution_count": 266,
   "metadata": {
    "ExecuteTime": {
     "end_time": "2019-04-28T12:48:30.586230Z",
     "start_time": "2019-04-28T12:48:30.569404Z"
    }
   },
   "outputs": [
    {
     "name": "stdout",
     "output_type": "stream",
     "text": [
      "Covariance matrix: \n",
      " (120, 120)\n",
      "(120, 120) (120,)\n"
     ]
    }
   ],
   "source": [
    "def get_k_eigenfaces(C, k):\n",
    "    n_iters = 200000\n",
    "\n",
    "    print (\"Covariance matrix: \\n\", C.shape)\n",
    "    \n",
    "    return power_iteration(C, n_iters)\n",
    "\n",
    "\n",
    "\n",
    "eigs = get_k_eigenfaces(C, 10)\n",
    "\n",
    "from numpy.linalg import eig\n",
    "eigs2 = eig(C)"
   ]
  },
  {
   "cell_type": "code",
   "execution_count": 267,
   "metadata": {
    "ExecuteTime": {
     "end_time": "2019-04-28T12:48:30.607549Z",
     "start_time": "2019-04-28T12:48:30.588999Z"
    }
   },
   "outputs": [
    {
     "name": "stdout",
     "output_type": "stream",
     "text": [
      "73981.66778586137 73981.66778745434\n",
      "[ 0.04424954  0.04424954  0.00271633 -0.00499563 -0.08743294  0.02681827\n",
      " -0.00612335 -0.12028257 -0.02817151  0.05640994  0.0742988   0.00994993\n",
      "  0.05202664  0.06008918  0.15529152  0.11223194  0.05323321  0.00575251\n",
      " -0.00908416  0.08055479  0.09848534 -0.00109021  0.11427181 -0.00179565\n",
      "  0.07541636  0.21688206  0.19415796  0.1174664   0.00612675 -0.09891094\n",
      " -0.04678888  0.09561921 -0.15200251  0.18706501 -0.07727963 -0.20369078\n",
      "  0.02843679 -0.00514859 -0.05698151 -0.09422385  0.06513288  0.20206973\n",
      "  0.19630238  0.06735821  0.10489632  0.0730393   0.07684178  0.00579856\n",
      "  0.0316936  -0.17112465  0.07591828  0.0439009  -0.0630419   0.04022498\n",
      "  0.08061924 -0.02386734  0.04644189  0.14809593 -0.05137583 -0.17804439\n",
      "  0.09669523  0.03274604  0.16334502  0.03738869  0.06639065 -0.04519773\n",
      "  0.04114111 -0.01513643  0.03720526 -0.10798239  0.06783703  0.08643384\n",
      "  0.13306454  0.08448081  0.06425921  0.05342932  0.07163914  0.02073015\n",
      "  0.03349229  0.02262216 -0.07267431  0.17617081 -0.05691109  0.01687745\n",
      "  0.09889232 -0.0055876   0.06866208  0.00294087 -0.2181085   0.0035205\n",
      "  0.10855476  0.09590558  0.07508054  0.08818092  0.06427104  0.00951104\n",
      "  0.01834084  0.04589503  0.11410786  0.05068309  0.04726773  0.04371478\n",
      "  0.13695492  0.03914012 -0.05209794  0.17376275  0.0904681   0.16551585\n",
      " -0.05575031 -0.01629245  0.14257251  0.04661124  0.06523156  0.07576278\n",
      " -0.00461226  0.06060012  0.02288615  0.04957014 -0.0067775   0.14085714] 1.0\n",
      "[-4.42490901e-02  9.07236152e-02  2.03517251e-02  2.39438315e-02\n",
      " -1.07251596e-01 -8.15130279e-02 -9.74601233e-03 -4.16273506e-02\n",
      " -3.98621276e-02  4.38781274e-02 -5.63848291e-02 -1.30004584e-01\n",
      "  4.96164184e-02 -1.08930662e-02  1.31408601e-01 -2.49144665e-02\n",
      "  8.79804281e-03  5.39342288e-02 -1.49397293e-02  1.24069419e-05\n",
      "  5.03077491e-02 -6.27991157e-03 -4.17127290e-02  1.06200091e-01\n",
      "  3.66181556e-02 -6.04872477e-03  1.10230883e-01 -9.45113083e-02\n",
      " -2.75837735e-02 -2.75758876e-03 -4.61093281e-02 -8.34461607e-02\n",
      " -9.37560598e-02  9.74568583e-02  1.94036060e-01  5.10483002e-02\n",
      "  1.16327994e-02 -1.58157460e-01 -2.35987489e-01  7.07106781e-01\n",
      " -2.10131958e-02  1.72716979e-02  6.18625017e-02  3.79447416e-04\n",
      " -5.03466300e-05 -1.66453955e-03  4.88296877e-04  1.06480494e-03\n",
      " -1.04577697e-01  8.78182342e-02 -2.91136604e-02  1.63934277e-03\n",
      "  5.27216950e-03  1.45393982e-02 -4.87433056e-02 -1.47984141e-01\n",
      " -1.07222021e-01 -8.63247763e-02 -4.20886703e-02  3.15575238e-02\n",
      "  5.39812199e-02  9.57885748e-03 -1.02656111e-02 -5.28406549e-02\n",
      "  7.43778325e-02 -8.16935561e-02  1.11660168e-01  1.68527793e-02\n",
      "  2.71966679e-02  4.84902490e-02  8.01359783e-02 -2.14169992e-02\n",
      " -1.00851198e-03  1.46248185e-02 -2.84112823e-02 -5.14204457e-02\n",
      " -6.46782199e-02 -3.76699142e-02 -4.43176719e-02 -3.63717157e-02\n",
      " -6.66330426e-03 -1.42158985e-02 -2.13578618e-02 -5.38372530e-02\n",
      " -3.27542360e-02  1.76497111e-02  6.99398709e-03 -3.02416214e-02\n",
      "  6.86051088e-02 -5.12862719e-02 -4.32970708e-02 -1.40934229e-02\n",
      "  9.24403233e-02 -6.65901061e-02 -1.08830155e-01 -9.14113945e-02\n",
      "  4.05138564e-02  8.49919594e-02  2.77455275e-02 -3.29229087e-02\n",
      "  1.58286360e-01 -6.22724865e-02 -3.42367991e-02  5.64863568e-02\n",
      " -5.75130908e-02  3.38019407e-02 -2.19482720e-02  4.90508086e-02\n",
      " -4.84629253e-02 -2.49512433e-02  5.06112877e-02 -1.61963896e-02\n",
      "  3.56693903e-02 -6.47905187e-03  2.93274686e-03  5.52554436e-02\n",
      "  1.74034376e-02 -1.51925923e-02 -9.32297997e-04 -2.36456759e-04] 1.0000000000000056\n"
     ]
    }
   ],
   "source": [
    "print(eigs[0], eigs2[0][0])\n",
    "print(eigs[1], np.dot(np.transpose(eigs[1]), eigs[1]))\n",
    "print(eigs2[1][0], np.dot(np.transpose(eigs2[1][0]), eigs2[1][0]))\n",
    "\n",
    "row_feature_vectors = eigs[1]\n",
    "eigenfaces = row_feature_vectors.T.dot(X_centered.T)\n",
    "\n",
    "row_feature_vectors2 = eigs2[1][0]\n",
    "# print(row_feature_vectors - row_feature_vectors2)\n",
    "eigenfaces2 = row_feature_vectors2.T.dot(X_centered.T)\n",
    "# print(P.T.shape)"
   ]
  },
  {
   "cell_type": "code",
   "execution_count": 268,
   "metadata": {
    "ExecuteTime": {
     "end_time": "2019-04-28T12:48:30.825401Z",
     "start_time": "2019-04-28T12:48:30.610058Z"
    }
   },
   "outputs": [
    {
     "name": "stderr",
     "output_type": "stream",
     "text": [
      "Clipping input data to the valid range for imshow with RGB data ([0..1] for floats or [0..255] for integers).\n",
      "Clipping input data to the valid range for imshow with RGB data ([0..1] for floats or [0..255] for integers).\n"
     ]
    },
    {
     "name": "stdout",
     "output_type": "stream",
     "text": [
      "(1, 100, 100, 3)\n",
      "(1, 100, 100, 3)\n",
      "(1, 100, 100, 3)\n"
     ]
    },
    {
     "data": {
      "image/png": "[encoded data removed]",
      "text/plain": [
       "<Figure size 432x288 with 3 Axes>"
      ]
     },
     "metadata": {
      "needs_background": "light"
     },
     "output_type": "display_data"
    }
   ],
   "source": [
    "M = (X, eigenfaces, eigenfaces2)\n",
    "stack_images(M, k = 1, imgshape=np.array([100, 100, 3]))\n",
    "\n",
    "\n",
    "\n",
    "# print(X_centered.shape, row_feature_vectors.shape)\n",
    "# X_reduced = np.dot(row_feature_vectors.transpose(), X_centered)\n",
    "# X_reduced.shape\n",
    "# M = (SVDs[i*2], SVDs[i*2+1])\n",
    "#     stack_images(M, k = 1, imgshape=np.array([100, 100, 3]))\n",
    "\n",
    "\n",
    "# ===================================================="
   ]
  },
  {
   "cell_type": "code",
   "execution_count": 269,
   "metadata": {
    "ExecuteTime": {
     "end_time": "2019-04-28T12:48:30.834872Z",
     "start_time": "2019-04-28T12:48:30.827717Z"
    }
   },
   "outputs": [],
   "source": [
    "def get_k_eigenfaces2(M, k):\n",
    "    M_centered = M - mean(M.T, axis=1)\n",
    "    C = np.cov(X_centered.T)\n",
    "    \n",
    "    eigenfaces = []\n",
    "    row_feature_vectors = np.zeros((k , M.shape[1]))\n",
    "#     print(row_feature_vectors.shape)\n",
    "    n_iters = 200000\n",
    "    print(C.shape)\n",
    "    for i in range(k):\n",
    "        eigs = power_iteration(C, n_iters)\n",
    "        eval = eigs[0]\n",
    "        evec = eigs[1]\n",
    "        \n",
    "        row_feature_vectors[i] = evec\n",
    "        \n",
    "        eigenface = (M_centered).dot(row_feature_vectors.T)\n",
    "        eigenfaces.append(eigenface)\n",
    "        \n",
    "        temp = eval*np.dot(evec.T, evec)\n",
    "        \n",
    "#         print(C)\n",
    "        C = C - temp\n",
    "#         print('-------')\n",
    "#         print(C)\n",
    "    \n",
    "    return eigenfaces\n",
    "    "
   ]
  },
  {
   "cell_type": "code",
   "execution_count": null,
   "metadata": {
    "ExecuteTime": {
     "start_time": "2019-04-27T15:51:25.499Z"
    }
   },
   "outputs": [
    {
     "name": "stdout",
     "output_type": "stream",
     "text": [
      "Zero-mean form: \n",
      " (30000, 120)\n",
      "Covariance matrix: \n",
      " (30000, 30000)\n"
     ]
    }
   ],
   "source": [
    "def custom_PCA(A, N_dimension, debug = False):\n",
    "\n",
    "    A_centered = np.copy(A)\n",
    "    for i in range(0, A.shape[0]):\n",
    "        row = A[i::A.shape[1]]\n",
    "        A_centered[i::A.shape[1]] = row - row.mean()\n",
    "    \n",
    "    if debug == True:\n",
    "        print(\"Zero-mean form: \\n\", A_centered.shape)\n",
    "\n",
    "    covmat = np.cov(A_centered)\n",
    "    print (\"Covariance matrix: \\n\", covmat.shape)\n",
    "\n",
    "    e_values, e_vecs = np.linalg.eig(covmat)\n",
    "    \n",
    "    idx = e_values.argsort()[::-1]   \n",
    "    e_values = e_values[idx]\n",
    "    e_vecs = e_vecs[:,idx]\n",
    "    print (\"All eigen-values: \\n\", e_values)\n",
    "    print (\"All eigen-vectors: \\n\", e_vecs)\n",
    "\n",
    "    row_feature_vectors = e_vecs[:,:N_dimension]\n",
    "    print (\"Row feature vectors: \\n\", row_feature_vectors.shapee)\n",
    "\n",
    "    A_reduced = np.dot(row_feature_vectors.transpose(), A_centered)\n",
    "    print (\"PCA-reduced matrix: \\n\", A_reduced.shape) \n",
    "    print(\"Sum of distances:\", np.sqrt(np.sum(np.power(A_reduced, 2))))\n",
    "    \n",
    "    print (\"How much of the variance in the data is explained by reduced A: \", e_values[0:N_dimension].sum()/e_values.sum())    \n",
    "    \n",
    "    if debug == True:     \n",
    "        print(\"----------Debug-------------\")\n",
    "        \n",
    "#         plt.plot(A_centered[0], A_centered[1], 'o') # plotting t, a separately \n",
    "#         plt.plot(A_reduced, 'x')\n",
    "#         print(e_vecs[:,N_dimension:][0], e_vecs[:,N_dimension:][1])\n",
    "#         x1, y1 = [0, 0], [row_feature_vectors[0]*5, row_feature_vectors[1]*5]\n",
    "#         x2, y2 = [0, 0], [e_vecs[:,N_dimension:][0]*20, e_vecs[:,N_dimension:][1]*20]\n",
    "#         plt.plot(x1,y1, marker = '_')\n",
    "        \n",
    "#         means = np.arange(0)\n",
    "#         for row in A:\n",
    "#             means = np.append(means, row.mean())\n",
    "            \n",
    "#         for n in range(0,5):\n",
    "#             A_restored = np.dot(A_reduced[n], row_feature_vectors) + m\n",
    "#             print ('Restored: ', A_restored)\n",
    "#             print ('Original: ', A_original[:,n])\n",
    "\n",
    "        from sklearn.decomposition import PCA\n",
    "        pca = PCA(n_components = N_dimension)\n",
    "        A_PCAreduced = pca.fit_transform(A.transpose())\n",
    "        print(\"pca.explained_variance_ = \", pca.explained_variance_)\n",
    "#         print (\"A_PCAreduced: \\n\", A_PCAreduced)\n",
    "#         print ('Diffs: \\n', A_reduced - A_PCAreduced.transpose())\n",
    "        print ('Max diff: \\n', np.amax(np.absolute(A_reduced) - np.absolute(A_PCAreduced.transpose())))\n",
    "\n",
    "custom_PCA(X, 1, True)"
   ]
  },
  {
   "cell_type": "code",
   "execution_count": 123,
   "metadata": {
    "ExecuteTime": {
     "end_time": "2019-04-28T11:42:17.465356Z",
     "start_time": "2019-04-28T11:42:17.460660Z"
    }
   },
   "outputs": [
    {
     "data": {
      "text/plain": [
       "(30000, 120)"
      ]
     },
     "execution_count": 123,
     "metadata": {},
     "output_type": "execute_result"
    }
   ],
   "source": [
    "X.shape"
   ]
  },
  {
   "cell_type": "code",
   "execution_count": 136,
   "metadata": {
    "ExecuteTime": {
     "end_time": "2019-04-28T11:47:16.453572Z",
     "start_time": "2019-04-28T11:47:16.145632Z"
    }
   },
   "outputs": [
    {
     "name": "stdout",
     "output_type": "stream",
     "text": [
      "Calculating PCA ...DONE\n",
      "(1, 30000)\n"
     ]
    },
    {
     "ename": "ValueError",
     "evalue": "sequence too large; cannot be greater than 32",
     "output_type": "error",
     "traceback": [
      "\u001b[0;31m---------------------------------------------------------------------------\u001b[0m",
      "\u001b[0;31mValueError\u001b[0m                                Traceback (most recent call last)",
      "\u001b[0;32m<ipython-input-136-0eb97f536512>\u001b[0m in \u001b[0;36m<module>\u001b[0;34m\u001b[0m\n\u001b[1;32m     23\u001b[0m \u001b[0mprint\u001b[0m \u001b[0;34m(\u001b[0m\u001b[0;34m\"DONE\"\u001b[0m\u001b[0;34m)\u001b[0m\u001b[0;34m\u001b[0m\u001b[0;34m\u001b[0m\u001b[0m\n\u001b[1;32m     24\u001b[0m \u001b[0mprint\u001b[0m\u001b[0;34m(\u001b[0m\u001b[0mmean\u001b[0m\u001b[0;34m.\u001b[0m\u001b[0mshape\u001b[0m\u001b[0;34m)\u001b[0m\u001b[0;34m\u001b[0m\u001b[0;34m\u001b[0m\u001b[0m\n\u001b[0;32m---> 25\u001b[0;31m \u001b[0maverageFace\u001b[0m \u001b[0;34m=\u001b[0m \u001b[0mmean\u001b[0m\u001b[0;34m.\u001b[0m\u001b[0mreshape\u001b[0m\u001b[0;34m(\u001b[0m\u001b[0msz\u001b[0m\u001b[0;34m)\u001b[0m\u001b[0;34m\u001b[0m\u001b[0;34m\u001b[0m\u001b[0m\n\u001b[0m\u001b[1;32m     26\u001b[0m \u001b[0;34m\u001b[0m\u001b[0m\n\u001b[1;32m     27\u001b[0m \u001b[0meigenFaces\u001b[0m \u001b[0;34m=\u001b[0m \u001b[0;34m[\u001b[0m\u001b[0;34m]\u001b[0m\u001b[0;34m;\u001b[0m\u001b[0;34m\u001b[0m\u001b[0;34m\u001b[0m\u001b[0m\n",
      "\u001b[0;31mValueError\u001b[0m: sequence too large; cannot be greater than 32"
     ]
    }
   ],
   "source": [
    "# Number of EigenFaces\n",
    "NUM_EIGEN_FACES = 10\n",
    "\n",
    "# Maximum weight\n",
    "MAX_SLIDER_VALUE = 255\n",
    " \n",
    "#     # Directory containing images\n",
    "#     dirName = \"images\"\n",
    " \n",
    "#     # Read images\n",
    "#     images = readImages(dirName)\n",
    "     \n",
    "# Size of images\n",
    "# sz = images[0].shape\n",
    "sz = np.zeros((30000, 1))\n",
    "\n",
    "# Create data matrix for PCA.\n",
    "data = X\n",
    "\n",
    "# Compute the eigenvectors from the stack of images created\n",
    "print(\"Calculating PCA \", end=\"...\")\n",
    "mean, eigenVectors = cv2.PCACompute(data.T, mean=None, maxComponents=NUM_EIGEN_FACES)\n",
    "print (\"DONE\")\n",
    "print(mean.shape)\n",
    "averageFace = mean.reshape(sz)\n",
    "\n",
    "eigenFaces = []; \n",
    "\n",
    "for eigenVector in eigenVectors:\n",
    "    eigenFace = eigenVector.reshape(sz)\n",
    "    eigenFaces.append(eigenFace)\n",
    "\n",
    "# Create window for displaying Mean Face\n",
    "cv2.namedWindow(\"Result\", cv2.WINDOW_AUTOSIZE)\n",
    "\n",
    "# Display result at 2x size\n",
    "output = cv2.resize(averageFace, (0,0), fx=2, fy=2)\n",
    "cv2.imshow(\"Result\", output)\n",
    "\n",
    "# Create Window for trackbars\n",
    "cv2.namedWindow(\"Trackbars\", cv2.WINDOW_AUTOSIZE)\n",
    "\n",
    "sliderValues = []\n",
    "\n",
    "# Create Trackbars\n",
    "for i in xrange(0, NUM_EIGEN_FACES):\n",
    "    sliderValues.append(MAX_SLIDER_VALUE/2)\n",
    "    cv2.createTrackbar( \"Weight\" + str(i), \"Trackbars\", MAX_SLIDER_VALUE/2, MAX_SLIDER_VALUE, createNewFace)\n",
    "\n",
    "# You can reset the sliders by clicking on the mean image.\n",
    "cv2.setMouseCallback(\"Result\", resetSliderValues);\n",
    "\n",
    "print('''Usage:\n",
    "Change the weights using the sliders\n",
    "Click on the result window to reset sliders\n",
    "Hit ESC to terminate program.''')\n",
    "\n",
    "cv2.waitKey(0)\n",
    "cv2.destroyAllWindows()"
   ]
  },
  {
   "cell_type": "markdown",
   "metadata": {},
   "source": [
    "Visualize 10 eigenfaces learned by variance maximization. Compare them with SVG generated eigenfaces. "
   ]
  },
  {
   "cell_type": "code",
   "execution_count": null,
   "metadata": {
    "ExecuteTime": {
     "end_time": "2019-04-27T15:18:23.923559Z",
     "start_time": "2019-04-27T15:18:01.223Z"
    }
   },
   "outputs": [],
   "source": [
    "# =============== TODO: Your code here ===============\n",
    "# Visualize 10 eigenfaces learned by variance maximization. Compare them with SVG generated eigenfaces.\n",
    "\n",
    "\n",
    "# ===================================================="
   ]
  }
 ],
 "metadata": {
  "kernelspec": {
   "display_name": "Python 3",
   "language": "python",
   "name": "python3"
  },
  "language_info": {
   "codemirror_mode": {
    "name": "ipython",
    "version": 3
   },
   "file_extension": ".py",
   "mimetype": "text/x-python",
   "name": "python",
   "nbconvert_exporter": "python",
   "pygments_lexer": "ipython3",
   "version": "3.7.3"
  },
  "toc": {
   "base_numbering": 1,
   "nav_menu": {},
   "number_sections": true,
   "sideBar": true,
   "skip_h1_title": false,
   "title_cell": "Table of Contents",
   "title_sidebar": "Contents",
   "toc_cell": false,
   "toc_position": {},
   "toc_section_display": true,
   "toc_window_display": false
  },
  "varInspector": {
   "cols": {
    "lenName": 16,
    "lenType": 16,
    "lenVar": 40
   },
   "kernels_config": {
    "python": {
     "delete_cmd_postfix": "",
     "delete_cmd_prefix": "del ",
     "library": "var_list.py",
     "varRefreshCmd": "print(var_dic_list())"
    },
    "r": {
     "delete_cmd_postfix": ") ",
     "delete_cmd_prefix": "rm(",
     "library": "var_list.r",
     "varRefreshCmd": "cat(var_dic_list()) "
    }
   },
   "types_to_exclude": [
    "module",
    "function",
    "builtin_function_or_method",
    "instance",
    "_Feature"
   ],
   "window_display": false
  }
 },
 "nbformat": 4,
 "nbformat_minor": 2
}
