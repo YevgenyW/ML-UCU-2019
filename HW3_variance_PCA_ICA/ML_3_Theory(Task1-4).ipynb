{
 "cells": [
  {
   "cell_type": "markdown",
   "metadata": {},
   "source": [
    "Machine Learning\n",
    "<br>Assignment 2"
   ]
  },
  {
   "cell_type": "markdown",
   "metadata": {},
   "source": [
    "# Властивості VC розмірності"
   ]
  },
  {
   "cell_type": "markdown",
   "metadata": {},
   "source": [
    "d. [5 балів] Нехай для двох класів гіпотез $H_1$ та $H_2$ виконується $H_1\\subseteq H_2$.\n",
    "<br> Правильно чи ні: $VC(H_1) \\le VC(H_2).$\n",
    "<br> Let's define VC-dimension for $H_1$ as $d_1$: $VC(H_1) = d_1$.\n",
    "<br> According to definition hypothesis $h_1 \\in H_1$ realise $d_1$ labels from some set S.\n",
    "If $H_1\\subseteq H_2$ then hypothesis $h_2 \\in H_2$ also realise at least $d_1$ labels, in other words we can write:\n",
    "$$VC(H_2) \\ge d_1 = VC(H_1)$$\n",
    "or\n",
    "$$ VC(H_1) = d_1 \\le VC(H_2).$$"
   ]
  },
  {
   "cell_type": "markdown",
   "metadata": {
    "ExecuteTime": {
     "end_time": "2019-04-23T07:07:01.382674Z",
     "start_time": "2019-04-23T07:07:01.377754Z"
    }
   },
   "source": [
    "e. [5 балів] Нехай $H_1 = H_2\\cup(h_1,...,h_k)$ - $H_1$ - об’єднання $H_2$ та $k$ додаткових гіпотез $h_i$. \n",
    "<br>Правильно чи ні: $VC(H_1)\\le VC(H_2) + k$\n",
    "<br> $k = 1:$\n",
    "<br> \n"
   ]
  },
  {
   "cell_type": "code",
   "execution_count": null,
   "metadata": {},
   "outputs": [],
   "source": []
  },
  {
   "cell_type": "code",
   "execution_count": null,
   "metadata": {},
   "outputs": [],
   "source": []
  },
  {
   "cell_type": "code",
   "execution_count": null,
   "metadata": {},
   "outputs": [],
   "source": []
  }
 ],
 "metadata": {
  "kernelspec": {
   "display_name": "Python 3",
   "language": "python",
   "name": "python3"
  },
  "language_info": {
   "codemirror_mode": {
    "name": "ipython",
    "version": 3
   },
   "file_extension": ".py",
   "mimetype": "text/x-python",
   "name": "python",
   "nbconvert_exporter": "python",
   "pygments_lexer": "ipython3",
   "version": "3.7.3"
  },
  "toc": {
   "base_numbering": 1,
   "nav_menu": {},
   "number_sections": true,
   "sideBar": true,
   "skip_h1_title": false,
   "title_cell": "Table of Contents",
   "title_sidebar": "Contents",
   "toc_cell": false,
   "toc_position": {},
   "toc_section_display": true,
   "toc_window_display": false
  },
  "varInspector": {
   "cols": {
    "lenName": 16,
    "lenType": 16,
    "lenVar": 40
   },
   "kernels_config": {
    "python": {
     "delete_cmd_postfix": "",
     "delete_cmd_prefix": "del ",
     "library": "var_list.py",
     "varRefreshCmd": "print(var_dic_list())"
    },
    "r": {
     "delete_cmd_postfix": ") ",
     "delete_cmd_prefix": "rm(",
     "library": "var_list.r",
     "varRefreshCmd": "cat(var_dic_list()) "
    }
   },
   "types_to_exclude": [
    "module",
    "function",
    "builtin_function_or_method",
    "instance",
    "_Feature"
   ],
   "window_display": false
  }
 },
 "nbformat": 4,
 "nbformat_minor": 2
}
