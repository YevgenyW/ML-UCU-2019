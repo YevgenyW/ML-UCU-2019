{
 "cells": [
  {
   "cell_type": "markdown",
   "metadata": {},
   "source": [
    "# Datacenter anomaly detection"
   ]
  },
  {
   "cell_type": "markdown",
   "metadata": {},
   "source": [
    "In this problem, you are going to build a model, which finds anomalies in the behavior of virtual machines in the datacenter.\n",
    "\n",
    "We have collected for you a number of logs on VMs (actually, the dataset is a real data from a real datacenter). The logs are CPU load and memory load (RAM) for every VM. Your goal is to build a system detecting abnormal behavior of the VMs so that the system administrator can notice them and pay attention.\n",
    "\n",
    "The data and Jupyter notebook file with some pre-defined code for you can be found in the folder datacenter.\n",
    "\n",
    "Take a look at <b>system-load.csv</b>. This is a raw data file, partially preprocessed for you. You can open in in any text editor or table editor such as Excel. CSV is one of the most popular data format files, you will often use in in your study and at work. It is worth to investigate how it looks in details."
   ]
  },
  {
   "cell_type": "code",
   "execution_count": 1664,
   "metadata": {
    "ExecuteTime": {
     "end_time": "2019-04-23T06:33:29.226159Z",
     "start_time": "2019-04-23T06:33:29.222779Z"
    }
   },
   "outputs": [],
   "source": [
    "import numpy as np\n",
    "import pandas as pd\n",
    "import matplotlib.pyplot as plt"
   ]
  },
  {
   "cell_type": "code",
   "execution_count": 1665,
   "metadata": {
    "ExecuteTime": {
     "end_time": "2019-04-23T06:33:29.231840Z",
     "start_time": "2019-04-23T06:33:29.228743Z"
    }
   },
   "outputs": [],
   "source": [
    "from matplotlib.patches import Ellipse"
   ]
  },
  {
   "cell_type": "code",
   "execution_count": 1666,
   "metadata": {
    "ExecuteTime": {
     "end_time": "2019-04-23T06:33:29.238193Z",
     "start_time": "2019-04-23T06:33:29.234120Z"
    }
   },
   "outputs": [],
   "source": [
    "%matplotlib inline"
   ]
  },
  {
   "cell_type": "markdown",
   "metadata": {},
   "source": [
    "## Initialization"
   ]
  },
  {
   "cell_type": "markdown",
   "metadata": {},
   "source": [
    "Log file with VM usage statistics."
   ]
  },
  {
   "cell_type": "code",
   "execution_count": 1667,
   "metadata": {
    "ExecuteTime": {
     "end_time": "2019-04-23T06:33:29.243225Z",
     "start_time": "2019-04-23T06:33:29.240415Z"
    }
   },
   "outputs": [],
   "source": [
    "input_filename = \"system-load.csv\""
   ]
  },
  {
   "cell_type": "markdown",
   "metadata": {},
   "source": [
    "Number of Gaussians."
   ]
  },
  {
   "cell_type": "code",
   "execution_count": 1668,
   "metadata": {
    "ExecuteTime": {
     "end_time": "2019-04-23T06:33:29.247664Z",
     "start_time": "2019-04-23T06:33:29.245009Z"
    }
   },
   "outputs": [],
   "source": [
    "num_gaussians = 3"
   ]
  },
  {
   "cell_type": "markdown",
   "metadata": {},
   "source": [
    "Convergence threshold."
   ]
  },
  {
   "cell_type": "code",
   "execution_count": 1669,
   "metadata": {
    "ExecuteTime": {
     "end_time": "2019-04-23T06:33:29.251967Z",
     "start_time": "2019-04-23T06:33:29.249279Z"
    }
   },
   "outputs": [],
   "source": [
    "convergence_eps = 0.01"
   ]
  },
  {
   "cell_type": "markdown",
   "metadata": {},
   "source": [
    "Random seed."
   ]
  },
  {
   "cell_type": "code",
   "execution_count": 1670,
   "metadata": {
    "ExecuteTime": {
     "end_time": "2019-04-23T06:33:29.256473Z",
     "start_time": "2019-04-23T06:33:29.253750Z"
    }
   },
   "outputs": [],
   "source": [
    "random_seed = 42"
   ]
  },
  {
   "cell_type": "markdown",
   "metadata": {},
   "source": [
    "## Loading the data"
   ]
  },
  {
   "cell_type": "code",
   "execution_count": 1671,
   "metadata": {
    "ExecuteTime": {
     "end_time": "2019-04-23T06:33:29.269347Z",
     "start_time": "2019-04-23T06:33:29.259347Z"
    }
   },
   "outputs": [
    {
     "data": {
      "text/html": [
       "<div>\n",
       "<style scoped>\n",
       "    .dataframe tbody tr th:only-of-type {\n",
       "        vertical-align: middle;\n",
       "    }\n",
       "\n",
       "    .dataframe tbody tr th {\n",
       "        vertical-align: top;\n",
       "    }\n",
       "\n",
       "    .dataframe thead th {\n",
       "        text-align: right;\n",
       "    }\n",
       "</style>\n",
       "<table border=\"1\" class=\"dataframe\">\n",
       "  <thead>\n",
       "    <tr style=\"text-align: right;\">\n",
       "      <th></th>\n",
       "      <th>cpu_load</th>\n",
       "      <th>ram_usage</th>\n",
       "    </tr>\n",
       "  </thead>\n",
       "  <tbody>\n",
       "    <tr>\n",
       "      <th>0</th>\n",
       "      <td>1.29</td>\n",
       "      <td>290.0</td>\n",
       "    </tr>\n",
       "    <tr>\n",
       "      <th>1</th>\n",
       "      <td>2.66</td>\n",
       "      <td>332.0</td>\n",
       "    </tr>\n",
       "    <tr>\n",
       "      <th>2</th>\n",
       "      <td>0.88</td>\n",
       "      <td>372.0</td>\n",
       "    </tr>\n",
       "    <tr>\n",
       "      <th>3</th>\n",
       "      <td>2.57</td>\n",
       "      <td>362.0</td>\n",
       "    </tr>\n",
       "    <tr>\n",
       "      <th>4</th>\n",
       "      <td>2.44</td>\n",
       "      <td>480.0</td>\n",
       "    </tr>\n",
       "  </tbody>\n",
       "</table>\n",
       "</div>"
      ],
      "text/plain": [
       "   cpu_load  ram_usage\n",
       "0      1.29      290.0\n",
       "1      2.66      332.0\n",
       "2      0.88      372.0\n",
       "3      2.57      362.0\n",
       "4      2.44      480.0"
      ]
     },
     "execution_count": 1671,
     "metadata": {},
     "output_type": "execute_result"
    }
   ],
   "source": [
    "df_load = pd.read_csv(input_filename)\n",
    "df_load.head()"
   ]
  },
  {
   "cell_type": "code",
   "execution_count": 1672,
   "metadata": {
    "ExecuteTime": {
     "end_time": "2019-04-23T06:33:29.274270Z",
     "start_time": "2019-04-23T06:33:29.271846Z"
    }
   },
   "outputs": [],
   "source": [
    "X = df_load.values"
   ]
  },
  {
   "cell_type": "markdown",
   "metadata": {},
   "source": [
    "Normalizing the data to the range [0..1]."
   ]
  },
  {
   "cell_type": "code",
   "execution_count": 1673,
   "metadata": {
    "ExecuteTime": {
     "end_time": "2019-04-23T06:33:29.279063Z",
     "start_time": "2019-04-23T06:33:29.275875Z"
    }
   },
   "outputs": [],
   "source": [
    "X = (X - np.min(X, axis=0)) / (np.max(X, axis=0) - np.min(X, axis=0))"
   ]
  },
  {
   "cell_type": "code",
   "execution_count": 1674,
   "metadata": {
    "ExecuteTime": {
     "end_time": "2019-04-23T06:33:29.284156Z",
     "start_time": "2019-04-23T06:33:29.280792Z"
    }
   },
   "outputs": [
    {
     "name": "stdout",
     "output_type": "stream",
     "text": [
      "936 2\n"
     ]
    }
   ],
   "source": [
    "m, n = X.shape\n",
    "print(m, n)"
   ]
  },
  {
   "cell_type": "code",
   "execution_count": 1675,
   "metadata": {
    "ExecuteTime": {
     "end_time": "2019-04-23T06:33:29.433412Z",
     "start_time": "2019-04-23T06:33:29.286246Z"
    }
   },
   "outputs": [
    {
     "data": {
      "image/png": "[encoded data removed]",
      "text/plain": [
       "<Figure size 432x432 with 1 Axes>"
      ]
     },
     "metadata": {
      "needs_background": "light"
     },
     "output_type": "display_data"
    }
   ],
   "source": [
    "plt.figure(figsize=(6, 6))\n",
    "plt.plot(X.T[0], X.T[1], \"o\", c=\"#144C59\", alpha=0.5, markersize=3)\n",
    "\n",
    "plt.xlabel(\"CPU usage\")\n",
    "plt.ylabel(\"RAM usage\")\n",
    "plt.show()"
   ]
  },
  {
   "cell_type": "markdown",
   "metadata": {},
   "source": [
    "## Training miture of Gaussians"
   ]
  },
  {
   "cell_type": "code",
   "execution_count": 1676,
   "metadata": {
    "ExecuteTime": {
     "end_time": "2019-04-23T06:33:29.439242Z",
     "start_time": "2019-04-23T06:33:29.434955Z"
    }
   },
   "outputs": [],
   "source": [
    "np.random.seed(random_seed)"
   ]
  },
  {
   "cell_type": "markdown",
   "metadata": {},
   "source": [
    "Initializing Gaussians at random data points."
   ]
  },
  {
   "cell_type": "code",
   "execution_count": 1677,
   "metadata": {
    "ExecuteTime": {
     "end_time": "2019-04-23T06:33:29.446312Z",
     "start_time": "2019-04-23T06:33:29.441235Z"
    }
   },
   "outputs": [
    {
     "data": {
      "text/plain": [
       "array([[0.75709779, 0.40595903],\n",
       "       [0.10725552, 0.26629423],\n",
       "       [0.45583596, 0.08193669]])"
      ]
     },
     "execution_count": 1677,
     "metadata": {},
     "output_type": "execute_result"
    }
   ],
   "source": [
    "means = X[np.random.choice(m, size=num_gaussians, replace=False)]\n",
    "means"
   ]
  },
  {
   "cell_type": "code",
   "execution_count": 1678,
   "metadata": {
    "ExecuteTime": {
     "end_time": "2019-04-23T06:33:29.453638Z",
     "start_time": "2019-04-23T06:33:29.448106Z"
    }
   },
   "outputs": [
    {
     "data": {
      "text/plain": [
       "array([[[1., 0.],\n",
       "        [0., 1.]],\n",
       "\n",
       "       [[1., 0.],\n",
       "        [0., 1.]],\n",
       "\n",
       "       [[1., 0.],\n",
       "        [0., 1.]]])"
      ]
     },
     "execution_count": 1678,
     "metadata": {},
     "output_type": "execute_result"
    }
   ],
   "source": [
    "covariances = np.ones((num_gaussians, n, n)) * np.identity(n)\n",
    "covariances"
   ]
  },
  {
   "cell_type": "markdown",
   "metadata": {},
   "source": [
    "Initializing source probability for every Gaussian."
   ]
  },
  {
   "cell_type": "code",
   "execution_count": 1679,
   "metadata": {
    "ExecuteTime": {
     "end_time": "2019-04-23T06:33:29.459873Z",
     "start_time": "2019-04-23T06:33:29.455404Z"
    }
   },
   "outputs": [
    {
     "data": {
      "text/plain": [
       "array([0.33333333, 0.33333333, 0.33333333])"
      ]
     },
     "execution_count": 1679,
     "metadata": {},
     "output_type": "execute_result"
    }
   ],
   "source": [
    "phis = np.ones(num_gaussians) / num_gaussians\n",
    "phis"
   ]
  },
  {
   "cell_type": "markdown",
   "metadata": {},
   "source": [
    "Initializing correspondence probability matrix for every point."
   ]
  },
  {
   "cell_type": "code",
   "execution_count": 1680,
   "metadata": {
    "ExecuteTime": {
     "end_time": "2019-04-23T06:33:29.467487Z",
     "start_time": "2019-04-23T06:33:29.462090Z"
    }
   },
   "outputs": [
    {
     "data": {
      "text/plain": [
       "(3, 936)"
      ]
     },
     "execution_count": 1680,
     "metadata": {},
     "output_type": "execute_result"
    }
   ],
   "source": [
    "W = np.zeros((num_gaussians, m))\n",
    "W.shape"
   ]
  },
  {
   "cell_type": "markdown",
   "metadata": {},
   "source": [
    "Implement multivariate Gaussian PDF."
   ]
  },
  {
   "cell_type": "code",
   "execution_count": 1681,
   "metadata": {
    "ExecuteTime": {
     "end_time": "2019-04-23T06:33:29.472871Z",
     "start_time": "2019-04-23T06:33:29.469276Z"
    }
   },
   "outputs": [],
   "source": [
    "from scipy.stats import multivariate_normal\n",
    "\n",
    "def multivariate_gaussian_pdf(X, mu, sigma):\n",
    "    # =============== TODO: Your code here ===============\n",
    "    # Compute the probability density function for the multivariate normal distribution.\n",
    "    # NOTE: this function should also work when X is a 2D matrix (m x n).\n",
    "    \n",
    "    return multivariate_normal.pdf(x=X, mean=mu, cov=sigma)\n",
    "    # ===================================================="
   ]
  },
  {
   "cell_type": "markdown",
   "metadata": {},
   "source": [
    "Implement E step of EM algorithm."
   ]
  },
  {
   "cell_type": "code",
   "execution_count": 1682,
   "metadata": {
    "ExecuteTime": {
     "end_time": "2019-04-23T06:33:29.481106Z",
     "start_time": "2019-04-23T06:33:29.476162Z"
    }
   },
   "outputs": [],
   "source": [
    "def e_step(X, means, covariances, phis):\n",
    "    num_gaussians = len(means)\n",
    "    W = np.zeros((num_gaussians, len(X)))\n",
    "    \n",
    "    # =============== TODO: Your code here ===============\n",
    "    # Compute W for each Gaussian.\n",
    "    for i in range(m):\n",
    "        p = np.zeros(num_gaussians)\n",
    "        for k in range(num_gaussians):\n",
    "            p[k] = phis[k] * multivariate_gaussian_pdf(X[i], means[k], covariances[k])\n",
    "            \n",
    "        W[:,i] = p / p.sum()\n",
    "    # ====================================================\n",
    "        \n",
    "    return W"
   ]
  },
  {
   "cell_type": "markdown",
   "metadata": {},
   "source": [
    "Implement M step of EM algorithm."
   ]
  },
  {
   "cell_type": "code",
   "execution_count": 1683,
   "metadata": {
    "ExecuteTime": {
     "end_time": "2019-04-23T06:33:29.490793Z",
     "start_time": "2019-04-23T06:33:29.482888Z"
    }
   },
   "outputs": [],
   "source": [
    "def m_step(X, W):\n",
    "    num_gaussians = len(W)\n",
    "    m, n = X.shape\n",
    "    \n",
    "    phis = np.zeros(num_gaussians)\n",
    "    means = np.zeros((num_gaussians, n))\n",
    "    covariances = np.zeros((num_gaussians, n, n))\n",
    "    \n",
    "    # =============== TODO: Your code here ===============\n",
    "    # Compute phi, mean, and covariance for each Gaussian.\n",
    "    sum_W = np.zeros(num_gaussians)\n",
    "    \n",
    "    for i in range(num_gaussians):\n",
    "        sum_W[i] = W[i].sum()\n",
    "    \n",
    "    phis = sum_W / m\n",
    "    \n",
    "    means = np.matmul(W, X)\n",
    "    for i in range(means.shape[0]):\n",
    "        means[i] = means[i] / sum_W[i]\n",
    "        \n",
    "    for k in range(num_gaussians):\n",
    "        temp = X - means[k]\n",
    "        W_diag = np.matrix(np.diag(W[k,:]))\n",
    "        covariances[k] = (temp.T * W_diag * temp) / sum_W[k]\n",
    "    \n",
    "    # ====================================================\n",
    "    \n",
    "    return phis, means, covariances"
   ]
  },
  {
   "cell_type": "markdown",
   "metadata": {},
   "source": [
    "**Run EM until convergence**"
   ]
  },
  {
   "cell_type": "code",
   "execution_count": 1684,
   "metadata": {
    "ExecuteTime": {
     "end_time": "2019-04-23T06:33:29.496646Z",
     "start_time": "2019-04-23T06:33:29.492442Z"
    }
   },
   "outputs": [],
   "source": [
    "def gmm_log_likelihood(x, phis, means, covariances, num_gaussians):\n",
    "    # =============== TODO: Your code here ===============\n",
    "    # Compute log likelihood of the mixture of Gaussians.\n",
    "    log_p = 0\n",
    "\n",
    "    for i in range(m):\n",
    "        p_i = 0\n",
    "        \n",
    "        for k in range(num_gaussians):\n",
    "            p_i += phis[k] * multivariate_gaussian_pdf(X[i], means[k], covariances[k])\n",
    "        \n",
    "        log_p += np.log(p_i)\n",
    "        \n",
    "    return log_p\n",
    "    # ===================================================="
   ]
  },
  {
   "cell_type": "code",
   "execution_count": 1685,
   "metadata": {
    "ExecuteTime": {
     "end_time": "2019-04-23T06:33:29.501249Z",
     "start_time": "2019-04-23T06:33:29.498462Z"
    }
   },
   "outputs": [],
   "source": [
    "log_likelihoods = []"
   ]
  },
  {
   "cell_type": "code",
   "execution_count": 1686,
   "metadata": {
    "ExecuteTime": {
     "end_time": "2019-04-23T06:33:29.510067Z",
     "start_time": "2019-04-23T06:33:29.506291Z"
    }
   },
   "outputs": [],
   "source": [
    "max_em_iterations = 10"
   ]
  },
  {
   "cell_type": "code",
   "execution_count": 1687,
   "metadata": {
    "ExecuteTime": {
     "end_time": "2019-04-23T06:33:36.513625Z",
     "start_time": "2019-04-23T06:33:29.515288Z"
    },
    "scrolled": false
   },
   "outputs": [
    {
     "name": "stdout",
     "output_type": "stream",
     "text": [
      "Iteration:   0    Log-likelihood: -1792.4863\n",
      "Iteration:   1    Log-likelihood:  1126.1728\n",
      "Iteration:   2    Log-likelihood:  1147.6845\n",
      "Iteration:   3    Log-likelihood:  1196.3866\n",
      "Iteration:   4    Log-likelihood:  1239.3713\n",
      "Iteration:   5    Log-likelihood:  1263.4331\n",
      "Iteration:   6    Log-likelihood:  1274.2707\n",
      "Iteration:   7    Log-likelihood:  1278.8859\n",
      "Iteration:   8    Log-likelihood:  1280.9282\n",
      "Iteration:   9    Log-likelihood:  1281.8832\n"
     ]
    }
   ],
   "source": [
    "for iteration in range(max_em_iterations):\n",
    "    # E-step.\n",
    "    W = e_step(X, means, covariances, phis)\n",
    "    # Compute log-likelihood.\n",
    "    log_likelihood = gmm_log_likelihood(X, phis, means, covariances, num_gaussians)\n",
    "    log_likelihoods.append(log_likelihood)\n",
    "#     print(\"phis\", phis[0] + phis[1] + phis[2])\n",
    "    print(\"Iteration: {0:3d}    Log-likelihood: {1:10.4f}\".format(iteration, log_likelihood))\n",
    "\n",
    "    # M-step.\n",
    "    phis, means, covariances = m_step(X, W)\n",
    "    \n",
    "    # Check log-likelihood for convergence.\n",
    "    if len(log_likelihoods) > 2 and np.abs(log_likelihoods[-1] - log_likelihoods[-2]) < convergence_eps:\n",
    "        print(\"EM has converged. Stopping early.\")\n",
    "        break"
   ]
  },
  {
   "cell_type": "code",
   "execution_count": 1688,
   "metadata": {
    "ExecuteTime": {
     "end_time": "2019-04-23T06:33:36.679393Z",
     "start_time": "2019-04-23T06:33:36.515893Z"
    }
   },
   "outputs": [
    {
     "data": {
      "image/png": "[encoded data removed]",
      "text/plain": [
       "<Figure size 864x432 with 1 Axes>"
      ]
     },
     "metadata": {
      "needs_background": "light"
     },
     "output_type": "display_data"
    }
   ],
   "source": [
    "plt.figure(figsize=(12, 6))\n",
    "plt.plot(log_likelihoods)\n",
    "\n",
    "plt.xlabel(\"# Iteration\")\n",
    "plt.ylabel(\"Log-likelihood\")\n",
    "plt.title(\"Learning Progress\")\n",
    "\n",
    "plt.show()"
   ]
  },
  {
   "cell_type": "markdown",
   "metadata": {},
   "source": [
    "## Visualizing the results"
   ]
  },
  {
   "cell_type": "code",
   "execution_count": 1689,
   "metadata": {
    "ExecuteTime": {
     "end_time": "2019-04-23T06:33:36.689372Z",
     "start_time": "2019-04-23T06:33:36.681047Z"
    }
   },
   "outputs": [],
   "source": [
    "def plot_ellipse(pos, cov, nstd=2, ax=None, **kwargs):\n",
    "    def eigsorted(cov):\n",
    "        vals, vecs = np.linalg.eigh(cov)\n",
    "        order = vals.argsort()[::-1]\n",
    "        return vals[order], vecs[:,order]\n",
    "\n",
    "    if ax is None:\n",
    "        ax = plt.gca()\n",
    "\n",
    "    vals, vecs = eigsorted(cov)\n",
    "    theta = np.degrees(np.arctan2(*vecs[:,0][::-1]))\n",
    "\n",
    "    width, height = 2 * nstd * np.sqrt(abs(vals))\n",
    "    ellip = Ellipse(xy=pos, width=width, height=height, angle=theta, **kwargs)\n",
    "\n",
    "    ax.add_artist(ellip)\n",
    "    return ellip"
   ]
  },
  {
   "cell_type": "code",
   "execution_count": 1690,
   "metadata": {
    "ExecuteTime": {
     "end_time": "2019-04-23T06:33:36.697004Z",
     "start_time": "2019-04-23T06:33:36.691803Z"
    }
   },
   "outputs": [],
   "source": [
    "def plot_gaussians(X, means, covs, ax=None):\n",
    "    n = len(means)\n",
    "    colors = [\"#1F77B4\", \"#2CA02C\", \"#FFBB78\", \"#4C529B\"]\n",
    "    \n",
    "    plt.cla()\n",
    "    plt.plot(X.T[0], X.T[1], \"o\", c=\"#144C59\", alpha=0.5, markersize=3)\n",
    "    \n",
    "    for k in range(num_gaussians):\n",
    "        plot_ellipse(means[k], covs[k], ax=ax, alpha=0.4, color=colors[k % len(colors)])"
   ]
  },
  {
   "cell_type": "code",
   "execution_count": 1691,
   "metadata": {
    "ExecuteTime": {
     "end_time": "2019-04-23T06:33:36.883732Z",
     "start_time": "2019-04-23T06:33:36.699536Z"
    }
   },
   "outputs": [
    {
     "data": {
      "image/png": "[encoded data removed]",
      "text/plain": [
       "<Figure size 576x576 with 1 Axes>"
      ]
     },
     "metadata": {
      "needs_background": "light"
     },
     "output_type": "display_data"
    }
   ],
   "source": [
    "plt.figure(figsize=(8, 8))\n",
    "plot_gaussians(X, means, covariances)\n",
    "\n",
    "plt.xlabel(\"CPU usage\")\n",
    "plt.ylabel(\"RAM usage\")\n",
    "plt.show()"
   ]
  }
 ],
 "metadata": {
  "anaconda-cloud": {},
  "kernelspec": {
   "display_name": "Python 3",
   "language": "python",
   "name": "python3"
  },
  "language_info": {
   "codemirror_mode": {
    "name": "ipython",
    "version": 3
   },
   "file_extension": ".py",
   "mimetype": "text/x-python",
   "name": "python",
   "nbconvert_exporter": "python",
   "pygments_lexer": "ipython3",
   "version": "3.7.3"
  },
  "toc": {
   "base_numbering": 1,
   "nav_menu": {},
   "number_sections": true,
   "sideBar": true,
   "skip_h1_title": false,
   "title_cell": "Table of Contents",
   "title_sidebar": "Contents",
   "toc_cell": false,
   "toc_position": {},
   "toc_section_display": true,
   "toc_window_display": false
  },
  "varInspector": {
   "cols": {
    "lenName": 16,
    "lenType": 16,
    "lenVar": 40
   },
   "kernels_config": {
    "python": {
     "delete_cmd_postfix": "",
     "delete_cmd_prefix": "del ",
     "library": "var_list.py",
     "varRefreshCmd": "print(var_dic_list())"
    },
    "r": {
     "delete_cmd_postfix": ") ",
     "delete_cmd_prefix": "rm(",
     "library": "var_list.r",
     "varRefreshCmd": "cat(var_dic_list()) "
    }
   },
   "position": {
    "height": "144px",
    "left": "770px",
    "right": "20px",
    "top": "121px",
    "width": "350px"
   },
   "types_to_exclude": [
    "module",
    "function",
    "builtin_function_or_method",
    "instance",
    "_Feature"
   ],
   "window_display": false
  }
 },
 "nbformat": 4,
 "nbformat_minor": 1
}
