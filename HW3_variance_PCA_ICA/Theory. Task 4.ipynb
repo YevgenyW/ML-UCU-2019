{
 "cells": [
  {
   "cell_type": "markdown",
   "metadata": {},
   "source": [
    "# ML. Assignment 3. Task 4\n",
    "## Oleh Lukianykhin, Yevhen Pozdniakov"
   ]
  },
  {
   "cell_type": "markdown",
   "metadata": {},
   "source": [
    "## a. Centroids initialization and updating "
   ]
  },
  {
   "cell_type": "markdown",
   "metadata": {},
   "source": [
    "1. To initialize centroids we can randomly pick up $k$ points from the given data.\n",
    "\n",
    "2. To update centroids one should execute the following steps:\n",
    "    * find the closest centroid to each point in the dataset. To determine closest centroid one can use the Hamming distance:\n",
    "$$\\rho(m^1;m^2)=\\sum^n_{i=1}1\\cdot\\{m^1_i \\neq m^2_i\\},$$\n",
    "where $n$ is the dimensionality of feature space, ${m^1_i \\neq m^2_i}$ equals 1 when condition (i-th feature is not equal in considered points) is true and false otherwise.\n",
    "    I.e. we count number of features that are not equal in 2 data points.\n",
    "       \n",
    "    * for all points assigned to certain centroid determine mode value of each feature, i.e. the most popular value of feature among data points in a cluster. In a mathematical form:\n",
    "    $$c^i_j=\\underset{m^k\\in C^i}{\\operatorname{mode}}(m^k_j),$$\n",
    "    where $i$ is the i-th centroid, $j$ is the j-th centroid's feature, $C^i$ - set of points assigned to the i-th cluster (centroid) on previous step. $mode$ determines mode of the set."
   ]
  },
  {
   "cell_type": "markdown",
   "metadata": {},
   "source": [
    "## b. Cost function"
   ]
  },
  {
   "cell_type": "markdown",
   "metadata": {},
   "source": [
    "As in case for standard k-means, we can use sum of the squared distances from point to the corresponding centroid as a cost function:\n",
    "$$J=\\sum^k_{i=1}\\sum_{m^j\\in C^i}\\rho(m^j;c^i)^2,$$\n",
    "where $k$ is the number of clusters, $c^i$ - centroid of i-th cluster, $C^i$ - set of points assigned to the i-th cluster. \n",
    "\n",
    "On both steps: when reassigning points to closest centroids and when updating centroids for the new clusters - cost function is repeatedly minimized. It is intutitevely clear, as we are decrreasing distances to the assigned centroids in both cases. Thus, it is monotonically decreasing. So we can state that $J$ converges. As in case of the standard k-means this does not mean that clusters and centroid always converge as well."
   ]
  },
  {
   "cell_type": "markdown",
   "metadata": {},
   "source": [
    "## c. Batch training"
   ]
  },
  {
   "cell_type": "markdown",
   "metadata": {},
   "source": [
    "We can use Hoeffding's inequality:\n",
    "$$P(|\\epsilon-\\hat{\\epsilon}|>\\gamma)\\leq 2exp(-2\\gamma^2m)$$"
   ]
  },
  {
   "cell_type": "markdown",
   "metadata": {},
   "source": []
  },
  {
   "cell_type": "markdown",
   "metadata": {},
   "source": []
  },
  {
   "cell_type": "markdown",
   "metadata": {},
   "source": []
  },
  {
   "cell_type": "markdown",
   "metadata": {},
   "source": []
  },
  {
   "cell_type": "markdown",
   "metadata": {},
   "source": []
  }
 ],
 "metadata": {
  "kernelspec": {
   "display_name": "Python 3",
   "language": "python",
   "name": "python3"
  },
  "language_info": {
   "codemirror_mode": {
    "name": "ipython",
    "version": 3
   },
   "file_extension": ".py",
   "mimetype": "text/x-python",
   "name": "python",
   "nbconvert_exporter": "python",
   "pygments_lexer": "ipython3",
   "version": "3.6.8"
  }
 },
 "nbformat": 4,
 "nbformat_minor": 2
}
