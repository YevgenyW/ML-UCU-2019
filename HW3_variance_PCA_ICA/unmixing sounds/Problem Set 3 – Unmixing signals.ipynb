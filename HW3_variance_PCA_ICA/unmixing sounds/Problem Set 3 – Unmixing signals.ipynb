{
 "cells": [
  {
   "cell_type": "markdown",
   "metadata": {},
   "source": [
    "# Unmixing signals with ICA"
   ]
  },
  {
   "cell_type": "markdown",
   "metadata": {},
   "source": [
    "Unmixing sound signals is an example of cocktail party problem you are going to use for getting hands-on experience with ICA. You have 5 mixed sound sources in **mixed** folder (go check them out). Your goal is to unmix them."
   ]
  },
  {
   "cell_type": "code",
   "execution_count": 46,
   "metadata": {},
   "outputs": [],
   "source": [
    "import scipy.io.wavfile\n",
    "import numpy as np"
   ]
  },
  {
   "cell_type": "markdown",
   "metadata": {},
   "source": [
    "### Loading data from WAV files"
   ]
  },
  {
   "cell_type": "markdown",
   "metadata": {},
   "source": [
    "Loading data from WAV files"
   ]
  },
  {
   "cell_type": "code",
   "execution_count": 2,
   "metadata": {},
   "outputs": [
    {
     "name": "stdout",
     "output_type": "stream",
     "text": [
      "(53442, 5)\n",
      "[[ 343 -546 -327 -275  612]\n",
      " [ 627 -840 -579 -124  890]\n",
      " [ 589 -725 -491 -115  989]\n",
      " [ 712 -887 -571  -24 1111]\n",
      " [ 589 -725 -491 -115  989]\n",
      " [ 268 -462 -146 -236  678]\n",
      " [ 107 -330   27 -296  522]\n",
      " [-214  -67  372 -416  211]\n",
      " [-214  -67  372 -416  211]\n",
      " [ 159 -206  -26 -233  445]]\n"
     ]
    }
   ],
   "source": [
    "dataset = []\n",
    "for i in range(1,6):\n",
    "    sample_rate, wav_data = scipy.io.wavfile.read('mixed/mix'+str(i)+'.wav')\n",
    "    dataset.append(wav_data)\n",
    "\n",
    "dataset = np.array(dataset).T\n",
    "print(dataset.shape)\n",
    "print(dataset[:10,:])"
   ]
  },
  {
   "cell_type": "markdown",
   "metadata": {},
   "source": [
    "Normalizing data"
   ]
  },
  {
   "cell_type": "code",
   "execution_count": 3,
   "metadata": {},
   "outputs": [
    {
     "name": "stdout",
     "output_type": "stream",
     "text": [
      "[[ 0.01046796 -0.01666328 -0.00997965 -0.00839268  0.01867752]\n",
      " [ 0.0191353  -0.02563581 -0.0176704  -0.00378433  0.02716175]\n",
      " [ 0.01797558 -0.02212614 -0.01498474 -0.00350966  0.03018311]\n",
      " [ 0.0217294  -0.02707019 -0.01742625 -0.00073245  0.03390641]\n",
      " [ 0.01797558 -0.02212614 -0.01498474 -0.00350966  0.03018311]\n",
      " [ 0.00817904 -0.01409969 -0.00445575 -0.00720244  0.02069176]\n",
      " [ 0.00326551 -0.01007121  0.00082401 -0.00903357  0.01593082]\n",
      " [-0.00653103 -0.00204476  0.011353   -0.01269583  0.00643947]\n",
      " [-0.00653103 -0.00204476  0.011353   -0.01269583  0.00643947]\n",
      " [ 0.00485249 -0.00628688 -0.00079349 -0.00711089  0.01358087]]\n"
     ]
    }
   ],
   "source": [
    "maxs = np.max(np.abs(dataset), axis=0).astype(np.int64)\n",
    "data_normalized = 0.99 * dataset / maxs;\n",
    "print(data_normalized[:10,:])"
   ]
  },
  {
   "cell_type": "code",
   "execution_count": 4,
   "metadata": {},
   "outputs": [
    {
     "name": "stdout",
     "output_type": "stream",
     "text": [
      "(53442, 5)\n"
     ]
    }
   ],
   "source": [
    "print(data_normalized.shape)"
   ]
  },
  {
   "cell_type": "markdown",
   "metadata": {},
   "source": [
    "### Implementing ICA"
   ]
  },
  {
   "cell_type": "markdown",
   "metadata": {},
   "source": [
    "Initializing unmixing matrix $ W $."
   ]
  },
  {
   "cell_type": "code",
   "execution_count": 57,
   "metadata": {},
   "outputs": [],
   "source": [
    "W = np.identity(5)"
   ]
  },
  {
   "cell_type": "markdown",
   "metadata": {},
   "source": [
    "Implement learning unmixing matrix $ W $ with ICA."
   ]
  },
  {
   "cell_type": "code",
   "execution_count": 41,
   "metadata": {},
   "outputs": [
    {
     "data": {
      "text/plain": [
       "array([[144.05023609,  33.41566068,  29.51285492,  28.34824301,\n",
       "        -35.01738934],\n",
       "       [-15.54245658,  98.80108428,  30.51544743,  24.90965236,\n",
       "         17.74014687],\n",
       "       [ 50.44656336,  28.25339094, -27.09973648, -63.54872037,\n",
       "         88.4464861 ],\n",
       "       [ -0.42359464,  67.94151121, -52.49415506, -40.12728613,\n",
       "        -47.56832515],\n",
       "       [-97.27683303, -22.79527218, -99.42609132,  59.49578269,\n",
       "         42.1156579 ]])"
      ]
     },
     "execution_count": 41,
     "metadata": {},
     "output_type": "execute_result"
    }
   ],
   "source": [
    "W"
   ]
  },
  {
   "cell_type": "code",
   "execution_count": 51,
   "metadata": {},
   "outputs": [
    {
     "data": {
      "text/plain": [
       "298.3328863259075"
      ]
     },
     "execution_count": 51,
     "metadata": {},
     "output_type": "execute_result"
    }
   ],
   "source": [
    "np.linalg.norm(W)"
   ]
  },
  {
   "cell_type": "code",
   "execution_count": 60,
   "metadata": {},
   "outputs": [
    {
     "name": "stdout",
     "output_type": "stream",
     "text": [
      "final precision is 9.988551088202237e-05\n"
     ]
    }
   ],
   "source": [
    "# =============== TODO: Your code here ===============\n",
    "# Implement learning unmixing matrix W with ICA. Do not forget to account for the dimensionality.\n",
    "eps = 0.001\n",
    "alpha = 0.0001\n",
    "diff = 1\n",
    "\n",
    "while diff > eps:\n",
    "    additional = np.linalg.inv(W.T)\n",
    "    \n",
    "    grad = additional*data_normalized.shape[0]\n",
    "    \n",
    "    grad = grad + (1-2*(1/(1+np.exp(-W.dot(np.transpose(data_normalized)))))).dot(data_normalized)\n",
    "    \n",
    "    W_new = W + alpha*grad\n",
    "    \n",
    "    diff = np.linalg.norm(W_new-W)\n",
    "    \n",
    "    W = W_new\n",
    "    \n",
    "print(\"final precision is {}\".format(diff))\n",
    "    \n",
    "\n",
    "# ===================================================="
   ]
  },
  {
   "cell_type": "markdown",
   "metadata": {},
   "source": [
    "### Unmixing sounds"
   ]
  },
  {
   "cell_type": "markdown",
   "metadata": {},
   "source": [
    "Use learned matrix $ W $ to unmix the sounds into separate data sources. Make sure you represent the resulting unmixing matrix in a way so that each row is a separate track (i.e. the matrix should have 5 rows)."
   ]
  },
  {
   "cell_type": "code",
   "execution_count": 71,
   "metadata": {},
   "outputs": [],
   "source": [
    "# =============== TODO: Your code here ===============\n",
    "# Use learned matrix W to unmix the sounds into separate data sources.\n",
    "\n",
    "unmixed = W.dot(data_normalized.T)\n",
    "# ===================================================="
   ]
  },
  {
   "cell_type": "markdown",
   "metadata": {},
   "source": [
    "Saving unmixed sounds. Please note that some players may not support the resulting WAV format. If that is the case, you can use Winamp to play the unmixed sounds."
   ]
  },
  {
   "cell_type": "code",
   "execution_count": 66,
   "metadata": {},
   "outputs": [],
   "source": [
    "maxs = np.max(np.abs(unmixed), axis=1).reshape((5,1))\n",
    "unmixed_normalized = 0.99 * unmixed / maxs;\n",
    "\n",
    "for i in range(unmixed_normalized.shape[0]):\n",
    "    track = unmixed_normalized[i,:]\n",
    "    scipy.io.wavfile.write('unmixed/unmixed'+str(i)+'.wav', sample_rate, track)"
   ]
  }
 ],
 "metadata": {
  "kernelspec": {
   "display_name": "Python 3",
   "language": "python",
   "name": "python3"
  },
  "language_info": {
   "codemirror_mode": {
    "name": "ipython",
    "version": 3
   },
   "file_extension": ".py",
   "mimetype": "text/x-python",
   "name": "python",
   "nbconvert_exporter": "python",
   "pygments_lexer": "ipython3",
   "version": "3.6.8"
  }
 },
 "nbformat": 4,
 "nbformat_minor": 2
}
