{
 "cells": [
  {
   "cell_type": "markdown",
   "metadata": {},
   "source": [
    "Machine Learning\n",
    "<br>Assignment 2"
   ]
  },
  {
   "cell_type": "markdown",
   "metadata": {},
   "source": [
    "# Властивості VC розмірності"
   ]
  },
  {
   "cell_type": "markdown",
   "metadata": {},
   "source": [
    "d. [5 балів] Нехай для двох класів гіпотез $H_1$ та $H_2$ виконується $H_1\\subseteq H_2$.\n",
    "<br> Правильно чи ні: $VC(H_1) \\le VC(H_2).$\n",
    "<br> Let's define VC-dimension for $H_1$ as $d_1$: $VC(H_1) = d_1$.\n",
    "<br> According to definition, hypotheses $h_1 \\in H_1$ realise $d_1$ labels from some set S.\n",
    "If $H_1\\subseteq H_2$ then hypotheses $h_2 \\in H_2$ also realise at least $d_1$ labels, in other words we can write:\n",
    "$$VC(H_2) \\ge d_1 = VC(H_1)$$\n",
    "or\n",
    "$$ VC(H_1) = d_1 \\le VC(H_2).$$"
   ]
  },
  {
   "cell_type": "markdown",
   "metadata": {
    "ExecuteTime": {
     "end_time": "2019-04-23T07:07:01.382674Z",
     "start_time": "2019-04-23T07:07:01.377754Z"
    }
   },
   "source": [
    "e. [5 балів] Нехай $H_1 = H_2\\cup(h_1,...,h_k)$ - $H_1$ - об’єднання $H_2$ та $k$ додаткових гіпотез $h_i$. \n",
    "<br>Правильно чи ні: $VC(H_1)\\le VC(H_2) + k$\n",
    "<br> We can rewrite $VC(H_1)\\le VC(H_2) + k$ as $VC(H\\cup h)\\le VC(H) + h_k$.\n",
    "<br> Let's consider case when $k = 1:$\n",
    "<br> $VC(H\\cup h)\\le VC(H) + 1$\n",
    "<br> Let's use evidence to the contrary, in this case we can suggest that:\n",
    "$$VC(H) = d$$\n",
    "$$VC(H\\cup h)\\ge d+2,$$\n",
    "where $d$ - dimension of $VC(H)$ space.\n",
    "<br> As we mentioned above, $d$ - dimension of $VC(H)$, according to VC dimension definition it means that all hypothesis from $H$ are able to realise $d$ labels from some space $S$. \n",
    "<br> In our case we need to realise $d+2$ labels, so 2 additional labels should be realised with help of $k = 1$ additional hypothesis. But in general $1$ hypothesis isn't able to realise two labels, example of such situations is presented on the following image:"
   ]
  },
  {
   "cell_type": "code",
   "execution_count": 2,
   "metadata": {
    "ExecuteTime": {
     "end_time": "2019-04-29T16:56:18.859931Z",
     "start_time": "2019-04-29T16:56:18.701563Z"
    }
   },
   "outputs": [
    {
     "data": {
      "image/png": "[encoded data removed]",
      "text/plain": [
       "<Figure size 432x288 with 1 Axes>"
      ]
     },
     "metadata": {
      "needs_background": "light"
     },
     "output_type": "display_data"
    }
   ],
   "source": [
    "import matplotlib.pyplot as plt\n",
    "x1, y1 = [0, 0], [0, 0]\n",
    "x2, y2 = [0, 5], [0, 5]\n",
    "plt.plot(x1, y1, x2, y2)\n",
    "plt.plot(3, 3, marker = 'o', label=\"labels_1\")\n",
    "plt.plot(5, 5, marker = 'o', label=\"labels_2\")\n",
    "plt.legend()\n",
    "plt.show()"
   ]
  },
  {
   "cell_type": "markdown",
   "metadata": {},
   "source": [
    "Here we have hypothesis (orange line) that should go through center of coordinats (0, 0). Two point (with different labels) has corresponding coordinates (3, 3) and (5, 5). Hypothesis isn't able to realise both of labels, so its VC dimension is equal to 1. It means that we have contradiction in the statement:\n",
    "$$VC(H\\cup h)\\ge d+2,$$\n",
    "So our suggestion $VC(H\\cup h)\\ge d+2$ is wrong. Consequently:\n",
    "$$VC(H\\cup h)\\le d+1$$\n",
    "or\n",
    "$$VC(H\\cup h)\\le VC(H) + 1$$\n",
    "We can repeat the similar proofs for $k \\ge 2$.\n",
    "<br> So we can conclude that our suggestion is wrong and $VC(H\\cup h)\\le VC(H) + k$, where $k$ - number of hypothesis. \n"
   ]
  },
  {
   "cell_type": "markdown",
   "metadata": {},
   "source": [
    "c) Нехай $H_1 = H_2 \\cup H_3.$ Правильно чи ні:\n",
    "$$VC(H_1) \\le VC(H_2) + VC(H_3)$$\n",
    "Let's consider the following example:\n",
    "<br>$H_2 = \\{h_2\\}, \\space H_3 = \\{h_3\\}$ so that for all $x: h_2(x) = 0,\\space h_3(x) = 1.$\n",
    "<br>In this case: $ VC(H_2) = VC(H_3) = 0,\\space e.g. VC(H_2) + VC(H_3) = 0.$\n",
    "<br>But $VC(H_2 \\cup H_3) = 1$, in this case $VC(H_2 \\cup H_3) \\ge VC(H_2) + VC(H_3).$\n",
    "<br> According to the considered example we can conclude that:\n",
    "$$VC(H_1) \\le VC(H_2) + VC(H_3) \\text{ - wrong statement.}$$"
   ]
  }
 ],
 "metadata": {
  "kernelspec": {
   "display_name": "Python 3",
   "language": "python",
   "name": "python3"
  },
  "language_info": {
   "codemirror_mode": {
    "name": "ipython",
    "version": 3
   },
   "file_extension": ".py",
   "mimetype": "text/x-python",
   "name": "python",
   "nbconvert_exporter": "python",
   "pygments_lexer": "ipython3",
   "version": "3.7.3"
  },
  "toc": {
   "base_numbering": 1,
   "nav_menu": {},
   "number_sections": true,
   "sideBar": true,
   "skip_h1_title": false,
   "title_cell": "Table of Contents",
   "title_sidebar": "Contents",
   "toc_cell": false,
   "toc_position": {},
   "toc_section_display": true,
   "toc_window_display": false
  },
  "varInspector": {
   "cols": {
    "lenName": 16,
    "lenType": 16,
    "lenVar": 40
   },
   "kernels_config": {
    "python": {
     "delete_cmd_postfix": "",
     "delete_cmd_prefix": "del ",
     "library": "var_list.py",
     "varRefreshCmd": "print(var_dic_list())"
    },
    "r": {
     "delete_cmd_postfix": ") ",
     "delete_cmd_prefix": "rm(",
     "library": "var_list.r",
     "varRefreshCmd": "cat(var_dic_list()) "
    }
   },
   "types_to_exclude": [
    "module",
    "function",
    "builtin_function_or_method",
    "instance",
    "_Feature"
   ],
   "window_display": false
  }
 },
 "nbformat": 4,
 "nbformat_minor": 2
}
