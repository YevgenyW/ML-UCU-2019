{
 "cells": [
  {
   "cell_type": "markdown",
   "metadata": {},
   "source": [
    "Machine Learning\n",
    "<br>Assignment 2"
   ]
  },
  {
   "cell_type": "markdown",
   "metadata": {},
   "source": [
    "## MAP та ослаблення ваг."
   ]
  },
  {
   "cell_type": "markdown",
   "metadata": {},
   "source": [
    "d. Prove that:\n",
    "$$||\\theta_{MAP}||_2 \\le ||\\theta_{ML}||_2$$\n",
    "<br> From definition of $\\theta_{MAP}$ and $\\theta_{ML}$ we can write the following:\n",
    "$$p(\\theta_{MAP})\\cdot \\prod_{i=1}^{m} p(y^{(i)} | x^{(i)}, \\theta_{MAP}) \\ge p(\\theta_{ML})\\cdot \\prod_{i=1}^{m} p(y^{(i)} | x^{(i)}, \\theta_{ML})\\space (1)$$\n",
    "$$ \\prod_{i=1}^{m} p(y^{(i)} | x^{(i)}, \\theta_{ML}) \\ge  \\prod_{i=1}^{m} p(y^{(i)} | x^{(i)}, \\theta_{MAP}) \\space (2)$$\n",
    "<br> From (1):\n",
    "$$\\frac{\\prod_{i=1}^{m} p(y^{(i)} | x^{(i)}, \\theta_{MAP})}{\\prod_{i=1}^{m} p(y^{(i)} | x^{(i)}, \\theta_{ML})} \\ge \\frac{p(\\theta_{ML})}{p(\\theta_{MAP})}$$\n",
    "<br> From (2):\n",
    "$$\\frac{\\prod_{i=1}^{m} p(y^{(i)} | x^{(i)}, \\theta_{MAP})}{\\prod_{i=1}^{m} p(y^{(i)} | x^{(i)}, \\theta_{ML})}\\le 1$$\n",
    "In other words:\n",
    "$$\\frac{p(\\theta_{ML})}{p(\\theta_{MAP})} \\le 1$$\n",
    "Finally:\n",
    "$$p(\\theta_{ML}) \\le p(\\theta_{MAP})$$\n",
    "We know that $p(\\theta)$ has gaussian distribution $\\theta \\sim N(0, \\tau^2 I)$:\n",
    "$$\\frac{1}{(2\\pi)^{\\frac{n}{2}} |(\\tau^2 I)|^{0.5}}exp(-0.5\\cdot \\theta^{2}_{MAP}\\cdot (\\tau^2 I)^{-1}) \\le \\frac{1}{(2\\pi)^{\\frac{n}{2}} |(\\tau^2 I)|^{0.5}}exp(-0.5\\cdot \\theta^{2}_{ML}\\cdot (\\tau^2 I)^{-1})$$\n",
    "$$\\theta^{2}_{MAP} \\le \\theta^{2}_{ML}$$\n",
    "<br>\n",
    "$$\\sqrt{\\theta^{2}_{MAP}} \\le \\sqrt{\\theta^{2}_{ML}}$$\n",
    "$$||\\theta_{MAP}||_2 \\le ||\\theta_{ML}||_2$$"
   ]
  }
 ],
 "metadata": {
  "kernelspec": {
   "display_name": "Python 3",
   "language": "python",
   "name": "python3"
  },
  "language_info": {
   "codemirror_mode": {
    "name": "ipython",
    "version": 3
   },
   "file_extension": ".py",
   "mimetype": "text/x-python",
   "name": "python",
   "nbconvert_exporter": "python",
   "pygments_lexer": "ipython3",
   "version": "3.7.3"
  },
  "toc": {
   "base_numbering": 1,
   "nav_menu": {},
   "number_sections": true,
   "sideBar": true,
   "skip_h1_title": false,
   "title_cell": "Table of Contents",
   "title_sidebar": "Contents",
   "toc_cell": false,
   "toc_position": {},
   "toc_section_display": true,
   "toc_window_display": false
  },
  "varInspector": {
   "cols": {
    "lenName": 16,
    "lenType": 16,
    "lenVar": 40
   },
   "kernels_config": {
    "python": {
     "delete_cmd_postfix": "",
     "delete_cmd_prefix": "del ",
     "library": "var_list.py",
     "varRefreshCmd": "print(var_dic_list())"
    },
    "r": {
     "delete_cmd_postfix": ") ",
     "delete_cmd_prefix": "rm(",
     "library": "var_list.r",
     "varRefreshCmd": "cat(var_dic_list()) "
    }
   },
   "types_to_exclude": [
    "module",
    "function",
    "builtin_function_or_method",
    "instance",
    "_Feature"
   ],
   "window_display": false
  }
 },
 "nbformat": 4,
 "nbformat_minor": 2
}
